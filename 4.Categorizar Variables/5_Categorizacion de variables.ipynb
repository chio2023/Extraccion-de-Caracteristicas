{
 "cells": [
  {
   "cell_type": "code",
   "execution_count": 642,
   "metadata": {},
   "outputs": [],
   "source": [
    "#Importacion de librerias  pandas, numpy y matplolib respectivamente \n",
    "import pandas as pd\n",
    "import numpy as np\n",
    "import matplotlib.pyplot as plt\n",
    "from funpymodeling.exploratory import freq_tbl"
   ]
  },
  {
   "cell_type": "code",
   "execution_count": 643,
   "metadata": {},
   "outputs": [],
   "source": [
    "#Cargar archivo xlsx \n",
    "data = pd.read_csv('Actividad_3.2(PAIS_VENECIA_sin nulos)-paraAct5.csv')\n"
   ]
  },
  {
   "cell_type": "code",
   "execution_count": 644,
   "metadata": {},
   "outputs": [
    {
     "name": "stdout",
     "output_type": "stream",
     "text": [
      "<class 'pandas.core.frame.DataFrame'>\n",
      "RangeIndex: 26582 entries, 0 to 26581\n",
      "Data columns (total 53 columns):\n",
      " #   Column                       Non-Null Count  Dtype  \n",
      "---  ------                       --------------  -----  \n",
      " 0   Unnamed: 0.1                 26582 non-null  int64  \n",
      " 1   Unnamed: 0                   26582 non-null  int64  \n",
      " 2   id                           26582 non-null  float64\n",
      " 3   name                         26582 non-null  object \n",
      " 4   description                  26582 non-null  object \n",
      " 5   neighborhood_overview        26582 non-null  object \n",
      " 6   host_id                      26582 non-null  int64  \n",
      " 7   host_name                    26582 non-null  object \n",
      " 8   host_since                   26582 non-null  object \n",
      " 9   host_location                26582 non-null  object \n",
      " 10  host_about                   26582 non-null  object \n",
      " 11  host_response_time           26582 non-null  object \n",
      " 12  host_response_rate           26582 non-null  object \n",
      " 13  host_acceptance_rate         26582 non-null  object \n",
      " 14  neighbourhood                26582 non-null  object \n",
      " 15  neighbourhood_cleansed       26582 non-null  object \n",
      " 16  latitude                     26582 non-null  float64\n",
      " 17  longitude                    26582 non-null  float64\n",
      " 18  property_type                26582 non-null  object \n",
      " 19  room_type                    26582 non-null  object \n",
      " 20  accommodates                 26582 non-null  int64  \n",
      " 21  bathrooms                    26582 non-null  float64\n",
      " 22  bathrooms_text               26582 non-null  object \n",
      " 23  bedrooms                     26582 non-null  float64\n",
      " 24  beds                         26582 non-null  int64  \n",
      " 25  amenities                    26582 non-null  object \n",
      " 26  price                        26582 non-null  object \n",
      " 27  minimum_nights               26582 non-null  int64  \n",
      " 28  maximum_nights               26582 non-null  int64  \n",
      " 29  minimum_minimum_nights       26582 non-null  int64  \n",
      " 30  maximum_minimum_nights       26582 non-null  int64  \n",
      " 31  minimum_maximum_nights       26582 non-null  int64  \n",
      " 32  maximum_maximum_nights       26582 non-null  int64  \n",
      " 33  minimum_nights_avg_ntm       26582 non-null  float64\n",
      " 34  maximum_nights_avg_ntm       26582 non-null  float64\n",
      " 35  availability_30              26582 non-null  int64  \n",
      " 36  availability_60              26582 non-null  int64  \n",
      " 37  availability_90              26582 non-null  int64  \n",
      " 38  availability_365             26582 non-null  int64  \n",
      " 39  calendar_last_scraped        26582 non-null  object \n",
      " 40  number_of_reviews            26582 non-null  int64  \n",
      " 41  number_of_reviews_ltm        26582 non-null  int64  \n",
      " 42  number_of_reviews_l30d       26582 non-null  int64  \n",
      " 43  review_scores_rating         26582 non-null  float64\n",
      " 44  review_scores_accuracy       26582 non-null  float64\n",
      " 45  review_scores_cleanliness    26582 non-null  float64\n",
      " 46  review_scores_checkin        26582 non-null  float64\n",
      " 47  review_scores_communication  26582 non-null  float64\n",
      " 48  review_scores_location       26582 non-null  float64\n",
      " 49  review_scores_value          26582 non-null  float64\n",
      " 50  instant_bookable             26582 non-null  object \n",
      " 51  reviews_per_month            26582 non-null  float64\n",
      " 52  host_total_listings_count    26582 non-null  int64  \n",
      "dtypes: float64(15), int64(19), object(19)\n",
      "memory usage: 10.7+ MB\n"
     ]
    }
   ],
   "source": [
    "#Verificamos información del DataFrame\n",
    "data.info()"
   ]
  },
  {
   "cell_type": "code",
   "execution_count": 645,
   "metadata": {},
   "outputs": [
    {
     "data": {
      "text/html": [
       "<div>\n",
       "<style scoped>\n",
       "    .dataframe tbody tr th:only-of-type {\n",
       "        vertical-align: middle;\n",
       "    }\n",
       "\n",
       "    .dataframe tbody tr th {\n",
       "        vertical-align: top;\n",
       "    }\n",
       "\n",
       "    .dataframe thead th {\n",
       "        text-align: right;\n",
       "    }\n",
       "</style>\n",
       "<table border=\"1\" class=\"dataframe\">\n",
       "  <thead>\n",
       "    <tr style=\"text-align: right;\">\n",
       "      <th></th>\n",
       "      <th>Unnamed: 0.1</th>\n",
       "      <th>Unnamed: 0</th>\n",
       "      <th>id</th>\n",
       "      <th>name</th>\n",
       "      <th>description</th>\n",
       "      <th>neighborhood_overview</th>\n",
       "      <th>host_id</th>\n",
       "      <th>host_name</th>\n",
       "      <th>host_since</th>\n",
       "      <th>host_location</th>\n",
       "      <th>...</th>\n",
       "      <th>review_scores_rating</th>\n",
       "      <th>review_scores_accuracy</th>\n",
       "      <th>review_scores_cleanliness</th>\n",
       "      <th>review_scores_checkin</th>\n",
       "      <th>review_scores_communication</th>\n",
       "      <th>review_scores_location</th>\n",
       "      <th>review_scores_value</th>\n",
       "      <th>instant_bookable</th>\n",
       "      <th>reviews_per_month</th>\n",
       "      <th>host_total_listings_count</th>\n",
       "    </tr>\n",
       "  </thead>\n",
       "  <tbody>\n",
       "    <tr>\n",
       "      <th>0</th>\n",
       "      <td>0</td>\n",
       "      <td>0</td>\n",
       "      <td>35797.0</td>\n",
       "      <td>Villa Dante</td>\n",
       "      <td>Dentro de Villa un estudio de arte con futon, ...</td>\n",
       "      <td>Santa Fe Mall, Interloma Park and the Lion Des...</td>\n",
       "      <td>153786</td>\n",
       "      <td>Dici</td>\n",
       "      <td>28/06/2010</td>\n",
       "      <td>Mexico City, Mexico</td>\n",
       "      <td>...</td>\n",
       "      <td>4.58</td>\n",
       "      <td>4.79</td>\n",
       "      <td>4.86</td>\n",
       "      <td>4.87</td>\n",
       "      <td>4.83</td>\n",
       "      <td>4.98</td>\n",
       "      <td>4.48</td>\n",
       "      <td>f</td>\n",
       "      <td>1.74</td>\n",
       "      <td>1</td>\n",
       "    </tr>\n",
       "    <tr>\n",
       "      <th>1</th>\n",
       "      <td>1</td>\n",
       "      <td>1</td>\n",
       "      <td>44616.0</td>\n",
       "      <td>Condesa Haus</td>\n",
       "      <td>A new concept of hosting in mexico through a b...</td>\n",
       "      <td>No disponible</td>\n",
       "      <td>196253</td>\n",
       "      <td>Fernando</td>\n",
       "      <td>09/08/2010</td>\n",
       "      <td>Mexico City, Mexico</td>\n",
       "      <td>...</td>\n",
       "      <td>4.58</td>\n",
       "      <td>4.56</td>\n",
       "      <td>4.70</td>\n",
       "      <td>4.87</td>\n",
       "      <td>4.78</td>\n",
       "      <td>4.98</td>\n",
       "      <td>4.48</td>\n",
       "      <td>f</td>\n",
       "      <td>0.41</td>\n",
       "      <td>13</td>\n",
       "    </tr>\n",
       "    <tr>\n",
       "      <th>2</th>\n",
       "      <td>2</td>\n",
       "      <td>2</td>\n",
       "      <td>67703.0</td>\n",
       "      <td>2 bedroom apt. deco bldg, Condesa</td>\n",
       "      <td>Comfortably furnished, sunny, 2 bedroom apt., ...</td>\n",
       "      <td>No disponible</td>\n",
       "      <td>334451</td>\n",
       "      <td>Nicholas</td>\n",
       "      <td>04/01/2011</td>\n",
       "      <td>Mexico City, Mexico</td>\n",
       "      <td>...</td>\n",
       "      <td>4.90</td>\n",
       "      <td>4.81</td>\n",
       "      <td>4.75</td>\n",
       "      <td>4.94</td>\n",
       "      <td>4.92</td>\n",
       "      <td>4.98</td>\n",
       "      <td>4.91</td>\n",
       "      <td>f</td>\n",
       "      <td>0.31</td>\n",
       "      <td>4</td>\n",
       "    </tr>\n",
       "    <tr>\n",
       "      <th>3</th>\n",
       "      <td>3</td>\n",
       "      <td>3</td>\n",
       "      <td>70644.0</td>\n",
       "      <td>Beautiful light Studio Coyoacan- full equipped !</td>\n",
       "      <td>COYOACAN designer studio quiet &amp; safe! well eq...</td>\n",
       "      <td>Coyoacan is a beautiful neighborhood famous fo...</td>\n",
       "      <td>212109</td>\n",
       "      <td>Trisha</td>\n",
       "      <td>24/08/2010</td>\n",
       "      <td>Mexico City, Mexico</td>\n",
       "      <td>...</td>\n",
       "      <td>4.91</td>\n",
       "      <td>4.90</td>\n",
       "      <td>4.96</td>\n",
       "      <td>4.96</td>\n",
       "      <td>4.98</td>\n",
       "      <td>4.96</td>\n",
       "      <td>4.92</td>\n",
       "      <td>f</td>\n",
       "      <td>0.83</td>\n",
       "      <td>4</td>\n",
       "    </tr>\n",
       "    <tr>\n",
       "      <th>4</th>\n",
       "      <td>4</td>\n",
       "      <td>4</td>\n",
       "      <td>107078.0</td>\n",
       "      <td>NEW  DESIGNER LOFT</td>\n",
       "      <td>Is the best ever place triple L &lt;br /&gt;Location...</td>\n",
       "      <td>Is located in the best area of Mexico City, Po...</td>\n",
       "      <td>540705</td>\n",
       "      <td>Andrea</td>\n",
       "      <td>27/04/2011</td>\n",
       "      <td>Mexico City, Mexico</td>\n",
       "      <td>...</td>\n",
       "      <td>4.91</td>\n",
       "      <td>5.00</td>\n",
       "      <td>5.00</td>\n",
       "      <td>5.00</td>\n",
       "      <td>4.73</td>\n",
       "      <td>4.91</td>\n",
       "      <td>4.82</td>\n",
       "      <td>f</td>\n",
       "      <td>0.11</td>\n",
       "      <td>7</td>\n",
       "    </tr>\n",
       "  </tbody>\n",
       "</table>\n",
       "<p>5 rows × 53 columns</p>\n",
       "</div>"
      ],
      "text/plain": [
       "   Unnamed: 0.1  Unnamed: 0        id  \\\n",
       "0             0           0   35797.0   \n",
       "1             1           1   44616.0   \n",
       "2             2           2   67703.0   \n",
       "3             3           3   70644.0   \n",
       "4             4           4  107078.0   \n",
       "\n",
       "                                               name  \\\n",
       "0                                       Villa Dante   \n",
       "1                                      Condesa Haus   \n",
       "2                 2 bedroom apt. deco bldg, Condesa   \n",
       "3  Beautiful light Studio Coyoacan- full equipped !   \n",
       "4                                NEW  DESIGNER LOFT   \n",
       "\n",
       "                                         description  \\\n",
       "0  Dentro de Villa un estudio de arte con futon, ...   \n",
       "1  A new concept of hosting in mexico through a b...   \n",
       "2  Comfortably furnished, sunny, 2 bedroom apt., ...   \n",
       "3  COYOACAN designer studio quiet & safe! well eq...   \n",
       "4  Is the best ever place triple L <br />Location...   \n",
       "\n",
       "                               neighborhood_overview  host_id host_name  \\\n",
       "0  Santa Fe Mall, Interloma Park and the Lion Des...   153786      Dici   \n",
       "1                                      No disponible   196253  Fernando   \n",
       "2                                      No disponible   334451  Nicholas   \n",
       "3  Coyoacan is a beautiful neighborhood famous fo...   212109    Trisha   \n",
       "4  Is located in the best area of Mexico City, Po...   540705    Andrea   \n",
       "\n",
       "   host_since        host_location  ... review_scores_rating  \\\n",
       "0  28/06/2010  Mexico City, Mexico  ...                 4.58   \n",
       "1  09/08/2010  Mexico City, Mexico  ...                 4.58   \n",
       "2  04/01/2011  Mexico City, Mexico  ...                 4.90   \n",
       "3  24/08/2010  Mexico City, Mexico  ...                 4.91   \n",
       "4  27/04/2011  Mexico City, Mexico  ...                 4.91   \n",
       "\n",
       "  review_scores_accuracy review_scores_cleanliness review_scores_checkin  \\\n",
       "0                   4.79                      4.86                  4.87   \n",
       "1                   4.56                      4.70                  4.87   \n",
       "2                   4.81                      4.75                  4.94   \n",
       "3                   4.90                      4.96                  4.96   \n",
       "4                   5.00                      5.00                  5.00   \n",
       "\n",
       "  review_scores_communication review_scores_location  review_scores_value  \\\n",
       "0                        4.83                   4.98                 4.48   \n",
       "1                        4.78                   4.98                 4.48   \n",
       "2                        4.92                   4.98                 4.91   \n",
       "3                        4.98                   4.96                 4.92   \n",
       "4                        4.73                   4.91                 4.82   \n",
       "\n",
       "   instant_bookable reviews_per_month host_total_listings_count  \n",
       "0                 f              1.74                         1  \n",
       "1                 f              0.41                        13  \n",
       "2                 f              0.31                         4  \n",
       "3                 f              0.83                         4  \n",
       "4                 f              0.11                         7  \n",
       "\n",
       "[5 rows x 53 columns]"
      ]
     },
     "execution_count": 645,
     "metadata": {},
     "output_type": "execute_result"
    }
   ],
   "source": [
    "#Imprimo los primeros cinco registros del DataFrame\n",
    "data.head(5)"
   ]
  },
  {
   "cell_type": "code",
   "execution_count": 646,
   "metadata": {},
   "outputs": [
    {
     "name": "stdout",
     "output_type": "stream",
     "text": [
      "                                                    name  frequency  \\\n",
      "0         Blueground | Roma Sur 1 recamara, AC & rooftop         57   \n",
      "1                          Blueground | Polanco, parking         49   \n",
      "2                     Perfecto Loft en gran ubicaciÃƒÂ³n         48   \n",
      "3      Blueground | Amueblado, Security & Business Ce...         36   \n",
      "4                               Casa Miravalle | Condesa         21   \n",
      "...                                                  ...        ...   \n",
      "25163  Private suite in Condesa Great internet & loca...          1   \n",
      "25164    Artsy habitaciÃƒÂ³n frente al Parque MÃƒÂ©xico!          1   \n",
      "25165  LOFT 14 (Parque Delta, Hosp. siglo XXI, Foro Sol)          1   \n",
      "25166           Apartamento Embajada Las Garzas Cozy&Zen          1   \n",
      "25167                   Pretty, well centered, amenities          1   \n",
      "\n",
      "       percentage  cumulative_perc  \n",
      "0        0.002144         0.002144  \n",
      "1        0.001843         0.003988  \n",
      "2        0.001806         0.005793  \n",
      "3        0.001354         0.007148  \n",
      "4        0.000790         0.007938  \n",
      "...           ...              ...  \n",
      "25163    0.000038         0.999850  \n",
      "25164    0.000038         0.999887  \n",
      "25165    0.000038         0.999925  \n",
      "25166    0.000038         0.999962  \n",
      "25167    0.000038         1.000000  \n",
      "\n",
      "[25168 rows x 4 columns]\n",
      "\n",
      "----------------------------------------------------------------\n",
      "\n",
      "                                             description  frequency  \\\n",
      "0                                          No disponible        933   \n",
      "1      Enjoy the simplicity of this quiet, central home.        106   \n",
      "2      This place has a strategic location - it will ...         65   \n",
      "3      If you are looking for an ideal accommodation ...         59   \n",
      "4      The loft is equipped to provide the utmost com...         53   \n",
      "...                                                  ...        ...   \n",
      "21623  Casa El ÃƒÂngel has a great location! We are ...          1   \n",
      "21624  Enjoy your stay in this carefully designed, su...          1   \n",
      "21625  Our space is located in a quiet, safe area and...          1   \n",
      "21626  Style and confortable furniture all over the p...          1   \n",
      "21627  Known as New Polanco, the Granada colony has p...          1   \n",
      "\n",
      "       percentage  cumulative_perc  \n",
      "0        0.035099         0.035099  \n",
      "1        0.003988         0.039087  \n",
      "2        0.002445         0.041532  \n",
      "3        0.002220         0.043751  \n",
      "4        0.001994         0.045745  \n",
      "...           ...              ...  \n",
      "21623    0.000038         0.999850  \n",
      "21624    0.000038         0.999887  \n",
      "21625    0.000038         0.999925  \n",
      "21626    0.000038         0.999962  \n",
      "21627    0.000038         1.000000  \n",
      "\n",
      "[21628 rows x 4 columns]\n",
      "\n",
      "----------------------------------------------------------------\n",
      "\n",
      "                                   neighborhood_overview  frequency  \\\n",
      "0                                          No disponible      10895   \n",
      "1      CuauhtÃƒÂ©moc is located just west of the city...         98   \n",
      "2      High-end, urbane Polanco is one of the most so...         67   \n",
      "3      Located just south of trendy Roma Norte, famil...         60   \n",
      "4      You will find yourself in one of the best area...         47   \n",
      "...                                                  ...        ...   \n",
      "11540       Safe fractionation with 24-hour surveillance          1   \n",
      "11541  A block away is a park, several malls, cafes, ...          1   \n",
      "11542  Its located in a typical neighborhood in Mexic...          1   \n",
      "11543                            15 mins from this faith          1   \n",
      "11544  Welcome to Lomas de Bezares, a neighborhood kn...          1   \n",
      "\n",
      "       percentage  cumulative_perc  \n",
      "0        0.409864         0.409864  \n",
      "1        0.003687         0.413551  \n",
      "2        0.002521         0.416071  \n",
      "3        0.002257         0.418328  \n",
      "4        0.001768         0.420096  \n",
      "...           ...              ...  \n",
      "11540    0.000038         0.999850  \n",
      "11541    0.000038         0.999887  \n",
      "11542    0.000038         0.999925  \n",
      "11543    0.000038         0.999962  \n",
      "11544    0.000038         1.000000  \n",
      "\n",
      "[11545 rows x 4 columns]\n",
      "\n",
      "----------------------------------------------------------------\n",
      "\n",
      "       host_name  frequency  percentage  cumulative_perc\n",
      "0      Alejandra        341    0.012828         0.012828\n",
      "1      Alejandro        293    0.011022         0.023851\n",
      "2           Luis        292    0.010985         0.034836\n",
      "3        Virtual        287    0.010797         0.045632\n",
      "4     Blueground        258    0.009706         0.055338\n",
      "...          ...        ...         ...              ...\n",
      "4093   Ana Noemy          1    0.000038         0.999850\n",
      "4094     EliÃƒÂ©          1    0.000038         0.999887\n",
      "4095         Cle          1    0.000038         0.999925\n",
      "4096         Aby          1    0.000038         0.999962\n",
      "4097       Yenny          1    0.000038         1.000000\n",
      "\n",
      "[4098 rows x 4 columns]\n",
      "\n",
      "----------------------------------------------------------------\n",
      "\n",
      "      host_since  frequency  percentage  cumulative_perc\n",
      "0     30/01/2023        267    0.010044         0.010044\n",
      "1     22/12/2013        216    0.008126         0.018170\n",
      "2     02/02/2020        177    0.006659         0.024829\n",
      "3     28/09/2023        174    0.006546         0.031375\n",
      "4     27/04/2016        156    0.005869         0.037243\n",
      "...          ...        ...         ...              ...\n",
      "4045  24/05/2015          1    0.000038         0.999850\n",
      "4046  13/01/2019          1    0.000038         0.999887\n",
      "4047  31/03/2022          1    0.000038         0.999925\n",
      "4048  05/06/2014          1    0.000038         0.999962\n",
      "4049  25/08/2011          1    0.000038         1.000000\n",
      "\n",
      "[4050 rows x 4 columns]\n",
      "\n",
      "----------------------------------------------------------------\n",
      "\n",
      "                    host_location  frequency  percentage  cumulative_perc\n",
      "0             Mexico City, Mexico      21681    0.815627         0.815627\n",
      "1                          Mexico       1150    0.043262         0.858889\n",
      "2     Ciudad de MÃƒÂ©xico, Mexico        459    0.017267         0.876157\n",
      "3                    New York, NY        268    0.010082         0.886239\n",
      "4        Federal District, Mexico        254    0.009555         0.895794\n",
      "..                            ...        ...         ...              ...\n",
      "395               New Orleans, LA          1    0.000038         0.999850\n",
      "396          PÃƒÂ¡tzcuaro, Mexico          1    0.000038         0.999887\n",
      "397  Heredia Province, Costa Rica          1    0.000038         0.999925\n",
      "398               Orizaba, Mexico          1    0.000038         0.999962\n",
      "399          Sahagun City, Mexico          1    0.000038         1.000000\n",
      "\n",
      "[400 rows x 4 columns]\n",
      "\n",
      "----------------------------------------------------------------\n",
      "\n",
      "                                             host_about  frequency  \\\n",
      "0                                         No disponible      10965   \n",
      "1     Somos Blueground, una empresa internacional de...        258   \n",
      "2     Soy una anfitriona profesional, y estoy compro...        177   \n",
      "3     Wynwood House is a next-gen hospitality brand ...        148   \n",
      "4     We transform traditional apartments into Kukun...        145   \n",
      "...                                                 ...        ...   \n",
      "6085  IÃ¢â‚¬â„¢m a Mexican woman . I love different ...          1   \n",
      "6086  Soy una persona sociable, me gusta viajar, con...          1   \n",
      "6087  I grew up in California and then moved to Buen...          1   \n",
      "6088  Tranquilo, Soltero DiseÃƒÂ±ador industrial Fre...          1   \n",
      "6089  Mi nombre es Alejandro y soy abogado de profes...          1   \n",
      "\n",
      "      percentage  cumulative_perc  \n",
      "0       0.412497         0.412497  \n",
      "1       0.009706         0.422203  \n",
      "2       0.006659         0.428862  \n",
      "3       0.005568         0.434429  \n",
      "4       0.005455         0.439884  \n",
      "...          ...              ...  \n",
      "6085    0.000038         0.999850  \n",
      "6086    0.000038         0.999887  \n",
      "6087    0.000038         0.999925  \n",
      "6088    0.000038         0.999962  \n",
      "6089    0.000038         1.000000  \n",
      "\n",
      "[6090 rows x 4 columns]\n",
      "\n",
      "----------------------------------------------------------------\n",
      "\n",
      "   host_response_time  frequency  percentage  cumulative_perc\n",
      "0      within an hour      21721    0.817132         0.817132\n",
      "1  within a few hours       2287    0.086036         0.903168\n",
      "2        within a day       1307    0.049169         0.952336\n",
      "3  a few days or more       1267    0.047664         1.000000\n",
      "\n",
      "----------------------------------------------------------------\n",
      "\n",
      "   host_response_rate  frequency  percentage  cumulative_perc\n",
      "0                100%      20496    0.771048         0.771048\n",
      "1                 99%       1202    0.045219         0.816267\n",
      "2                  0%        651    0.024490         0.840757\n",
      "3                 90%        649    0.024415         0.865172\n",
      "4                 98%        296    0.011135         0.876307\n",
      "..                ...        ...         ...              ...\n",
      "71                18%          2    0.000075         0.999850\n",
      "72                54%          1    0.000038         0.999887\n",
      "73                72%          1    0.000038         0.999925\n",
      "74                46%          1    0.000038         0.999962\n",
      "75                 5%          1    0.000038         1.000000\n",
      "\n",
      "[76 rows x 4 columns]\n",
      "\n",
      "----------------------------------------------------------------\n",
      "\n",
      "   host_acceptance_rate  frequency  percentage  cumulative_perc\n",
      "0                  100%      12186    0.458431         0.458431\n",
      "1                   99%       3695    0.139004         0.597434\n",
      "2                   98%       1601    0.060229         0.657663\n",
      "3                   97%       1213    0.045632         0.703295\n",
      "4                    0%       1022    0.038447         0.741743\n",
      "..                  ...        ...         ...              ...\n",
      "93                   5%          3    0.000113         0.999774\n",
      "94                  27%          2    0.000075         0.999850\n",
      "95                  32%          2    0.000075         0.999925\n",
      "96                   7%          1    0.000038         0.999962\n",
      "97                  42%          1    0.000038         1.000000\n",
      "\n",
      "[98 rows x 4 columns]\n",
      "\n",
      "----------------------------------------------------------------\n",
      "\n",
      "                                         neighbourhood  frequency  percentage  \\\n",
      "0             Mexico City, Ciudad de MÃƒÂ©xico, Mexico      13066    0.491536   \n",
      "1                                  Venice,Veneto,Italy      10895    0.409864   \n",
      "2                            Mexico City, CDMX, Mexico        584    0.021970   \n",
      "3                Mexico City, Distrito Federal, Mexico        463    0.017418   \n",
      "4                  Centro, Ciudad de MÃƒÂ©xico, Mexico        227    0.008540   \n",
      "..                                                 ...        ...         ...   \n",
      "339                    Colonia JuÃƒÂ¡rez, CDMX, Mexico          1    0.000038   \n",
      "340        Mexico City, Alcaldia Benito Juarez, Mexico          1    0.000038   \n",
      "341  Mexico City, Villa Coyoacan, Alcaldia Coyoacan...          1    0.000038   \n",
      "342        Alvaro Obregon, Ciudad de MÃƒÂ©xico, Mexico          1    0.000038   \n",
      "343  Centro HistÃƒÂ³rico de Ciudad de MÃƒÂ©xico, Ci...          1    0.000038   \n",
      "\n",
      "     cumulative_perc  \n",
      "0           0.491536  \n",
      "1           0.901399  \n",
      "2           0.923369  \n",
      "3           0.940787  \n",
      "4           0.949327  \n",
      "..               ...  \n",
      "339         0.999850  \n",
      "340         0.999887  \n",
      "341         0.999925  \n",
      "342         0.999962  \n",
      "343         1.000000  \n",
      "\n",
      "[344 rows x 4 columns]\n",
      "\n",
      "----------------------------------------------------------------\n",
      "\n",
      "    neighbourhood_cleansed  frequency  percentage  cumulative_perc\n",
      "0            CuauhtÃƒÂ©moc      12231    0.460123         0.460123\n",
      "1           Miguel Hidalgo       4533    0.170529         0.630652\n",
      "2         Benito JuÃƒÂ¡rez       3152    0.118576         0.749229\n",
      "3              CoyoacÃƒÂ¡n       1719    0.064668         0.813897\n",
      "4     ÃƒÂlvaro ObregÃƒÂ³n       1075    0.040441         0.854338\n",
      "5                  Tlalpan        812    0.030547         0.884885\n",
      "6      Venustiano Carranza        734    0.027613         0.912497\n",
      "7        Gustavo A. Madero        506    0.019035         0.931533\n",
      "8    Cuajimalpa de Morelos        442    0.016628         0.948160\n",
      "9                Iztacalco        399    0.015010         0.963171\n",
      "10            Azcapotzalco        349    0.013129         0.976300\n",
      "11              Iztapalapa        266    0.010007         0.986307\n",
      "12  La Magdalena Contreras        143    0.005380         0.991686\n",
      "13              Xochimilco        143    0.005380         0.997066\n",
      "14              TlÃƒÂ¡huac         50    0.001881         0.998947\n",
      "15              Milpa Alta         28    0.001053         1.000000\n",
      "\n",
      "----------------------------------------------------------------\n",
      "\n",
      "                  property_type  frequency  percentage  cumulative_perc\n",
      "0            Entire rental unit       9971    0.375103         0.375103\n",
      "1                  Entire condo       3423    0.128771         0.503875\n",
      "2   Private room in rental unit       3034    0.114137         0.618012\n",
      "3          Private room in home       2266    0.085246         0.703258\n",
      "4                   Entire loft       1515    0.056993         0.760251\n",
      "..                          ...        ...         ...              ...\n",
      "87        Private room in floor          1    0.000038         0.999850\n",
      "88                 Earthen home          1    0.000038         0.999887\n",
      "89                Entire in-law          1    0.000038         0.999925\n",
      "90          Shared room in dorm          1    0.000038         0.999962\n",
      "91                        Tower          1    0.000038         1.000000\n",
      "\n",
      "[92 rows x 4 columns]\n",
      "\n",
      "----------------------------------------------------------------\n",
      "\n",
      "         room_type  frequency  percentage  cumulative_perc\n",
      "0  Entire home/apt      17363    0.653186         0.653186\n",
      "1     Private room       8693    0.327026         0.980212\n",
      "2      Shared room        401    0.015085         0.995298\n",
      "3       Hotel room        125    0.004702         1.000000\n",
      "\n",
      "----------------------------------------------------------------\n",
      "\n",
      "       bathrooms_text  frequency  percentage  cumulative_perc\n",
      "0              1 bath      11310    0.425476         0.425476\n",
      "1             2 baths       4611    0.173463         0.598939\n",
      "2      1 private bath       3147    0.118388         0.717328\n",
      "3       1 shared bath       2485    0.093484         0.810812\n",
      "4           1.5 baths       1435    0.053984         0.864796\n",
      "5           2.5 baths        854    0.032127         0.896923\n",
      "6             3 baths        546    0.020540         0.917463\n",
      "7    1.5 shared baths        459    0.017267         0.934730\n",
      "8      2 shared baths        321    0.012076         0.946806\n",
      "9           3.5 baths        250    0.009405         0.956211\n",
      "10            4 baths        186    0.006997         0.963208\n",
      "11   2.5 shared baths        121    0.004552         0.967760\n",
      "12     3 shared baths        105    0.003950         0.971710\n",
      "13          4.5 baths        102    0.003837         0.975547\n",
      "14     4 shared baths         68    0.002558         0.978105\n",
      "15            0 baths         55    0.002069         0.980175\n",
      "16     5 shared baths         54    0.002031         0.982206\n",
      "17            5 baths         51    0.001919         0.984125\n",
      "18     0 shared baths         45    0.001693         0.985817\n",
      "19            6 baths         44    0.001655         0.987473\n",
      "20          Half-bath         41    0.001542         0.989015\n",
      "21          5.5 baths         38    0.001430         0.990445\n",
      "22   3.5 shared baths         33    0.001241         0.991686\n",
      "23            7 baths         25    0.000940         0.992627\n",
      "24   Shared half-bath         21    0.000790         0.993417\n",
      "25   4.5 shared baths         20    0.000752         0.994169\n",
      "26     6 shared baths         19    0.000715         0.994884\n",
      "27            8 baths         18    0.000677         0.995561\n",
      "28         11.5 baths         17    0.000640         0.996200\n",
      "29          6.5 baths         14    0.000527         0.996727\n",
      "30     8 shared baths         12    0.000451         0.997179\n",
      "31  Private half-bath         10    0.000376         0.997555\n",
      "32          7.5 baths         10    0.000376         0.997931\n",
      "33            9 baths          8    0.000301         0.998232\n",
      "34          8.5 baths          7    0.000263         0.998495\n",
      "35           10 baths          6    0.000226         0.998721\n",
      "36           11 baths          4    0.000150         0.998871\n",
      "37           12 baths          3    0.000113         0.998984\n",
      "38         12.5 baths          2    0.000075         0.999060\n",
      "39           13 baths          2    0.000075         0.999135\n",
      "40  11.5 shared baths          2    0.000075         0.999210\n",
      "41           14 baths          2    0.000075         0.999285\n",
      "42         10.5 baths          2    0.000075         0.999360\n",
      "43    10 shared baths          2    0.000075         0.999436\n",
      "44           16 baths          2    0.000075         0.999511\n",
      "45    11 shared baths          1    0.000038         0.999549\n",
      "46           21 baths          1    0.000038         0.999586\n",
      "47           18 baths          1    0.000038         0.999624\n",
      "48         14.5 baths          1    0.000038         0.999661\n",
      "49           49 baths          1    0.000038         0.999699\n",
      "50          9.5 baths          1    0.000038         0.999737\n",
      "51    12 shared baths          1    0.000038         0.999774\n",
      "52           17 baths          1    0.000038         0.999812\n",
      "53    13 shared baths          1    0.000038         0.999850\n",
      "54           15 baths          1    0.000038         0.999887\n",
      "55           46 baths          1    0.000038         0.999925\n",
      "56           20 baths          1    0.000038         0.999962\n",
      "57           29 baths          1    0.000038         1.000000\n",
      "\n",
      "----------------------------------------------------------------\n",
      "\n",
      "                                               amenities  frequency  \\\n",
      "0      [\"Iron\", \"Elevator\", \"High chair\", \"Wifi\", \"Re...         71   \n",
      "1      [\"Iron\", \"High chair\", \"Wifi\", \"Refrigerator\",...         41   \n",
      "2                                                     []         40   \n",
      "3      [\"Iron\", \"Wifi\", \"Heating\", \"Self check-in\", \"...         29   \n",
      "4      [\"Iron\", \"Elevator\", \"High chair\", \"Wifi\", \"Re...         25   \n",
      "...                                                  ...        ...   \n",
      "24693  [\"Host greets you\", \"Kitchen\", \"Refrigerator\",...          1   \n",
      "24694  [\"Iron\", \"Washer\", \"Private patio or balcony\",...          1   \n",
      "24695  [\"Iron\", \"Private patio or balcony\", \"Heating\"...          1   \n",
      "24696  [\"Shared patio or balcony\", \"Wifi\", \"Freezer\",...          1   \n",
      "24697  [\"Free parking on premises\", \"Washer\", \"TV\", \"...          1   \n",
      "\n",
      "       percentage  cumulative_perc  \n",
      "0        0.002671         0.002671  \n",
      "1        0.001542         0.004213  \n",
      "2        0.001505         0.005718  \n",
      "3        0.001091         0.006809  \n",
      "4        0.000940         0.007750  \n",
      "...           ...              ...  \n",
      "24693    0.000038         0.999850  \n",
      "24694    0.000038         0.999887  \n",
      "24695    0.000038         0.999925  \n",
      "24696    0.000038         0.999962  \n",
      "24697    0.000038         1.000000  \n",
      "\n",
      "[24698 rows x 4 columns]\n",
      "\n",
      "----------------------------------------------------------------\n",
      "\n",
      "           price  frequency  percentage  cumulative_perc\n",
      "0      $1,000.00        351    0.013204         0.013204\n",
      "1      $1,200.00        343    0.012903         0.026108\n",
      "2        $500.00        332    0.012490         0.038598\n",
      "3        $600.00        323    0.012151         0.050749\n",
      "4        $450.00        316    0.011888         0.062636\n",
      "...          ...        ...         ...              ...\n",
      "3506   $5,880.00          1    0.000038         0.999850\n",
      "3507  $17,391.00          1    0.000038         0.999887\n",
      "3508   $7,315.00          1    0.000038         0.999925\n",
      "3509   $3,130.00          1    0.000038         0.999962\n",
      "3510      $50.00          1    0.000038         1.000000\n",
      "\n",
      "[3511 rows x 4 columns]\n",
      "\n",
      "----------------------------------------------------------------\n",
      "\n",
      "  calendar_last_scraped  frequency  percentage  cumulative_perc\n",
      "0            25/09/2024      15757     0.59277          0.59277\n",
      "1            26/09/2024      10825     0.40723          1.00000\n",
      "\n",
      "----------------------------------------------------------------\n",
      "\n",
      "  instant_bookable  frequency  percentage  cumulative_perc\n",
      "0                f      16080    0.604921         0.604921\n",
      "1                t      10502    0.395079         1.000000\n",
      "\n",
      "----------------------------------------------------------------\n",
      "\n"
     ]
    }
   ],
   "source": [
    "#Obtengo un análisis univariado de las variables categóricas\n",
    "freq_tbl(data)"
   ]
  },
  {
   "cell_type": "code",
   "execution_count": 647,
   "metadata": {},
   "outputs": [],
   "source": [
    "# Eliminar % y convertir a número\n",
    "data[\"host_response_rate\"] = data[\"host_response_rate\"].str.replace('%', '', regex=True).astype(float) / 100  "
   ]
  },
  {
   "cell_type": "code",
   "execution_count": 648,
   "metadata": {},
   "outputs": [
    {
     "data": {
      "text/plain": [
       "26582"
      ]
     },
     "execution_count": 648,
     "metadata": {},
     "output_type": "execute_result"
    }
   ],
   "source": [
    "# Contar solo los valores no nulo\n",
    "n = data[\"host_response_rate\"].dropna().shape[0]\n",
    "n"
   ]
  },
  {
   "cell_type": "code",
   "execution_count": 649,
   "metadata": {},
   "outputs": [
    {
     "name": "stdout",
     "output_type": "stream",
     "text": [
      "<class 'pandas.core.series.Series'>\n",
      "RangeIndex: 26582 entries, 0 to 26581\n",
      "Series name: host_response_rate\n",
      "Non-Null Count  Dtype  \n",
      "--------------  -----  \n",
      "26582 non-null  float64\n",
      "dtypes: float64(1)\n",
      "memory usage: 207.8 KB\n"
     ]
    }
   ],
   "source": [
    "data['host_response_rate'].info()\n",
    "n=26582"
   ]
  },
  {
   "cell_type": "code",
   "execution_count": 650,
   "metadata": {},
   "outputs": [
    {
     "data": {
      "text/plain": [
       "[0.0, 1.0]"
      ]
     },
     "execution_count": 650,
     "metadata": {},
     "output_type": "execute_result"
    }
   ],
   "source": [
    "Min = data[\"host_response_rate\"].min()  \n",
    "Max = data[\"host_response_rate\"].max()  \n",
    "Limites = [Min,Max]\n",
    "Limites"
   ]
  },
  {
   "cell_type": "code",
   "execution_count": 651,
   "metadata": {},
   "outputs": [
    {
     "data": {
      "text/plain": [
       "1.0"
      ]
     },
     "execution_count": 651,
     "metadata": {},
     "output_type": "execute_result"
    }
   ],
   "source": [
    "R = Max - Min\n",
    "R"
   ]
  },
  {
   "cell_type": "code",
   "execution_count": 652,
   "metadata": {},
   "outputs": [
    {
     "data": {
      "text/plain": [
       "15.689631010177528"
      ]
     },
     "execution_count": 652,
     "metadata": {},
     "output_type": "execute_result"
    }
   ],
   "source": [
    "ni = 1+3.32*np.log10(n)\n",
    "ni"
   ]
  },
  {
   "cell_type": "code",
   "execution_count": 653,
   "metadata": {},
   "outputs": [
    {
     "data": {
      "text/plain": [
       "0.06373636189094067"
      ]
     },
     "execution_count": 653,
     "metadata": {},
     "output_type": "execute_result"
    }
   ],
   "source": [
    "i = R/ni\n",
    "i"
   ]
  },
  {
   "cell_type": "markdown",
   "metadata": {},
   "source": [
    "**Creación de Categorias a partir de clases**"
   ]
  },
  {
   "cell_type": "code",
   "execution_count": 654,
   "metadata": {},
   "outputs": [
    {
     "data": {
      "text/plain": [
       "array([0. , 0.1, 0.2, 0.3, 0.4, 0.5, 0.6, 0.7, 0.8, 0.9, 1. , 1.1])"
      ]
     },
     "execution_count": 654,
     "metadata": {},
     "output_type": "execute_result"
    }
   ],
   "source": [
    "# Ver resultado\n",
    "intervalos = np.linspace(0.0, 1.1, 12) #Número de clases más uno\n",
    "intervalos"
   ]
  },
  {
   "cell_type": "code",
   "execution_count": 655,
   "metadata": {},
   "outputs": [],
   "source": [
    "categorias = [\"Categoría1\", \"Categoría2\", \"Categoría3\", \"Categoría4\",\n",
    "              \"Categoría5\", \"Categoría6\", \"Categoría7\", \"Categoría8\",\n",
    "              \"Categoría9\",\"Categoría10\",\"Categoría11\"]\n"
   ]
  },
  {
   "cell_type": "code",
   "execution_count": 656,
   "metadata": {},
   "outputs": [
    {
     "data": {
      "text/plain": [
       "0                NaN\n",
       "1        Categoría10\n",
       "2         Categoría8\n",
       "3        Categoría10\n",
       "4        Categoría10\n",
       "            ...     \n",
       "26577    Categoría10\n",
       "26578    Categoría10\n",
       "26579    Categoría10\n",
       "26580    Categoría10\n",
       "26581    Categoría10\n",
       "Name: host_response_rate, Length: 26582, dtype: category\n",
       "Categories (11, object): ['Categoría1' < 'Categoría2' < 'Categoría3' < 'Categoría4' ... 'Categoría8' < 'Categoría9' < 'Categoría10' < 'Categoría11']"
      ]
     },
     "execution_count": 656,
     "metadata": {},
     "output_type": "execute_result"
    }
   ],
   "source": [
    "data[\"host_response_rate\"] = pd.cut(x = data[\"host_response_rate\"], bins = intervalos, labels = categorias)\n",
    "data[\"host_response_rate\"]"
   ]
  },
  {
   "cell_type": "code",
   "execution_count": 657,
   "metadata": {},
   "outputs": [
    {
     "data": {
      "text/html": [
       "<div>\n",
       "<style scoped>\n",
       "    .dataframe tbody tr th:only-of-type {\n",
       "        vertical-align: middle;\n",
       "    }\n",
       "\n",
       "    .dataframe tbody tr th {\n",
       "        vertical-align: top;\n",
       "    }\n",
       "\n",
       "    .dataframe thead th {\n",
       "        text-align: right;\n",
       "    }\n",
       "</style>\n",
       "<table border=\"1\" class=\"dataframe\">\n",
       "  <thead>\n",
       "    <tr style=\"text-align: right;\">\n",
       "      <th></th>\n",
       "      <th>host_response_rate</th>\n",
       "      <th>frequency</th>\n",
       "      <th>percentage</th>\n",
       "      <th>cumulative_perc</th>\n",
       "    </tr>\n",
       "  </thead>\n",
       "  <tbody>\n",
       "    <tr>\n",
       "      <th>0</th>\n",
       "      <td>Categoría10</td>\n",
       "      <td>23146</td>\n",
       "      <td>0.870740</td>\n",
       "      <td>0.892600</td>\n",
       "    </tr>\n",
       "    <tr>\n",
       "      <th>1</th>\n",
       "      <td>Categoría9</td>\n",
       "      <td>1105</td>\n",
       "      <td>0.041569</td>\n",
       "      <td>0.935213</td>\n",
       "    </tr>\n",
       "    <tr>\n",
       "      <th>2</th>\n",
       "      <td>Categoría8</td>\n",
       "      <td>459</td>\n",
       "      <td>0.017267</td>\n",
       "      <td>0.952914</td>\n",
       "    </tr>\n",
       "    <tr>\n",
       "      <th>3</th>\n",
       "      <td>Categoría7</td>\n",
       "      <td>278</td>\n",
       "      <td>0.010458</td>\n",
       "      <td>0.963634</td>\n",
       "    </tr>\n",
       "    <tr>\n",
       "      <th>4</th>\n",
       "      <td>Categoría5</td>\n",
       "      <td>262</td>\n",
       "      <td>0.009856</td>\n",
       "      <td>0.973738</td>\n",
       "    </tr>\n",
       "    <tr>\n",
       "      <th>5</th>\n",
       "      <td>Categoría1</td>\n",
       "      <td>181</td>\n",
       "      <td>0.006809</td>\n",
       "      <td>0.980718</td>\n",
       "    </tr>\n",
       "    <tr>\n",
       "      <th>6</th>\n",
       "      <td>Categoría4</td>\n",
       "      <td>160</td>\n",
       "      <td>0.006019</td>\n",
       "      <td>0.986888</td>\n",
       "    </tr>\n",
       "    <tr>\n",
       "      <th>7</th>\n",
       "      <td>Categoría6</td>\n",
       "      <td>123</td>\n",
       "      <td>0.004627</td>\n",
       "      <td>0.991632</td>\n",
       "    </tr>\n",
       "    <tr>\n",
       "      <th>8</th>\n",
       "      <td>Categoría2</td>\n",
       "      <td>115</td>\n",
       "      <td>0.004326</td>\n",
       "      <td>0.996066</td>\n",
       "    </tr>\n",
       "    <tr>\n",
       "      <th>9</th>\n",
       "      <td>Categoría3</td>\n",
       "      <td>102</td>\n",
       "      <td>0.003837</td>\n",
       "      <td>1.000000</td>\n",
       "    </tr>\n",
       "    <tr>\n",
       "      <th>10</th>\n",
       "      <td>Categoría11</td>\n",
       "      <td>0</td>\n",
       "      <td>0.000000</td>\n",
       "      <td>1.000000</td>\n",
       "    </tr>\n",
       "  </tbody>\n",
       "</table>\n",
       "</div>"
      ],
      "text/plain": [
       "   host_response_rate  frequency  percentage  cumulative_perc\n",
       "0         Categoría10      23146    0.870740         0.892600\n",
       "1          Categoría9       1105    0.041569         0.935213\n",
       "2          Categoría8        459    0.017267         0.952914\n",
       "3          Categoría7        278    0.010458         0.963634\n",
       "4          Categoría5        262    0.009856         0.973738\n",
       "5          Categoría1        181    0.006809         0.980718\n",
       "6          Categoría4        160    0.006019         0.986888\n",
       "7          Categoría6        123    0.004627         0.991632\n",
       "8          Categoría2        115    0.004326         0.996066\n",
       "9          Categoría3        102    0.003837         1.000000\n",
       "10        Categoría11          0    0.000000         1.000000"
      ]
     },
     "execution_count": 657,
     "metadata": {},
     "output_type": "execute_result"
    }
   ],
   "source": [
    "#Obtengo un análisis univariado de una variable categórica en específico  \n",
    "data1 = freq_tbl(data[\"host_response_rate\"])\n",
    "data1"
   ]
  },
  {
   "cell_type": "code",
   "execution_count": 658,
   "metadata": {},
   "outputs": [
    {
     "data": {
      "text/html": [
       "<div>\n",
       "<style scoped>\n",
       "    .dataframe tbody tr th:only-of-type {\n",
       "        vertical-align: middle;\n",
       "    }\n",
       "\n",
       "    .dataframe tbody tr th {\n",
       "        vertical-align: top;\n",
       "    }\n",
       "\n",
       "    .dataframe thead th {\n",
       "        text-align: right;\n",
       "    }\n",
       "</style>\n",
       "<table border=\"1\" class=\"dataframe\">\n",
       "  <thead>\n",
       "    <tr style=\"text-align: right;\">\n",
       "      <th></th>\n",
       "      <th>host_response_rate</th>\n",
       "      <th>frequency</th>\n",
       "    </tr>\n",
       "  </thead>\n",
       "  <tbody>\n",
       "    <tr>\n",
       "      <th>0</th>\n",
       "      <td>Categoría10</td>\n",
       "      <td>23146</td>\n",
       "    </tr>\n",
       "    <tr>\n",
       "      <th>1</th>\n",
       "      <td>Categoría9</td>\n",
       "      <td>1105</td>\n",
       "    </tr>\n",
       "    <tr>\n",
       "      <th>2</th>\n",
       "      <td>Categoría8</td>\n",
       "      <td>459</td>\n",
       "    </tr>\n",
       "    <tr>\n",
       "      <th>3</th>\n",
       "      <td>Categoría7</td>\n",
       "      <td>278</td>\n",
       "    </tr>\n",
       "    <tr>\n",
       "      <th>4</th>\n",
       "      <td>Categoría5</td>\n",
       "      <td>262</td>\n",
       "    </tr>\n",
       "    <tr>\n",
       "      <th>5</th>\n",
       "      <td>Categoría1</td>\n",
       "      <td>181</td>\n",
       "    </tr>\n",
       "    <tr>\n",
       "      <th>6</th>\n",
       "      <td>Categoría4</td>\n",
       "      <td>160</td>\n",
       "    </tr>\n",
       "    <tr>\n",
       "      <th>7</th>\n",
       "      <td>Categoría6</td>\n",
       "      <td>123</td>\n",
       "    </tr>\n",
       "    <tr>\n",
       "      <th>8</th>\n",
       "      <td>Categoría2</td>\n",
       "      <td>115</td>\n",
       "    </tr>\n",
       "    <tr>\n",
       "      <th>9</th>\n",
       "      <td>Categoría3</td>\n",
       "      <td>102</td>\n",
       "    </tr>\n",
       "    <tr>\n",
       "      <th>10</th>\n",
       "      <td>Categoría11</td>\n",
       "      <td>0</td>\n",
       "    </tr>\n",
       "  </tbody>\n",
       "</table>\n",
       "</div>"
      ],
      "text/plain": [
       "   host_response_rate  frequency\n",
       "0         Categoría10      23146\n",
       "1          Categoría9       1105\n",
       "2          Categoría8        459\n",
       "3          Categoría7        278\n",
       "4          Categoría5        262\n",
       "5          Categoría1        181\n",
       "6          Categoría4        160\n",
       "7          Categoría6        123\n",
       "8          Categoría2        115\n",
       "9          Categoría3        102\n",
       "10        Categoría11          0"
      ]
     },
     "execution_count": 658,
     "metadata": {},
     "output_type": "execute_result"
    }
   ],
   "source": [
    "#Elimino las columnas \"procentage\" y \"cumulative_perc\" para trabajar con las fecuencias\n",
    "table1 = data1.drop(['percentage', 'cumulative_perc'], axis=1)\n",
    "table1"
   ]
  },
  {
   "cell_type": "code",
   "execution_count": 659,
   "metadata": {},
   "outputs": [
    {
     "data": {
      "text/html": [
       "<div>\n",
       "<style scoped>\n",
       "    .dataframe tbody tr th:only-of-type {\n",
       "        vertical-align: middle;\n",
       "    }\n",
       "\n",
       "    .dataframe tbody tr th {\n",
       "        vertical-align: top;\n",
       "    }\n",
       "\n",
       "    .dataframe thead th {\n",
       "        text-align: right;\n",
       "    }\n",
       "</style>\n",
       "<table border=\"1\" class=\"dataframe\">\n",
       "  <thead>\n",
       "    <tr style=\"text-align: right;\">\n",
       "      <th></th>\n",
       "      <th>host_response_rate</th>\n",
       "      <th>frequency</th>\n",
       "    </tr>\n",
       "  </thead>\n",
       "  <tbody>\n",
       "    <tr>\n",
       "      <th>0</th>\n",
       "      <td>Categoría10</td>\n",
       "      <td>23146</td>\n",
       "    </tr>\n",
       "    <tr>\n",
       "      <th>1</th>\n",
       "      <td>Categoría9</td>\n",
       "      <td>1105</td>\n",
       "    </tr>\n",
       "  </tbody>\n",
       "</table>\n",
       "</div>"
      ],
      "text/plain": [
       "  host_response_rate  frequency\n",
       "0        Categoría10      23146\n",
       "1         Categoría9       1105"
      ]
     },
     "execution_count": 659,
     "metadata": {},
     "output_type": "execute_result"
    }
   ],
   "source": [
    "filtro = table1[table1['frequency'] > 1000]\n",
    "filtro"
   ]
  },
  {
   "cell_type": "code",
   "execution_count": 660,
   "metadata": {},
   "outputs": [
    {
     "data": {
      "text/html": [
       "<div>\n",
       "<style scoped>\n",
       "    .dataframe tbody tr th:only-of-type {\n",
       "        vertical-align: middle;\n",
       "    }\n",
       "\n",
       "    .dataframe tbody tr th {\n",
       "        vertical-align: top;\n",
       "    }\n",
       "\n",
       "    .dataframe thead th {\n",
       "        text-align: right;\n",
       "    }\n",
       "</style>\n",
       "<table border=\"1\" class=\"dataframe\">\n",
       "  <thead>\n",
       "    <tr style=\"text-align: right;\">\n",
       "      <th></th>\n",
       "      <th>frequency</th>\n",
       "    </tr>\n",
       "    <tr>\n",
       "      <th>host_response_rate</th>\n",
       "      <th></th>\n",
       "    </tr>\n",
       "  </thead>\n",
       "  <tbody>\n",
       "    <tr>\n",
       "      <th>Categoría10</th>\n",
       "      <td>23146</td>\n",
       "    </tr>\n",
       "    <tr>\n",
       "      <th>Categoría9</th>\n",
       "      <td>1105</td>\n",
       "    </tr>\n",
       "  </tbody>\n",
       "</table>\n",
       "</div>"
      ],
      "text/plain": [
       "                    frequency\n",
       "host_response_rate           \n",
       "Categoría10             23146\n",
       "Categoría9               1105"
      ]
     },
     "execution_count": 660,
     "metadata": {},
     "output_type": "execute_result"
    }
   ],
   "source": [
    "#Ajusto el indice de mi DataFrame\n",
    "Filtro_index = filtro.set_index(\"host_response_rate\")\n",
    "Filtro_index"
   ]
  },
  {
   "cell_type": "code",
   "execution_count": 661,
   "metadata": {},
   "outputs": [
    {
     "data": {
      "text/plain": [
       "Text(0, 0.5, 'Frecuencia')"
      ]
     },
     "execution_count": 661,
     "metadata": {},
     "output_type": "execute_result"
    },
    {
     "data": {
      "image/png": "[encoded data removed]",
      "text/plain": [
       "<Figure size 1000x400 with 1 Axes>"
      ]
     },
     "metadata": {},
     "output_type": "display_data"
    }
   ],
   "source": [
    "#Realizamos grafico de barras del Dataframe filtrado\n",
    "Filtro_index.plot(kind = 'bar', width=0.8, figsize=(10,4), color = \"pink\")\n",
    "plt.title('Tiempo de respuesta del host')\n",
    "plt.xlabel('Categoria')\n",
    "plt.ylabel('Frecuencia')"
   ]
  },
  {
   "cell_type": "code",
   "execution_count": 662,
   "metadata": {},
   "outputs": [],
   "source": [
    "# Eliminar % y convertir a número\n",
    "data[\"host_acceptance_rate\"] = data[\"host_acceptance_rate\"].str.replace('%', '', regex=True).astype(float) / 100  "
   ]
  },
  {
   "cell_type": "code",
   "execution_count": 663,
   "metadata": {},
   "outputs": [
    {
     "data": {
      "text/plain": [
       "[0.0, 1.0]"
      ]
     },
     "execution_count": 663,
     "metadata": {},
     "output_type": "execute_result"
    }
   ],
   "source": [
    "Min = data[\"host_acceptance_rate\"].min()  \n",
    "Max = data[\"host_acceptance_rate\"].max()  \n",
    "Limites = [Min,Max]\n",
    "Limites"
   ]
  },
  {
   "cell_type": "code",
   "execution_count": 664,
   "metadata": {},
   "outputs": [
    {
     "data": {
      "text/plain": [
       "1.0"
      ]
     },
     "execution_count": 664,
     "metadata": {},
     "output_type": "execute_result"
    }
   ],
   "source": [
    "#Calcula el rango\n",
    "R = Max - Min\n",
    "R"
   ]
  },
  {
   "cell_type": "code",
   "execution_count": 665,
   "metadata": {},
   "outputs": [
    {
     "data": {
      "text/plain": [
       "15.689631010177528"
      ]
     },
     "execution_count": 665,
     "metadata": {},
     "output_type": "execute_result"
    }
   ],
   "source": [
    "#Calcular el número de Intervalos de Clase (ni). Se aplica la regla de Sturges (Donde “n” el tamaño de la muestra.):\n",
    "ni = 1+3.32*np.log10(n)\n",
    "ni"
   ]
  },
  {
   "cell_type": "code",
   "execution_count": 666,
   "metadata": {},
   "outputs": [
    {
     "data": {
      "text/plain": [
       "0.06373636189094067"
      ]
     },
     "execution_count": 666,
     "metadata": {},
     "output_type": "execute_result"
    }
   ],
   "source": [
    "#Calcular el Ancho del Intervalo ( i )\n",
    "i = R/ni\n",
    "i"
   ]
  },
  {
   "cell_type": "code",
   "execution_count": 667,
   "metadata": {},
   "outputs": [
    {
     "data": {
      "text/plain": [
       "array([0.        , 0.06666667, 0.13333333, 0.2       , 0.26666667,\n",
       "       0.33333333, 0.4       , 0.46666667, 0.53333333, 0.6       ,\n",
       "       0.66666667, 0.73333333, 0.8       , 0.86666667, 0.93333333,\n",
       "       1.        ])"
      ]
     },
     "execution_count": 667,
     "metadata": {},
     "output_type": "execute_result"
    }
   ],
   "source": [
    "# Ver resultado\n",
    "intervalos = np.linspace(0.0, 1.0, 16) #Número de clases más uno\n",
    "intervalos"
   ]
  },
  {
   "cell_type": "code",
   "execution_count": 668,
   "metadata": {},
   "outputs": [],
   "source": [
    "categorias = [\"Categoría1\", \"Categoría2\", \"Categoría3\", \"Categoría4\",\n",
    "              \"Categoría5\", \"Categoría6\", \"Categoría7\", \"Categoría8\",\n",
    "              \"Categoría9\",\"Categoría10\",\"Categoría11\",\"Categoría12\",\n",
    "              \"Categoría13\",\"Categoría14\",\"Categoría15\"]\n"
   ]
  },
  {
   "cell_type": "code",
   "execution_count": 669,
   "metadata": {},
   "outputs": [
    {
     "data": {
      "text/plain": [
       "0        Categoría14\n",
       "1        Categoría14\n",
       "2         Categoría9\n",
       "3        Categoría15\n",
       "4        Categoría15\n",
       "            ...     \n",
       "26577    Categoría15\n",
       "26578    Categoría15\n",
       "26579    Categoría15\n",
       "26580    Categoría15\n",
       "26581    Categoría15\n",
       "Name: host_acceptance_rate, Length: 26582, dtype: category\n",
       "Categories (15, object): ['Categoría1' < 'Categoría2' < 'Categoría3' < 'Categoría4' ... 'Categoría12' < 'Categoría13' < 'Categoría14' < 'Categoría15']"
      ]
     },
     "execution_count": 669,
     "metadata": {},
     "output_type": "execute_result"
    }
   ],
   "source": [
    "data[\"host_acceptance_rate\"] = pd.cut(x = data[\"host_acceptance_rate\"], bins = intervalos, labels = categorias)\n",
    "data[\"host_acceptance_rate\"]"
   ]
  },
  {
   "cell_type": "code",
   "execution_count": 670,
   "metadata": {},
   "outputs": [
    {
     "data": {
      "text/html": [
       "<div>\n",
       "<style scoped>\n",
       "    .dataframe tbody tr th:only-of-type {\n",
       "        vertical-align: middle;\n",
       "    }\n",
       "\n",
       "    .dataframe tbody tr th {\n",
       "        vertical-align: top;\n",
       "    }\n",
       "\n",
       "    .dataframe thead th {\n",
       "        text-align: right;\n",
       "    }\n",
       "</style>\n",
       "<table border=\"1\" class=\"dataframe\">\n",
       "  <thead>\n",
       "    <tr style=\"text-align: right;\">\n",
       "      <th></th>\n",
       "      <th>host_acceptance_rate</th>\n",
       "      <th>frequency</th>\n",
       "      <th>percentage</th>\n",
       "      <th>cumulative_perc</th>\n",
       "    </tr>\n",
       "  </thead>\n",
       "  <tbody>\n",
       "    <tr>\n",
       "      <th>0</th>\n",
       "      <td>Categoría15</td>\n",
       "      <td>20199</td>\n",
       "      <td>0.759875</td>\n",
       "      <td>0.790258</td>\n",
       "    </tr>\n",
       "    <tr>\n",
       "      <th>1</th>\n",
       "      <td>Categoría14</td>\n",
       "      <td>1619</td>\n",
       "      <td>0.060906</td>\n",
       "      <td>0.853599</td>\n",
       "    </tr>\n",
       "    <tr>\n",
       "      <th>2</th>\n",
       "      <td>Categoría13</td>\n",
       "      <td>841</td>\n",
       "      <td>0.031638</td>\n",
       "      <td>0.886502</td>\n",
       "    </tr>\n",
       "    <tr>\n",
       "      <th>3</th>\n",
       "      <td>Categoría12</td>\n",
       "      <td>648</td>\n",
       "      <td>0.024377</td>\n",
       "      <td>0.911854</td>\n",
       "    </tr>\n",
       "    <tr>\n",
       "      <th>4</th>\n",
       "      <td>Categoría11</td>\n",
       "      <td>558</td>\n",
       "      <td>0.020992</td>\n",
       "      <td>0.933685</td>\n",
       "    </tr>\n",
       "    <tr>\n",
       "      <th>5</th>\n",
       "      <td>Categoría8</td>\n",
       "      <td>404</td>\n",
       "      <td>0.015198</td>\n",
       "      <td>0.949491</td>\n",
       "    </tr>\n",
       "    <tr>\n",
       "      <th>6</th>\n",
       "      <td>Categoría5</td>\n",
       "      <td>346</td>\n",
       "      <td>0.013016</td>\n",
       "      <td>0.963028</td>\n",
       "    </tr>\n",
       "    <tr>\n",
       "      <th>7</th>\n",
       "      <td>Categoría9</td>\n",
       "      <td>216</td>\n",
       "      <td>0.008126</td>\n",
       "      <td>0.971479</td>\n",
       "    </tr>\n",
       "    <tr>\n",
       "      <th>8</th>\n",
       "      <td>Categoría10</td>\n",
       "      <td>167</td>\n",
       "      <td>0.006282</td>\n",
       "      <td>0.978013</td>\n",
       "    </tr>\n",
       "    <tr>\n",
       "      <th>9</th>\n",
       "      <td>Categoría6</td>\n",
       "      <td>142</td>\n",
       "      <td>0.005342</td>\n",
       "      <td>0.983568</td>\n",
       "    </tr>\n",
       "    <tr>\n",
       "      <th>10</th>\n",
       "      <td>Categoría3</td>\n",
       "      <td>115</td>\n",
       "      <td>0.004326</td>\n",
       "      <td>0.988067</td>\n",
       "    </tr>\n",
       "    <tr>\n",
       "      <th>11</th>\n",
       "      <td>Categoría4</td>\n",
       "      <td>107</td>\n",
       "      <td>0.004025</td>\n",
       "      <td>0.992254</td>\n",
       "    </tr>\n",
       "    <tr>\n",
       "      <th>12</th>\n",
       "      <td>Categoría7</td>\n",
       "      <td>98</td>\n",
       "      <td>0.003687</td>\n",
       "      <td>0.996088</td>\n",
       "    </tr>\n",
       "    <tr>\n",
       "      <th>13</th>\n",
       "      <td>Categoría2</td>\n",
       "      <td>81</td>\n",
       "      <td>0.003047</td>\n",
       "      <td>0.999257</td>\n",
       "    </tr>\n",
       "    <tr>\n",
       "      <th>14</th>\n",
       "      <td>Categoría1</td>\n",
       "      <td>19</td>\n",
       "      <td>0.000715</td>\n",
       "      <td>1.000000</td>\n",
       "    </tr>\n",
       "  </tbody>\n",
       "</table>\n",
       "</div>"
      ],
      "text/plain": [
       "   host_acceptance_rate  frequency  percentage  cumulative_perc\n",
       "0           Categoría15      20199    0.759875         0.790258\n",
       "1           Categoría14       1619    0.060906         0.853599\n",
       "2           Categoría13        841    0.031638         0.886502\n",
       "3           Categoría12        648    0.024377         0.911854\n",
       "4           Categoría11        558    0.020992         0.933685\n",
       "5            Categoría8        404    0.015198         0.949491\n",
       "6            Categoría5        346    0.013016         0.963028\n",
       "7            Categoría9        216    0.008126         0.971479\n",
       "8           Categoría10        167    0.006282         0.978013\n",
       "9            Categoría6        142    0.005342         0.983568\n",
       "10           Categoría3        115    0.004326         0.988067\n",
       "11           Categoría4        107    0.004025         0.992254\n",
       "12           Categoría7         98    0.003687         0.996088\n",
       "13           Categoría2         81    0.003047         0.999257\n",
       "14           Categoría1         19    0.000715         1.000000"
      ]
     },
     "execution_count": 670,
     "metadata": {},
     "output_type": "execute_result"
    }
   ],
   "source": [
    "#Obtengo un análisis univariado de una variable categórica en específico  \n",
    "data1 = freq_tbl(data[\"host_acceptance_rate\"])\n",
    "data1"
   ]
  },
  {
   "cell_type": "code",
   "execution_count": 671,
   "metadata": {},
   "outputs": [
    {
     "data": {
      "text/html": [
       "<div>\n",
       "<style scoped>\n",
       "    .dataframe tbody tr th:only-of-type {\n",
       "        vertical-align: middle;\n",
       "    }\n",
       "\n",
       "    .dataframe tbody tr th {\n",
       "        vertical-align: top;\n",
       "    }\n",
       "\n",
       "    .dataframe thead th {\n",
       "        text-align: right;\n",
       "    }\n",
       "</style>\n",
       "<table border=\"1\" class=\"dataframe\">\n",
       "  <thead>\n",
       "    <tr style=\"text-align: right;\">\n",
       "      <th></th>\n",
       "      <th>host_acceptance_rate</th>\n",
       "      <th>frequency</th>\n",
       "    </tr>\n",
       "  </thead>\n",
       "  <tbody>\n",
       "    <tr>\n",
       "      <th>0</th>\n",
       "      <td>Categoría15</td>\n",
       "      <td>20199</td>\n",
       "    </tr>\n",
       "    <tr>\n",
       "      <th>1</th>\n",
       "      <td>Categoría14</td>\n",
       "      <td>1619</td>\n",
       "    </tr>\n",
       "    <tr>\n",
       "      <th>2</th>\n",
       "      <td>Categoría13</td>\n",
       "      <td>841</td>\n",
       "    </tr>\n",
       "    <tr>\n",
       "      <th>3</th>\n",
       "      <td>Categoría12</td>\n",
       "      <td>648</td>\n",
       "    </tr>\n",
       "    <tr>\n",
       "      <th>4</th>\n",
       "      <td>Categoría11</td>\n",
       "      <td>558</td>\n",
       "    </tr>\n",
       "    <tr>\n",
       "      <th>5</th>\n",
       "      <td>Categoría8</td>\n",
       "      <td>404</td>\n",
       "    </tr>\n",
       "    <tr>\n",
       "      <th>6</th>\n",
       "      <td>Categoría5</td>\n",
       "      <td>346</td>\n",
       "    </tr>\n",
       "    <tr>\n",
       "      <th>7</th>\n",
       "      <td>Categoría9</td>\n",
       "      <td>216</td>\n",
       "    </tr>\n",
       "    <tr>\n",
       "      <th>8</th>\n",
       "      <td>Categoría10</td>\n",
       "      <td>167</td>\n",
       "    </tr>\n",
       "    <tr>\n",
       "      <th>9</th>\n",
       "      <td>Categoría6</td>\n",
       "      <td>142</td>\n",
       "    </tr>\n",
       "    <tr>\n",
       "      <th>10</th>\n",
       "      <td>Categoría3</td>\n",
       "      <td>115</td>\n",
       "    </tr>\n",
       "    <tr>\n",
       "      <th>11</th>\n",
       "      <td>Categoría4</td>\n",
       "      <td>107</td>\n",
       "    </tr>\n",
       "    <tr>\n",
       "      <th>12</th>\n",
       "      <td>Categoría7</td>\n",
       "      <td>98</td>\n",
       "    </tr>\n",
       "    <tr>\n",
       "      <th>13</th>\n",
       "      <td>Categoría2</td>\n",
       "      <td>81</td>\n",
       "    </tr>\n",
       "    <tr>\n",
       "      <th>14</th>\n",
       "      <td>Categoría1</td>\n",
       "      <td>19</td>\n",
       "    </tr>\n",
       "  </tbody>\n",
       "</table>\n",
       "</div>"
      ],
      "text/plain": [
       "   host_acceptance_rate  frequency\n",
       "0           Categoría15      20199\n",
       "1           Categoría14       1619\n",
       "2           Categoría13        841\n",
       "3           Categoría12        648\n",
       "4           Categoría11        558\n",
       "5            Categoría8        404\n",
       "6            Categoría5        346\n",
       "7            Categoría9        216\n",
       "8           Categoría10        167\n",
       "9            Categoría6        142\n",
       "10           Categoría3        115\n",
       "11           Categoría4        107\n",
       "12           Categoría7         98\n",
       "13           Categoría2         81\n",
       "14           Categoría1         19"
      ]
     },
     "execution_count": 671,
     "metadata": {},
     "output_type": "execute_result"
    }
   ],
   "source": [
    "#Elimino las columnas \"procentage\" y \"cumulative_perc\" para trabajar con las fecuencias\n",
    "table2 = data1.drop(['percentage', 'cumulative_perc'], axis=1)\n",
    "table2"
   ]
  },
  {
   "cell_type": "code",
   "execution_count": 672,
   "metadata": {},
   "outputs": [
    {
     "data": {
      "text/html": [
       "<div>\n",
       "<style scoped>\n",
       "    .dataframe tbody tr th:only-of-type {\n",
       "        vertical-align: middle;\n",
       "    }\n",
       "\n",
       "    .dataframe tbody tr th {\n",
       "        vertical-align: top;\n",
       "    }\n",
       "\n",
       "    .dataframe thead th {\n",
       "        text-align: right;\n",
       "    }\n",
       "</style>\n",
       "<table border=\"1\" class=\"dataframe\">\n",
       "  <thead>\n",
       "    <tr style=\"text-align: right;\">\n",
       "      <th></th>\n",
       "      <th>host_acceptance_rate</th>\n",
       "      <th>frequency</th>\n",
       "    </tr>\n",
       "  </thead>\n",
       "  <tbody>\n",
       "    <tr>\n",
       "      <th>0</th>\n",
       "      <td>Categoría15</td>\n",
       "      <td>20199</td>\n",
       "    </tr>\n",
       "    <tr>\n",
       "      <th>1</th>\n",
       "      <td>Categoría14</td>\n",
       "      <td>1619</td>\n",
       "    </tr>\n",
       "    <tr>\n",
       "      <th>2</th>\n",
       "      <td>Categoría13</td>\n",
       "      <td>841</td>\n",
       "    </tr>\n",
       "    <tr>\n",
       "      <th>3</th>\n",
       "      <td>Categoría12</td>\n",
       "      <td>648</td>\n",
       "    </tr>\n",
       "    <tr>\n",
       "      <th>4</th>\n",
       "      <td>Categoría11</td>\n",
       "      <td>558</td>\n",
       "    </tr>\n",
       "    <tr>\n",
       "      <th>5</th>\n",
       "      <td>Categoría8</td>\n",
       "      <td>404</td>\n",
       "    </tr>\n",
       "    <tr>\n",
       "      <th>6</th>\n",
       "      <td>Categoría5</td>\n",
       "      <td>346</td>\n",
       "    </tr>\n",
       "    <tr>\n",
       "      <th>7</th>\n",
       "      <td>Categoría9</td>\n",
       "      <td>216</td>\n",
       "    </tr>\n",
       "    <tr>\n",
       "      <th>8</th>\n",
       "      <td>Categoría10</td>\n",
       "      <td>167</td>\n",
       "    </tr>\n",
       "    <tr>\n",
       "      <th>9</th>\n",
       "      <td>Categoría6</td>\n",
       "      <td>142</td>\n",
       "    </tr>\n",
       "    <tr>\n",
       "      <th>10</th>\n",
       "      <td>Categoría3</td>\n",
       "      <td>115</td>\n",
       "    </tr>\n",
       "    <tr>\n",
       "      <th>11</th>\n",
       "      <td>Categoría4</td>\n",
       "      <td>107</td>\n",
       "    </tr>\n",
       "    <tr>\n",
       "      <th>12</th>\n",
       "      <td>Categoría7</td>\n",
       "      <td>98</td>\n",
       "    </tr>\n",
       "    <tr>\n",
       "      <th>13</th>\n",
       "      <td>Categoría2</td>\n",
       "      <td>81</td>\n",
       "    </tr>\n",
       "    <tr>\n",
       "      <th>14</th>\n",
       "      <td>Categoría1</td>\n",
       "      <td>19</td>\n",
       "    </tr>\n",
       "  </tbody>\n",
       "</table>\n",
       "</div>"
      ],
      "text/plain": [
       "   host_acceptance_rate  frequency\n",
       "0           Categoría15      20199\n",
       "1           Categoría14       1619\n",
       "2           Categoría13        841\n",
       "3           Categoría12        648\n",
       "4           Categoría11        558\n",
       "5            Categoría8        404\n",
       "6            Categoría5        346\n",
       "7            Categoría9        216\n",
       "8           Categoría10        167\n",
       "9            Categoría6        142\n",
       "10           Categoría3        115\n",
       "11           Categoría4        107\n",
       "12           Categoría7         98\n",
       "13           Categoría2         81\n",
       "14           Categoría1         19"
      ]
     },
     "execution_count": 672,
     "metadata": {},
     "output_type": "execute_result"
    }
   ],
   "source": [
    "#Elimino las columnas \"procentage\" y \"cumulative_perc\" para trabajar con las fecuencias\n",
    "table2 = data1.drop(['percentage', 'cumulative_perc'], axis=1)\n",
    "table2"
   ]
  },
  {
   "cell_type": "code",
   "execution_count": 673,
   "metadata": {},
   "outputs": [
    {
     "data": {
      "text/html": [
       "<div>\n",
       "<style scoped>\n",
       "    .dataframe tbody tr th:only-of-type {\n",
       "        vertical-align: middle;\n",
       "    }\n",
       "\n",
       "    .dataframe tbody tr th {\n",
       "        vertical-align: top;\n",
       "    }\n",
       "\n",
       "    .dataframe thead th {\n",
       "        text-align: right;\n",
       "    }\n",
       "</style>\n",
       "<table border=\"1\" class=\"dataframe\">\n",
       "  <thead>\n",
       "    <tr style=\"text-align: right;\">\n",
       "      <th></th>\n",
       "      <th>host_acceptance_rate</th>\n",
       "      <th>frequency</th>\n",
       "    </tr>\n",
       "  </thead>\n",
       "  <tbody>\n",
       "    <tr>\n",
       "      <th>0</th>\n",
       "      <td>Categoría15</td>\n",
       "      <td>20199</td>\n",
       "    </tr>\n",
       "    <tr>\n",
       "      <th>1</th>\n",
       "      <td>Categoría14</td>\n",
       "      <td>1619</td>\n",
       "    </tr>\n",
       "    <tr>\n",
       "      <th>2</th>\n",
       "      <td>Categoría13</td>\n",
       "      <td>841</td>\n",
       "    </tr>\n",
       "    <tr>\n",
       "      <th>3</th>\n",
       "      <td>Categoría12</td>\n",
       "      <td>648</td>\n",
       "    </tr>\n",
       "    <tr>\n",
       "      <th>4</th>\n",
       "      <td>Categoría11</td>\n",
       "      <td>558</td>\n",
       "    </tr>\n",
       "  </tbody>\n",
       "</table>\n",
       "</div>"
      ],
      "text/plain": [
       "  host_acceptance_rate  frequency\n",
       "0          Categoría15      20199\n",
       "1          Categoría14       1619\n",
       "2          Categoría13        841\n",
       "3          Categoría12        648\n",
       "4          Categoría11        558"
      ]
     },
     "execution_count": 673,
     "metadata": {},
     "output_type": "execute_result"
    }
   ],
   "source": [
    "filtro2 = table2[table2['frequency'] > 500]\n",
    "filtro2"
   ]
  },
  {
   "cell_type": "code",
   "execution_count": 674,
   "metadata": {},
   "outputs": [
    {
     "data": {
      "text/html": [
       "<div>\n",
       "<style scoped>\n",
       "    .dataframe tbody tr th:only-of-type {\n",
       "        vertical-align: middle;\n",
       "    }\n",
       "\n",
       "    .dataframe tbody tr th {\n",
       "        vertical-align: top;\n",
       "    }\n",
       "\n",
       "    .dataframe thead th {\n",
       "        text-align: right;\n",
       "    }\n",
       "</style>\n",
       "<table border=\"1\" class=\"dataframe\">\n",
       "  <thead>\n",
       "    <tr style=\"text-align: right;\">\n",
       "      <th></th>\n",
       "      <th>frequency</th>\n",
       "    </tr>\n",
       "    <tr>\n",
       "      <th>host_acceptance_rate</th>\n",
       "      <th></th>\n",
       "    </tr>\n",
       "  </thead>\n",
       "  <tbody>\n",
       "    <tr>\n",
       "      <th>Categoría15</th>\n",
       "      <td>20199</td>\n",
       "    </tr>\n",
       "    <tr>\n",
       "      <th>Categoría14</th>\n",
       "      <td>1619</td>\n",
       "    </tr>\n",
       "    <tr>\n",
       "      <th>Categoría13</th>\n",
       "      <td>841</td>\n",
       "    </tr>\n",
       "    <tr>\n",
       "      <th>Categoría12</th>\n",
       "      <td>648</td>\n",
       "    </tr>\n",
       "    <tr>\n",
       "      <th>Categoría11</th>\n",
       "      <td>558</td>\n",
       "    </tr>\n",
       "  </tbody>\n",
       "</table>\n",
       "</div>"
      ],
      "text/plain": [
       "                      frequency\n",
       "host_acceptance_rate           \n",
       "Categoría15               20199\n",
       "Categoría14                1619\n",
       "Categoría13                 841\n",
       "Categoría12                 648\n",
       "Categoría11                 558"
      ]
     },
     "execution_count": 674,
     "metadata": {},
     "output_type": "execute_result"
    }
   ],
   "source": [
    "#Ajusto el indice de mi DataFrame\n",
    "Filtro_index = filtro2.set_index(\"host_acceptance_rate\")\n",
    "Filtro_index"
   ]
  },
  {
   "cell_type": "code",
   "execution_count": 675,
   "metadata": {},
   "outputs": [
    {
     "data": {
      "text/plain": [
       "<Axes: xlabel='host_acceptance_rate'>"
      ]
     },
     "execution_count": 675,
     "metadata": {},
     "output_type": "execute_result"
    },
    {
     "data": {
      "image/png": "[encoded data removed]",
      "text/plain": [
       "<Figure size 1000x400 with 1 Axes>"
      ]
     },
     "metadata": {},
     "output_type": "display_data"
    }
   ],
   "source": [
    "#Realizamos grafico de área del dataframe filtrado\n",
    "Filtro_index.plot(kind='area', figsize=(10,4), alpha = 0.5)"
   ]
  },
  {
   "cell_type": "code",
   "execution_count": 676,
   "metadata": {},
   "outputs": [
    {
     "data": {
      "text/plain": [
       "[1, 7324]"
      ]
     },
     "execution_count": 676,
     "metadata": {},
     "output_type": "execute_result"
    }
   ],
   "source": [
    "Min = data[\"host_total_listings_count\"].min()  \n",
    "Max = data[\"host_total_listings_count\"].max()  \n",
    "Limites = [Min,Max]\n",
    "Limites"
   ]
  },
  {
   "cell_type": "code",
   "execution_count": 677,
   "metadata": {},
   "outputs": [
    {
     "data": {
      "text/plain": [
       "7323"
      ]
     },
     "execution_count": 677,
     "metadata": {},
     "output_type": "execute_result"
    }
   ],
   "source": [
    "#Calcula el rango\n",
    "R = Max - Min\n",
    "R"
   ]
  },
  {
   "cell_type": "code",
   "execution_count": 678,
   "metadata": {},
   "outputs": [
    {
     "data": {
      "text/plain": [
       "15.689631010177528"
      ]
     },
     "execution_count": 678,
     "metadata": {},
     "output_type": "execute_result"
    }
   ],
   "source": [
    "#Calcular el número de Intervalos de Clase (ni). Se aplica la regla de Sturges (Donde “n” el tamaño de la muestra.):\n",
    "ni = 1+3.32*np.log10(n)\n",
    "ni"
   ]
  },
  {
   "cell_type": "code",
   "execution_count": 679,
   "metadata": {},
   "outputs": [
    {
     "data": {
      "text/plain": [
       "466.74137812735853"
      ]
     },
     "execution_count": 679,
     "metadata": {},
     "output_type": "execute_result"
    }
   ],
   "source": [
    "#Calcular el Ancho del Intervalo ( i )\n",
    "i = R/ni\n",
    "i"
   ]
  },
  {
   "cell_type": "code",
   "execution_count": 680,
   "metadata": {},
   "outputs": [
    {
     "data": {
      "text/plain": [
       "array([1.0000e+00, 4.8920e+02, 9.7740e+02, 1.4656e+03, 1.9538e+03,\n",
       "       2.4420e+03, 2.9302e+03, 3.4184e+03, 3.9066e+03, 4.3948e+03,\n",
       "       4.8830e+03, 5.3712e+03, 5.8594e+03, 6.3476e+03, 6.8358e+03,\n",
       "       7.3240e+03])"
      ]
     },
     "execution_count": 680,
     "metadata": {},
     "output_type": "execute_result"
    }
   ],
   "source": [
    "# Ver resultado\n",
    "intervalos = np.linspace(1, 7324, 16) #Número de clases más uno\n",
    "intervalos"
   ]
  },
  {
   "cell_type": "code",
   "execution_count": 681,
   "metadata": {},
   "outputs": [],
   "source": [
    "categorias = [\"Categoría1\", \"Categoría2\", \"Categoría3\", \"Categoría4\",\n",
    "              \"Categoría5\", \"Categoría6\", \"Categoría7\", \"Categoría8\",\n",
    "              \"Categoría9\",\"Categoría10\",\"Categoría11\",\"Categoría12\",\n",
    "              \"Categoría13\",\"Categoría14\",\"Categoría15\"]"
   ]
  },
  {
   "cell_type": "code",
   "execution_count": 682,
   "metadata": {},
   "outputs": [
    {
     "data": {
      "text/plain": [
       "0               NaN\n",
       "1        Categoría1\n",
       "2        Categoría1\n",
       "3        Categoría1\n",
       "4        Categoría1\n",
       "            ...    \n",
       "26577    Categoría1\n",
       "26578    Categoría1\n",
       "26579    Categoría1\n",
       "26580    Categoría1\n",
       "26581    Categoría1\n",
       "Name: host_total_listings_count, Length: 26582, dtype: category\n",
       "Categories (15, object): ['Categoría1' < 'Categoría2' < 'Categoría3' < 'Categoría4' ... 'Categoría12' < 'Categoría13' < 'Categoría14' < 'Categoría15']"
      ]
     },
     "execution_count": 682,
     "metadata": {},
     "output_type": "execute_result"
    }
   ],
   "source": [
    "data[\"host_total_listings_count\"] = pd.cut(x = data[\"host_total_listings_count\"], bins = intervalos, labels = categorias)\n",
    "data[\"host_total_listings_count\"]"
   ]
  },
  {
   "cell_type": "code",
   "execution_count": 683,
   "metadata": {},
   "outputs": [
    {
     "data": {
      "text/html": [
       "<div>\n",
       "<style scoped>\n",
       "    .dataframe tbody tr th:only-of-type {\n",
       "        vertical-align: middle;\n",
       "    }\n",
       "\n",
       "    .dataframe tbody tr th {\n",
       "        vertical-align: top;\n",
       "    }\n",
       "\n",
       "    .dataframe thead th {\n",
       "        text-align: right;\n",
       "    }\n",
       "</style>\n",
       "<table border=\"1\" class=\"dataframe\">\n",
       "  <thead>\n",
       "    <tr style=\"text-align: right;\">\n",
       "      <th></th>\n",
       "      <th>host_total_listings_count</th>\n",
       "      <th>frequency</th>\n",
       "      <th>percentage</th>\n",
       "      <th>cumulative_perc</th>\n",
       "    </tr>\n",
       "  </thead>\n",
       "  <tbody>\n",
       "    <tr>\n",
       "      <th>0</th>\n",
       "      <td>Categoría1</td>\n",
       "      <td>21136</td>\n",
       "      <td>0.795125</td>\n",
       "      <td>0.981974</td>\n",
       "    </tr>\n",
       "    <tr>\n",
       "      <th>1</th>\n",
       "      <td>Categoría2</td>\n",
       "      <td>374</td>\n",
       "      <td>0.014070</td>\n",
       "      <td>0.999350</td>\n",
       "    </tr>\n",
       "    <tr>\n",
       "      <th>2</th>\n",
       "      <td>Categoría15</td>\n",
       "      <td>12</td>\n",
       "      <td>0.000451</td>\n",
       "      <td>0.999907</td>\n",
       "    </tr>\n",
       "    <tr>\n",
       "      <th>3</th>\n",
       "      <td>Categoría5</td>\n",
       "      <td>2</td>\n",
       "      <td>0.000075</td>\n",
       "      <td>1.000000</td>\n",
       "    </tr>\n",
       "    <tr>\n",
       "      <th>4</th>\n",
       "      <td>Categoría3</td>\n",
       "      <td>0</td>\n",
       "      <td>0.000000</td>\n",
       "      <td>1.000000</td>\n",
       "    </tr>\n",
       "    <tr>\n",
       "      <th>5</th>\n",
       "      <td>Categoría4</td>\n",
       "      <td>0</td>\n",
       "      <td>0.000000</td>\n",
       "      <td>1.000000</td>\n",
       "    </tr>\n",
       "    <tr>\n",
       "      <th>6</th>\n",
       "      <td>Categoría6</td>\n",
       "      <td>0</td>\n",
       "      <td>0.000000</td>\n",
       "      <td>1.000000</td>\n",
       "    </tr>\n",
       "    <tr>\n",
       "      <th>7</th>\n",
       "      <td>Categoría7</td>\n",
       "      <td>0</td>\n",
       "      <td>0.000000</td>\n",
       "      <td>1.000000</td>\n",
       "    </tr>\n",
       "    <tr>\n",
       "      <th>8</th>\n",
       "      <td>Categoría8</td>\n",
       "      <td>0</td>\n",
       "      <td>0.000000</td>\n",
       "      <td>1.000000</td>\n",
       "    </tr>\n",
       "    <tr>\n",
       "      <th>9</th>\n",
       "      <td>Categoría9</td>\n",
       "      <td>0</td>\n",
       "      <td>0.000000</td>\n",
       "      <td>1.000000</td>\n",
       "    </tr>\n",
       "    <tr>\n",
       "      <th>10</th>\n",
       "      <td>Categoría10</td>\n",
       "      <td>0</td>\n",
       "      <td>0.000000</td>\n",
       "      <td>1.000000</td>\n",
       "    </tr>\n",
       "    <tr>\n",
       "      <th>11</th>\n",
       "      <td>Categoría11</td>\n",
       "      <td>0</td>\n",
       "      <td>0.000000</td>\n",
       "      <td>1.000000</td>\n",
       "    </tr>\n",
       "    <tr>\n",
       "      <th>12</th>\n",
       "      <td>Categoría12</td>\n",
       "      <td>0</td>\n",
       "      <td>0.000000</td>\n",
       "      <td>1.000000</td>\n",
       "    </tr>\n",
       "    <tr>\n",
       "      <th>13</th>\n",
       "      <td>Categoría13</td>\n",
       "      <td>0</td>\n",
       "      <td>0.000000</td>\n",
       "      <td>1.000000</td>\n",
       "    </tr>\n",
       "    <tr>\n",
       "      <th>14</th>\n",
       "      <td>Categoría14</td>\n",
       "      <td>0</td>\n",
       "      <td>0.000000</td>\n",
       "      <td>1.000000</td>\n",
       "    </tr>\n",
       "  </tbody>\n",
       "</table>\n",
       "</div>"
      ],
      "text/plain": [
       "   host_total_listings_count  frequency  percentage  cumulative_perc\n",
       "0                 Categoría1      21136    0.795125         0.981974\n",
       "1                 Categoría2        374    0.014070         0.999350\n",
       "2                Categoría15         12    0.000451         0.999907\n",
       "3                 Categoría5          2    0.000075         1.000000\n",
       "4                 Categoría3          0    0.000000         1.000000\n",
       "5                 Categoría4          0    0.000000         1.000000\n",
       "6                 Categoría6          0    0.000000         1.000000\n",
       "7                 Categoría7          0    0.000000         1.000000\n",
       "8                 Categoría8          0    0.000000         1.000000\n",
       "9                 Categoría9          0    0.000000         1.000000\n",
       "10               Categoría10          0    0.000000         1.000000\n",
       "11               Categoría11          0    0.000000         1.000000\n",
       "12               Categoría12          0    0.000000         1.000000\n",
       "13               Categoría13          0    0.000000         1.000000\n",
       "14               Categoría14          0    0.000000         1.000000"
      ]
     },
     "execution_count": 683,
     "metadata": {},
     "output_type": "execute_result"
    }
   ],
   "source": [
    "#Obtengo un análisis univariado de una variable categórica en específico  \n",
    "data1 = freq_tbl(data[\"host_total_listings_count\"])\n",
    "data1"
   ]
  },
  {
   "cell_type": "code",
   "execution_count": 684,
   "metadata": {},
   "outputs": [
    {
     "data": {
      "text/html": [
       "<div>\n",
       "<style scoped>\n",
       "    .dataframe tbody tr th:only-of-type {\n",
       "        vertical-align: middle;\n",
       "    }\n",
       "\n",
       "    .dataframe tbody tr th {\n",
       "        vertical-align: top;\n",
       "    }\n",
       "\n",
       "    .dataframe thead th {\n",
       "        text-align: right;\n",
       "    }\n",
       "</style>\n",
       "<table border=\"1\" class=\"dataframe\">\n",
       "  <thead>\n",
       "    <tr style=\"text-align: right;\">\n",
       "      <th></th>\n",
       "      <th>host_total_listings_count</th>\n",
       "      <th>frequency</th>\n",
       "    </tr>\n",
       "  </thead>\n",
       "  <tbody>\n",
       "    <tr>\n",
       "      <th>0</th>\n",
       "      <td>Categoría1</td>\n",
       "      <td>21136</td>\n",
       "    </tr>\n",
       "    <tr>\n",
       "      <th>1</th>\n",
       "      <td>Categoría2</td>\n",
       "      <td>374</td>\n",
       "    </tr>\n",
       "    <tr>\n",
       "      <th>2</th>\n",
       "      <td>Categoría15</td>\n",
       "      <td>12</td>\n",
       "    </tr>\n",
       "    <tr>\n",
       "      <th>3</th>\n",
       "      <td>Categoría5</td>\n",
       "      <td>2</td>\n",
       "    </tr>\n",
       "    <tr>\n",
       "      <th>4</th>\n",
       "      <td>Categoría3</td>\n",
       "      <td>0</td>\n",
       "    </tr>\n",
       "    <tr>\n",
       "      <th>5</th>\n",
       "      <td>Categoría4</td>\n",
       "      <td>0</td>\n",
       "    </tr>\n",
       "    <tr>\n",
       "      <th>6</th>\n",
       "      <td>Categoría6</td>\n",
       "      <td>0</td>\n",
       "    </tr>\n",
       "    <tr>\n",
       "      <th>7</th>\n",
       "      <td>Categoría7</td>\n",
       "      <td>0</td>\n",
       "    </tr>\n",
       "    <tr>\n",
       "      <th>8</th>\n",
       "      <td>Categoría8</td>\n",
       "      <td>0</td>\n",
       "    </tr>\n",
       "    <tr>\n",
       "      <th>9</th>\n",
       "      <td>Categoría9</td>\n",
       "      <td>0</td>\n",
       "    </tr>\n",
       "    <tr>\n",
       "      <th>10</th>\n",
       "      <td>Categoría10</td>\n",
       "      <td>0</td>\n",
       "    </tr>\n",
       "    <tr>\n",
       "      <th>11</th>\n",
       "      <td>Categoría11</td>\n",
       "      <td>0</td>\n",
       "    </tr>\n",
       "    <tr>\n",
       "      <th>12</th>\n",
       "      <td>Categoría12</td>\n",
       "      <td>0</td>\n",
       "    </tr>\n",
       "    <tr>\n",
       "      <th>13</th>\n",
       "      <td>Categoría13</td>\n",
       "      <td>0</td>\n",
       "    </tr>\n",
       "    <tr>\n",
       "      <th>14</th>\n",
       "      <td>Categoría14</td>\n",
       "      <td>0</td>\n",
       "    </tr>\n",
       "  </tbody>\n",
       "</table>\n",
       "</div>"
      ],
      "text/plain": [
       "   host_total_listings_count  frequency\n",
       "0                 Categoría1      21136\n",
       "1                 Categoría2        374\n",
       "2                Categoría15         12\n",
       "3                 Categoría5          2\n",
       "4                 Categoría3          0\n",
       "5                 Categoría4          0\n",
       "6                 Categoría6          0\n",
       "7                 Categoría7          0\n",
       "8                 Categoría8          0\n",
       "9                 Categoría9          0\n",
       "10               Categoría10          0\n",
       "11               Categoría11          0\n",
       "12               Categoría12          0\n",
       "13               Categoría13          0\n",
       "14               Categoría14          0"
      ]
     },
     "execution_count": 684,
     "metadata": {},
     "output_type": "execute_result"
    }
   ],
   "source": [
    "#Elimino las columnas \"procentage\" y \"cumulative_perc\" para trabajar con las fecuencias\n",
    "table3 = data1.drop(['percentage', 'cumulative_perc'], axis=1)\n",
    "table3"
   ]
  },
  {
   "cell_type": "code",
   "execution_count": 685,
   "metadata": {},
   "outputs": [
    {
     "data": {
      "text/html": [
       "<div>\n",
       "<style scoped>\n",
       "    .dataframe tbody tr th:only-of-type {\n",
       "        vertical-align: middle;\n",
       "    }\n",
       "\n",
       "    .dataframe tbody tr th {\n",
       "        vertical-align: top;\n",
       "    }\n",
       "\n",
       "    .dataframe thead th {\n",
       "        text-align: right;\n",
       "    }\n",
       "</style>\n",
       "<table border=\"1\" class=\"dataframe\">\n",
       "  <thead>\n",
       "    <tr style=\"text-align: right;\">\n",
       "      <th></th>\n",
       "      <th>host_total_listings_count</th>\n",
       "      <th>frequency</th>\n",
       "    </tr>\n",
       "  </thead>\n",
       "  <tbody>\n",
       "    <tr>\n",
       "      <th>0</th>\n",
       "      <td>Categoría1</td>\n",
       "      <td>21136</td>\n",
       "    </tr>\n",
       "    <tr>\n",
       "      <th>1</th>\n",
       "      <td>Categoría2</td>\n",
       "      <td>374</td>\n",
       "    </tr>\n",
       "    <tr>\n",
       "      <th>2</th>\n",
       "      <td>Categoría15</td>\n",
       "      <td>12</td>\n",
       "    </tr>\n",
       "  </tbody>\n",
       "</table>\n",
       "</div>"
      ],
      "text/plain": [
       "  host_total_listings_count  frequency\n",
       "0                Categoría1      21136\n",
       "1                Categoría2        374\n",
       "2               Categoría15         12"
      ]
     },
     "execution_count": 685,
     "metadata": {},
     "output_type": "execute_result"
    }
   ],
   "source": [
    "filtro3 = table3[table3['frequency'] > 10]\n",
    "filtro3"
   ]
  },
  {
   "cell_type": "code",
   "execution_count": 686,
   "metadata": {},
   "outputs": [
    {
     "data": {
      "text/html": [
       "<div>\n",
       "<style scoped>\n",
       "    .dataframe tbody tr th:only-of-type {\n",
       "        vertical-align: middle;\n",
       "    }\n",
       "\n",
       "    .dataframe tbody tr th {\n",
       "        vertical-align: top;\n",
       "    }\n",
       "\n",
       "    .dataframe thead th {\n",
       "        text-align: right;\n",
       "    }\n",
       "</style>\n",
       "<table border=\"1\" class=\"dataframe\">\n",
       "  <thead>\n",
       "    <tr style=\"text-align: right;\">\n",
       "      <th></th>\n",
       "      <th>frequency</th>\n",
       "    </tr>\n",
       "    <tr>\n",
       "      <th>host_total_listings_count</th>\n",
       "      <th></th>\n",
       "    </tr>\n",
       "  </thead>\n",
       "  <tbody>\n",
       "    <tr>\n",
       "      <th>Categoría1</th>\n",
       "      <td>21136</td>\n",
       "    </tr>\n",
       "    <tr>\n",
       "      <th>Categoría2</th>\n",
       "      <td>374</td>\n",
       "    </tr>\n",
       "    <tr>\n",
       "      <th>Categoría15</th>\n",
       "      <td>12</td>\n",
       "    </tr>\n",
       "  </tbody>\n",
       "</table>\n",
       "</div>"
      ],
      "text/plain": [
       "                           frequency\n",
       "host_total_listings_count           \n",
       "Categoría1                     21136\n",
       "Categoría2                       374\n",
       "Categoría15                       12"
      ]
     },
     "execution_count": 686,
     "metadata": {},
     "output_type": "execute_result"
    }
   ],
   "source": [
    "#Ajusto el indice de mi DataFrame\n",
    "Filtro_index = filtro3.set_index(\"host_total_listings_count\")\n",
    "Filtro_index"
   ]
  },
  {
   "cell_type": "code",
   "execution_count": 687,
   "metadata": {},
   "outputs": [
    {
     "data": {
      "text/plain": [
       "Text(0, 0.5, 'Frecuencia')"
      ]
     },
     "execution_count": 687,
     "metadata": {},
     "output_type": "execute_result"
    },
    {
     "data": {
      "image/png": "[encoded data removed]",
      "text/plain": [
       "<Figure size 1000x400 with 1 Axes>"
      ]
     },
     "metadata": {},
     "output_type": "display_data"
    }
   ],
   "source": [
    "#Realizamos grafico de barras del Dataframe filtrado\n",
    "Filtro_index.plot(kind = 'bar', width=0.8, figsize=(10,4), color = \"pink\")\n",
    "plt.title('cantidad de anuncios que tiene el anfitrión')\n",
    "plt.xlabel('recuento total de listados de anfitriones')\n",
    "plt.ylabel('Frecuencia')"
   ]
  },
  {
   "cell_type": "code",
   "execution_count": 688,
   "metadata": {},
   "outputs": [
    {
     "data": {
      "text/plain": [
       "[1, 16]"
      ]
     },
     "execution_count": 688,
     "metadata": {},
     "output_type": "execute_result"
    }
   ],
   "source": [
    "Min = data[\"accommodates\"].min()  \n",
    "Max = data[\"accommodates\"].max()  \n",
    "Limites = [Min,Max]\n",
    "Limites"
   ]
  },
  {
   "cell_type": "code",
   "execution_count": 689,
   "metadata": {},
   "outputs": [
    {
     "data": {
      "text/plain": [
       "15"
      ]
     },
     "execution_count": 689,
     "metadata": {},
     "output_type": "execute_result"
    }
   ],
   "source": [
    "#Calcula el rango\n",
    "R = Max - Min\n",
    "R"
   ]
  },
  {
   "cell_type": "code",
   "execution_count": 690,
   "metadata": {},
   "outputs": [
    {
     "data": {
      "text/plain": [
       "15.689631010177528"
      ]
     },
     "execution_count": 690,
     "metadata": {},
     "output_type": "execute_result"
    }
   ],
   "source": [
    "#Calcular el número de Intervalos de Clase (ni). Se aplica la regla de Sturges (Donde “n” el tamaño de la muestra.):\n",
    "ni = 1+3.32*np.log10(n)\n",
    "ni"
   ]
  },
  {
   "cell_type": "code",
   "execution_count": 691,
   "metadata": {},
   "outputs": [
    {
     "data": {
      "text/plain": [
       "0.9560454283641101"
      ]
     },
     "execution_count": 691,
     "metadata": {},
     "output_type": "execute_result"
    }
   ],
   "source": [
    "#Calcular el Ancho del Intervalo ( i )\n",
    "i = R/ni\n",
    "i"
   ]
  },
  {
   "cell_type": "code",
   "execution_count": 692,
   "metadata": {},
   "outputs": [
    {
     "data": {
      "text/plain": [
       "array([ 1.        ,  2.36363636,  3.72727273,  5.09090909,  6.45454545,\n",
       "        7.81818182,  9.18181818, 10.54545455, 11.90909091, 13.27272727,\n",
       "       14.63636364, 16.        ])"
      ]
     },
     "execution_count": 692,
     "metadata": {},
     "output_type": "execute_result"
    }
   ],
   "source": [
    "# Ver resultado\n",
    "intervalos = np.linspace(1, 16, 12) #Número de clases más uno\n",
    "intervalos"
   ]
  },
  {
   "cell_type": "code",
   "execution_count": 693,
   "metadata": {},
   "outputs": [],
   "source": [
    "categorias = [\"Categoría1\", \"Categoría2\", \"Categoría3\", \"Categoría4\",\n",
    "              \"Categoría5\", \"Categoría6\", \"Categoría7\", \"Categoría8\",\n",
    "              \"Categoría9\",\"Categoría10\",\"Categoría11\"]\n"
   ]
  },
  {
   "cell_type": "code",
   "execution_count": 694,
   "metadata": {},
   "outputs": [
    {
     "data": {
      "text/plain": [
       "0         Categoría1\n",
       "1        Categoría10\n",
       "2         Categoría3\n",
       "3         Categoría1\n",
       "4         Categoría1\n",
       "            ...     \n",
       "26577     Categoría3\n",
       "26578     Categoría1\n",
       "26579     Categoría1\n",
       "26580     Categoría1\n",
       "26581     Categoría1\n",
       "Name: accommodates, Length: 26582, dtype: category\n",
       "Categories (11, object): ['Categoría1' < 'Categoría2' < 'Categoría3' < 'Categoría4' ... 'Categoría8' < 'Categoría9' < 'Categoría10' < 'Categoría11']"
      ]
     },
     "execution_count": 694,
     "metadata": {},
     "output_type": "execute_result"
    }
   ],
   "source": [
    "data[\"accommodates\"] = pd.cut(x = data[\"accommodates\"], bins = intervalos, labels = categorias)\n",
    "data[\"accommodates\"]"
   ]
  },
  {
   "cell_type": "code",
   "execution_count": 695,
   "metadata": {},
   "outputs": [
    {
     "data": {
      "text/html": [
       "<div>\n",
       "<style scoped>\n",
       "    .dataframe tbody tr th:only-of-type {\n",
       "        vertical-align: middle;\n",
       "    }\n",
       "\n",
       "    .dataframe tbody tr th {\n",
       "        vertical-align: top;\n",
       "    }\n",
       "\n",
       "    .dataframe thead th {\n",
       "        text-align: right;\n",
       "    }\n",
       "</style>\n",
       "<table border=\"1\" class=\"dataframe\">\n",
       "  <thead>\n",
       "    <tr style=\"text-align: right;\">\n",
       "      <th></th>\n",
       "      <th>accommodates</th>\n",
       "      <th>frequency</th>\n",
       "      <th>percentage</th>\n",
       "      <th>cumulative_perc</th>\n",
       "    </tr>\n",
       "  </thead>\n",
       "  <tbody>\n",
       "    <tr>\n",
       "      <th>0</th>\n",
       "      <td>Categoría1</td>\n",
       "      <td>10620</td>\n",
       "      <td>0.399518</td>\n",
       "      <td>0.450975</td>\n",
       "    </tr>\n",
       "    <tr>\n",
       "      <th>1</th>\n",
       "      <td>Categoría3</td>\n",
       "      <td>7065</td>\n",
       "      <td>0.265781</td>\n",
       "      <td>0.750987</td>\n",
       "    </tr>\n",
       "    <tr>\n",
       "      <th>2</th>\n",
       "      <td>Categoría2</td>\n",
       "      <td>2401</td>\n",
       "      <td>0.090324</td>\n",
       "      <td>0.852945</td>\n",
       "    </tr>\n",
       "    <tr>\n",
       "      <th>3</th>\n",
       "      <td>Categoría4</td>\n",
       "      <td>1800</td>\n",
       "      <td>0.067715</td>\n",
       "      <td>0.929381</td>\n",
       "    </tr>\n",
       "    <tr>\n",
       "      <th>4</th>\n",
       "      <td>Categoría6</td>\n",
       "      <td>610</td>\n",
       "      <td>0.022948</td>\n",
       "      <td>0.955285</td>\n",
       "    </tr>\n",
       "    <tr>\n",
       "      <th>5</th>\n",
       "      <td>Categoría5</td>\n",
       "      <td>311</td>\n",
       "      <td>0.011700</td>\n",
       "      <td>0.968491</td>\n",
       "    </tr>\n",
       "    <tr>\n",
       "      <th>6</th>\n",
       "      <td>Categoría11</td>\n",
       "      <td>286</td>\n",
       "      <td>0.010759</td>\n",
       "      <td>0.980636</td>\n",
       "    </tr>\n",
       "    <tr>\n",
       "      <th>7</th>\n",
       "      <td>Categoría7</td>\n",
       "      <td>216</td>\n",
       "      <td>0.008126</td>\n",
       "      <td>0.989808</td>\n",
       "    </tr>\n",
       "    <tr>\n",
       "      <th>8</th>\n",
       "      <td>Categoría9</td>\n",
       "      <td>145</td>\n",
       "      <td>0.005455</td>\n",
       "      <td>0.995966</td>\n",
       "    </tr>\n",
       "    <tr>\n",
       "      <th>9</th>\n",
       "      <td>Categoría10</td>\n",
       "      <td>66</td>\n",
       "      <td>0.002483</td>\n",
       "      <td>0.998769</td>\n",
       "    </tr>\n",
       "    <tr>\n",
       "      <th>10</th>\n",
       "      <td>Categoría8</td>\n",
       "      <td>29</td>\n",
       "      <td>0.001091</td>\n",
       "      <td>1.000000</td>\n",
       "    </tr>\n",
       "  </tbody>\n",
       "</table>\n",
       "</div>"
      ],
      "text/plain": [
       "   accommodates  frequency  percentage  cumulative_perc\n",
       "0    Categoría1      10620    0.399518         0.450975\n",
       "1    Categoría3       7065    0.265781         0.750987\n",
       "2    Categoría2       2401    0.090324         0.852945\n",
       "3    Categoría4       1800    0.067715         0.929381\n",
       "4    Categoría6        610    0.022948         0.955285\n",
       "5    Categoría5        311    0.011700         0.968491\n",
       "6   Categoría11        286    0.010759         0.980636\n",
       "7    Categoría7        216    0.008126         0.989808\n",
       "8    Categoría9        145    0.005455         0.995966\n",
       "9   Categoría10         66    0.002483         0.998769\n",
       "10   Categoría8         29    0.001091         1.000000"
      ]
     },
     "execution_count": 695,
     "metadata": {},
     "output_type": "execute_result"
    }
   ],
   "source": [
    "#Obtengo un análisis univariado de una variable categórica en específico  \n",
    "data1 = freq_tbl(data[\"accommodates\"])\n",
    "data1"
   ]
  },
  {
   "cell_type": "code",
   "execution_count": 696,
   "metadata": {},
   "outputs": [
    {
     "data": {
      "text/html": [
       "<div>\n",
       "<style scoped>\n",
       "    .dataframe tbody tr th:only-of-type {\n",
       "        vertical-align: middle;\n",
       "    }\n",
       "\n",
       "    .dataframe tbody tr th {\n",
       "        vertical-align: top;\n",
       "    }\n",
       "\n",
       "    .dataframe thead th {\n",
       "        text-align: right;\n",
       "    }\n",
       "</style>\n",
       "<table border=\"1\" class=\"dataframe\">\n",
       "  <thead>\n",
       "    <tr style=\"text-align: right;\">\n",
       "      <th></th>\n",
       "      <th>accommodates</th>\n",
       "      <th>frequency</th>\n",
       "    </tr>\n",
       "  </thead>\n",
       "  <tbody>\n",
       "    <tr>\n",
       "      <th>0</th>\n",
       "      <td>Categoría1</td>\n",
       "      <td>10620</td>\n",
       "    </tr>\n",
       "    <tr>\n",
       "      <th>1</th>\n",
       "      <td>Categoría3</td>\n",
       "      <td>7065</td>\n",
       "    </tr>\n",
       "    <tr>\n",
       "      <th>2</th>\n",
       "      <td>Categoría2</td>\n",
       "      <td>2401</td>\n",
       "    </tr>\n",
       "    <tr>\n",
       "      <th>3</th>\n",
       "      <td>Categoría4</td>\n",
       "      <td>1800</td>\n",
       "    </tr>\n",
       "    <tr>\n",
       "      <th>4</th>\n",
       "      <td>Categoría6</td>\n",
       "      <td>610</td>\n",
       "    </tr>\n",
       "    <tr>\n",
       "      <th>5</th>\n",
       "      <td>Categoría5</td>\n",
       "      <td>311</td>\n",
       "    </tr>\n",
       "    <tr>\n",
       "      <th>6</th>\n",
       "      <td>Categoría11</td>\n",
       "      <td>286</td>\n",
       "    </tr>\n",
       "    <tr>\n",
       "      <th>7</th>\n",
       "      <td>Categoría7</td>\n",
       "      <td>216</td>\n",
       "    </tr>\n",
       "    <tr>\n",
       "      <th>8</th>\n",
       "      <td>Categoría9</td>\n",
       "      <td>145</td>\n",
       "    </tr>\n",
       "    <tr>\n",
       "      <th>9</th>\n",
       "      <td>Categoría10</td>\n",
       "      <td>66</td>\n",
       "    </tr>\n",
       "    <tr>\n",
       "      <th>10</th>\n",
       "      <td>Categoría8</td>\n",
       "      <td>29</td>\n",
       "    </tr>\n",
       "  </tbody>\n",
       "</table>\n",
       "</div>"
      ],
      "text/plain": [
       "   accommodates  frequency\n",
       "0    Categoría1      10620\n",
       "1    Categoría3       7065\n",
       "2    Categoría2       2401\n",
       "3    Categoría4       1800\n",
       "4    Categoría6        610\n",
       "5    Categoría5        311\n",
       "6   Categoría11        286\n",
       "7    Categoría7        216\n",
       "8    Categoría9        145\n",
       "9   Categoría10         66\n",
       "10   Categoría8         29"
      ]
     },
     "execution_count": 696,
     "metadata": {},
     "output_type": "execute_result"
    }
   ],
   "source": [
    "#Elimino las columnas \"procentage\" y \"cumulative_perc\" para trabajar con las fecuencias\n",
    "table4 = data1.drop(['percentage', 'cumulative_perc'], axis=1)\n",
    "table4"
   ]
  },
  {
   "cell_type": "code",
   "execution_count": 697,
   "metadata": {},
   "outputs": [
    {
     "data": {
      "text/html": [
       "<div>\n",
       "<style scoped>\n",
       "    .dataframe tbody tr th:only-of-type {\n",
       "        vertical-align: middle;\n",
       "    }\n",
       "\n",
       "    .dataframe tbody tr th {\n",
       "        vertical-align: top;\n",
       "    }\n",
       "\n",
       "    .dataframe thead th {\n",
       "        text-align: right;\n",
       "    }\n",
       "</style>\n",
       "<table border=\"1\" class=\"dataframe\">\n",
       "  <thead>\n",
       "    <tr style=\"text-align: right;\">\n",
       "      <th></th>\n",
       "      <th>accommodates</th>\n",
       "      <th>frequency</th>\n",
       "    </tr>\n",
       "  </thead>\n",
       "  <tbody>\n",
       "    <tr>\n",
       "      <th>0</th>\n",
       "      <td>Categoría1</td>\n",
       "      <td>10620</td>\n",
       "    </tr>\n",
       "    <tr>\n",
       "      <th>1</th>\n",
       "      <td>Categoría3</td>\n",
       "      <td>7065</td>\n",
       "    </tr>\n",
       "    <tr>\n",
       "      <th>2</th>\n",
       "      <td>Categoría2</td>\n",
       "      <td>2401</td>\n",
       "    </tr>\n",
       "    <tr>\n",
       "      <th>3</th>\n",
       "      <td>Categoría4</td>\n",
       "      <td>1800</td>\n",
       "    </tr>\n",
       "    <tr>\n",
       "      <th>4</th>\n",
       "      <td>Categoría6</td>\n",
       "      <td>610</td>\n",
       "    </tr>\n",
       "  </tbody>\n",
       "</table>\n",
       "</div>"
      ],
      "text/plain": [
       "  accommodates  frequency\n",
       "0   Categoría1      10620\n",
       "1   Categoría3       7065\n",
       "2   Categoría2       2401\n",
       "3   Categoría4       1800\n",
       "4   Categoría6        610"
      ]
     },
     "execution_count": 697,
     "metadata": {},
     "output_type": "execute_result"
    }
   ],
   "source": [
    "filtro4 = table4[table4['frequency'] > 500]\n",
    "filtro4"
   ]
  },
  {
   "cell_type": "code",
   "execution_count": 698,
   "metadata": {},
   "outputs": [
    {
     "data": {
      "text/html": [
       "<div>\n",
       "<style scoped>\n",
       "    .dataframe tbody tr th:only-of-type {\n",
       "        vertical-align: middle;\n",
       "    }\n",
       "\n",
       "    .dataframe tbody tr th {\n",
       "        vertical-align: top;\n",
       "    }\n",
       "\n",
       "    .dataframe thead th {\n",
       "        text-align: right;\n",
       "    }\n",
       "</style>\n",
       "<table border=\"1\" class=\"dataframe\">\n",
       "  <thead>\n",
       "    <tr style=\"text-align: right;\">\n",
       "      <th></th>\n",
       "      <th>frequency</th>\n",
       "    </tr>\n",
       "    <tr>\n",
       "      <th>accommodates</th>\n",
       "      <th></th>\n",
       "    </tr>\n",
       "  </thead>\n",
       "  <tbody>\n",
       "    <tr>\n",
       "      <th>Categoría1</th>\n",
       "      <td>10620</td>\n",
       "    </tr>\n",
       "    <tr>\n",
       "      <th>Categoría3</th>\n",
       "      <td>7065</td>\n",
       "    </tr>\n",
       "    <tr>\n",
       "      <th>Categoría2</th>\n",
       "      <td>2401</td>\n",
       "    </tr>\n",
       "    <tr>\n",
       "      <th>Categoría4</th>\n",
       "      <td>1800</td>\n",
       "    </tr>\n",
       "    <tr>\n",
       "      <th>Categoría6</th>\n",
       "      <td>610</td>\n",
       "    </tr>\n",
       "  </tbody>\n",
       "</table>\n",
       "</div>"
      ],
      "text/plain": [
       "              frequency\n",
       "accommodates           \n",
       "Categoría1        10620\n",
       "Categoría3         7065\n",
       "Categoría2         2401\n",
       "Categoría4         1800\n",
       "Categoría6          610"
      ]
     },
     "execution_count": 698,
     "metadata": {},
     "output_type": "execute_result"
    }
   ],
   "source": [
    "#Ajusto el indice de mi DataFrame\n",
    "Filtro_index = filtro4.set_index(\"accommodates\")\n",
    "Filtro_index"
   ]
  },
  {
   "cell_type": "code",
   "execution_count": 699,
   "metadata": {},
   "outputs": [
    {
     "data": {
      "text/plain": [
       "<Axes: ylabel='frequency'>"
      ]
     },
     "execution_count": 699,
     "metadata": {},
     "output_type": "execute_result"
    },
    {
     "data": {
      "image/png": "[encoded data removed]",
      "text/plain": [
       "<Figure size 1000x500 with 1 Axes>"
      ]
     },
     "metadata": {},
     "output_type": "display_data"
    }
   ],
   "source": [
    "#Realizamos grafico de pastel del dataframe filtrado\n",
    "Filtro_index[\"frequency\"].plot(kind='pie', figsize=(10,5), shadow=True, autopct=\"%0.1f %%\")"
   ]
  },
  {
   "cell_type": "markdown",
   "metadata": {},
   "source": [
    "---------------------------------------------------------------------------------------------------------------------------"
   ]
  },
  {
   "cell_type": "code",
   "execution_count": 852,
   "metadata": {},
   "outputs": [
    {
     "data": {
      "text/plain": [
       "0"
      ]
     },
     "execution_count": 852,
     "metadata": {},
     "output_type": "execute_result"
    }
   ],
   "source": [
    "n = data['bathrooms_text'].dropna().shape[0]\n",
    "n"
   ]
  },
  {
   "cell_type": "code",
   "execution_count": 863,
   "metadata": {},
   "outputs": [],
   "source": [
    "data['bathrooms_numeric'] = data['bathrooms_text'].astype(str).str.extract(r'(\\d+)').astype(float)\n"
   ]
  },
  {
   "cell_type": "code",
   "execution_count": 866,
   "metadata": {},
   "outputs": [],
   "source": [
    "# Filtrar valores 0.0\n",
    "data = data[data['bathrooms_numeric'] != 0.0]"
   ]
  },
  {
   "cell_type": "code",
   "execution_count": 867,
   "metadata": {},
   "outputs": [
    {
     "data": {
      "text/plain": [
       "[nan, nan]"
      ]
     },
     "execution_count": 867,
     "metadata": {},
     "output_type": "execute_result"
    }
   ],
   "source": [
    "Min = data['bathrooms_text'].min()  \n",
    "Max = data['bathrooms_text'].max()  \n",
    "Limites = [Min,Max]\n",
    "Limites"
   ]
  },
  {
   "cell_type": "code",
   "execution_count": 703,
   "metadata": {},
   "outputs": [
    {
     "data": {
      "text/plain": [
       "nan"
      ]
     },
     "execution_count": 703,
     "metadata": {},
     "output_type": "execute_result"
    }
   ],
   "source": [
    "#Calcula el rango\n",
    "R = Max - Min\n",
    "R"
   ]
  },
  {
   "cell_type": "markdown",
   "metadata": {},
   "source": [
    "-----------------------------------------"
   ]
  },
  {
   "cell_type": "code",
   "execution_count": 704,
   "metadata": {},
   "outputs": [
    {
     "name": "stdout",
     "output_type": "stream",
     "text": [
      "<class 'pandas.core.series.Series'>\n",
      "RangeIndex: 26582 entries, 0 to 26581\n",
      "Series name: beds\n",
      "Non-Null Count  Dtype\n",
      "--------------  -----\n",
      "26582 non-null  int64\n",
      "dtypes: int64(1)\n",
      "memory usage: 207.8 KB\n"
     ]
    }
   ],
   "source": [
    "data['beds'].info()\n",
    "n=26582"
   ]
  },
  {
   "cell_type": "code",
   "execution_count": 705,
   "metadata": {},
   "outputs": [
    {
     "data": {
      "text/plain": [
       "[0, 50]"
      ]
     },
     "execution_count": 705,
     "metadata": {},
     "output_type": "execute_result"
    }
   ],
   "source": [
    "Min = data[\"beds\"].min()  \n",
    "Max = data[\"beds\"].max()  \n",
    "Limites = [Min,Max]\n",
    "Limites"
   ]
  },
  {
   "cell_type": "code",
   "execution_count": 706,
   "metadata": {},
   "outputs": [
    {
     "data": {
      "text/plain": [
       "50"
      ]
     },
     "execution_count": 706,
     "metadata": {},
     "output_type": "execute_result"
    }
   ],
   "source": [
    "#Calcula el rango\n",
    "R = Max - Min\n",
    "R"
   ]
  },
  {
   "cell_type": "code",
   "execution_count": 707,
   "metadata": {},
   "outputs": [
    {
     "data": {
      "text/plain": [
       "15.689631010177528"
      ]
     },
     "execution_count": 707,
     "metadata": {},
     "output_type": "execute_result"
    }
   ],
   "source": [
    "#Calcular el número de Intervalos de Clase (ni). Se aplica la regla de Sturges (Donde “n” el tamaño de la muestra.):\n",
    "ni = 1+3.32*np.log10(n)\n",
    "ni"
   ]
  },
  {
   "cell_type": "code",
   "execution_count": 708,
   "metadata": {},
   "outputs": [
    {
     "data": {
      "text/plain": [
       "3.1868180945470335"
      ]
     },
     "execution_count": 708,
     "metadata": {},
     "output_type": "execute_result"
    }
   ],
   "source": [
    "#Calcular el Ancho del Intervalo ( i )\n",
    "i = R/ni\n",
    "i"
   ]
  },
  {
   "cell_type": "code",
   "execution_count": 709,
   "metadata": {},
   "outputs": [
    {
     "data": {
      "text/plain": [
       "array([ 0.        ,  3.33333333,  6.66666667, 10.        , 13.33333333,\n",
       "       16.66666667, 20.        , 23.33333333, 26.66666667, 30.        ,\n",
       "       33.33333333, 36.66666667, 40.        , 43.33333333, 46.66666667,\n",
       "       50.        ])"
      ]
     },
     "execution_count": 709,
     "metadata": {},
     "output_type": "execute_result"
    }
   ],
   "source": [
    "# Ver resultado\n",
    "intervalos = np.linspace(0, 50, 16) #Número de clases más uno\n",
    "intervalos"
   ]
  },
  {
   "cell_type": "code",
   "execution_count": 710,
   "metadata": {},
   "outputs": [],
   "source": [
    "categorias = [\"Categoría1\", \"Categoría2\", \"Categoría3\", \"Categoría4\",\n",
    "              \"Categoría5\", \"Categoría6\", \"Categoría7\", \"Categoría8\",\n",
    "              \"Categoría9\",\"Categoría10\",\"Categoría11\",\"Categoría12\",\n",
    "              \"Categoría13\",\"Categoría14\",\"Categoría15\"]"
   ]
  },
  {
   "cell_type": "code",
   "execution_count": 711,
   "metadata": {},
   "outputs": [
    {
     "data": {
      "text/plain": [
       "0        Categoría1\n",
       "1        Categoría1\n",
       "2        Categoría1\n",
       "3        Categoría1\n",
       "4        Categoría1\n",
       "            ...    \n",
       "26577    Categoría1\n",
       "26578    Categoría1\n",
       "26579    Categoría1\n",
       "26580    Categoría1\n",
       "26581    Categoría1\n",
       "Name: beds, Length: 26582, dtype: category\n",
       "Categories (15, object): ['Categoría1' < 'Categoría2' < 'Categoría3' < 'Categoría4' ... 'Categoría12' < 'Categoría13' < 'Categoría14' < 'Categoría15']"
      ]
     },
     "execution_count": 711,
     "metadata": {},
     "output_type": "execute_result"
    }
   ],
   "source": [
    "data[\"beds\"] = pd.cut(x = data[\"beds\"], bins = intervalos, labels = categorias)\n",
    "data[\"beds\"]\n"
   ]
  },
  {
   "cell_type": "code",
   "execution_count": 712,
   "metadata": {},
   "outputs": [
    {
     "data": {
      "text/html": [
       "<div>\n",
       "<style scoped>\n",
       "    .dataframe tbody tr th:only-of-type {\n",
       "        vertical-align: middle;\n",
       "    }\n",
       "\n",
       "    .dataframe tbody tr th {\n",
       "        vertical-align: top;\n",
       "    }\n",
       "\n",
       "    .dataframe thead th {\n",
       "        text-align: right;\n",
       "    }\n",
       "</style>\n",
       "<table border=\"1\" class=\"dataframe\">\n",
       "  <thead>\n",
       "    <tr style=\"text-align: right;\">\n",
       "      <th></th>\n",
       "      <th>beds</th>\n",
       "      <th>frequency</th>\n",
       "      <th>percentage</th>\n",
       "      <th>cumulative_perc</th>\n",
       "    </tr>\n",
       "  </thead>\n",
       "  <tbody>\n",
       "    <tr>\n",
       "      <th>0</th>\n",
       "      <td>Categoría1</td>\n",
       "      <td>23663</td>\n",
       "      <td>0.890189</td>\n",
       "      <td>0.906281</td>\n",
       "    </tr>\n",
       "    <tr>\n",
       "      <th>1</th>\n",
       "      <td>Categoría2</td>\n",
       "      <td>1981</td>\n",
       "      <td>0.074524</td>\n",
       "      <td>0.982152</td>\n",
       "    </tr>\n",
       "    <tr>\n",
       "      <th>2</th>\n",
       "      <td>Categoría3</td>\n",
       "      <td>336</td>\n",
       "      <td>0.012640</td>\n",
       "      <td>0.995021</td>\n",
       "    </tr>\n",
       "    <tr>\n",
       "      <th>3</th>\n",
       "      <td>Categoría4</td>\n",
       "      <td>61</td>\n",
       "      <td>0.002295</td>\n",
       "      <td>0.997357</td>\n",
       "    </tr>\n",
       "    <tr>\n",
       "      <th>4</th>\n",
       "      <td>Categoría5</td>\n",
       "      <td>35</td>\n",
       "      <td>0.001317</td>\n",
       "      <td>0.998698</td>\n",
       "    </tr>\n",
       "    <tr>\n",
       "      <th>5</th>\n",
       "      <td>Categoría6</td>\n",
       "      <td>16</td>\n",
       "      <td>0.000602</td>\n",
       "      <td>0.999311</td>\n",
       "    </tr>\n",
       "    <tr>\n",
       "      <th>6</th>\n",
       "      <td>Categoría7</td>\n",
       "      <td>8</td>\n",
       "      <td>0.000301</td>\n",
       "      <td>0.999617</td>\n",
       "    </tr>\n",
       "    <tr>\n",
       "      <th>7</th>\n",
       "      <td>Categoría8</td>\n",
       "      <td>3</td>\n",
       "      <td>0.000113</td>\n",
       "      <td>0.999732</td>\n",
       "    </tr>\n",
       "    <tr>\n",
       "      <th>8</th>\n",
       "      <td>Categoría15</td>\n",
       "      <td>3</td>\n",
       "      <td>0.000113</td>\n",
       "      <td>0.999847</td>\n",
       "    </tr>\n",
       "    <tr>\n",
       "      <th>9</th>\n",
       "      <td>Categoría12</td>\n",
       "      <td>2</td>\n",
       "      <td>0.000075</td>\n",
       "      <td>0.999923</td>\n",
       "    </tr>\n",
       "    <tr>\n",
       "      <th>10</th>\n",
       "      <td>Categoría10</td>\n",
       "      <td>1</td>\n",
       "      <td>0.000038</td>\n",
       "      <td>0.999962</td>\n",
       "    </tr>\n",
       "    <tr>\n",
       "      <th>11</th>\n",
       "      <td>Categoría11</td>\n",
       "      <td>1</td>\n",
       "      <td>0.000038</td>\n",
       "      <td>1.000000</td>\n",
       "    </tr>\n",
       "    <tr>\n",
       "      <th>12</th>\n",
       "      <td>Categoría9</td>\n",
       "      <td>0</td>\n",
       "      <td>0.000000</td>\n",
       "      <td>1.000000</td>\n",
       "    </tr>\n",
       "    <tr>\n",
       "      <th>13</th>\n",
       "      <td>Categoría13</td>\n",
       "      <td>0</td>\n",
       "      <td>0.000000</td>\n",
       "      <td>1.000000</td>\n",
       "    </tr>\n",
       "    <tr>\n",
       "      <th>14</th>\n",
       "      <td>Categoría14</td>\n",
       "      <td>0</td>\n",
       "      <td>0.000000</td>\n",
       "      <td>1.000000</td>\n",
       "    </tr>\n",
       "  </tbody>\n",
       "</table>\n",
       "</div>"
      ],
      "text/plain": [
       "           beds  frequency  percentage  cumulative_perc\n",
       "0    Categoría1      23663    0.890189         0.906281\n",
       "1    Categoría2       1981    0.074524         0.982152\n",
       "2    Categoría3        336    0.012640         0.995021\n",
       "3    Categoría4         61    0.002295         0.997357\n",
       "4    Categoría5         35    0.001317         0.998698\n",
       "5    Categoría6         16    0.000602         0.999311\n",
       "6    Categoría7          8    0.000301         0.999617\n",
       "7    Categoría8          3    0.000113         0.999732\n",
       "8   Categoría15          3    0.000113         0.999847\n",
       "9   Categoría12          2    0.000075         0.999923\n",
       "10  Categoría10          1    0.000038         0.999962\n",
       "11  Categoría11          1    0.000038         1.000000\n",
       "12   Categoría9          0    0.000000         1.000000\n",
       "13  Categoría13          0    0.000000         1.000000\n",
       "14  Categoría14          0    0.000000         1.000000"
      ]
     },
     "execution_count": 712,
     "metadata": {},
     "output_type": "execute_result"
    }
   ],
   "source": [
    "#Obtengo un análisis univariado de una variable categórica en específico  \n",
    "data1 = freq_tbl(data[\"beds\"])\n",
    "data1"
   ]
  },
  {
   "cell_type": "code",
   "execution_count": 713,
   "metadata": {},
   "outputs": [
    {
     "data": {
      "text/html": [
       "<div>\n",
       "<style scoped>\n",
       "    .dataframe tbody tr th:only-of-type {\n",
       "        vertical-align: middle;\n",
       "    }\n",
       "\n",
       "    .dataframe tbody tr th {\n",
       "        vertical-align: top;\n",
       "    }\n",
       "\n",
       "    .dataframe thead th {\n",
       "        text-align: right;\n",
       "    }\n",
       "</style>\n",
       "<table border=\"1\" class=\"dataframe\">\n",
       "  <thead>\n",
       "    <tr style=\"text-align: right;\">\n",
       "      <th></th>\n",
       "      <th>beds</th>\n",
       "      <th>frequency</th>\n",
       "      <th>cumulative_perc</th>\n",
       "    </tr>\n",
       "  </thead>\n",
       "  <tbody>\n",
       "    <tr>\n",
       "      <th>0</th>\n",
       "      <td>Categoría1</td>\n",
       "      <td>23663</td>\n",
       "      <td>0.906281</td>\n",
       "    </tr>\n",
       "    <tr>\n",
       "      <th>1</th>\n",
       "      <td>Categoría2</td>\n",
       "      <td>1981</td>\n",
       "      <td>0.982152</td>\n",
       "    </tr>\n",
       "    <tr>\n",
       "      <th>2</th>\n",
       "      <td>Categoría3</td>\n",
       "      <td>336</td>\n",
       "      <td>0.995021</td>\n",
       "    </tr>\n",
       "    <tr>\n",
       "      <th>3</th>\n",
       "      <td>Categoría4</td>\n",
       "      <td>61</td>\n",
       "      <td>0.997357</td>\n",
       "    </tr>\n",
       "    <tr>\n",
       "      <th>4</th>\n",
       "      <td>Categoría5</td>\n",
       "      <td>35</td>\n",
       "      <td>0.998698</td>\n",
       "    </tr>\n",
       "    <tr>\n",
       "      <th>5</th>\n",
       "      <td>Categoría6</td>\n",
       "      <td>16</td>\n",
       "      <td>0.999311</td>\n",
       "    </tr>\n",
       "    <tr>\n",
       "      <th>6</th>\n",
       "      <td>Categoría7</td>\n",
       "      <td>8</td>\n",
       "      <td>0.999617</td>\n",
       "    </tr>\n",
       "    <tr>\n",
       "      <th>7</th>\n",
       "      <td>Categoría8</td>\n",
       "      <td>3</td>\n",
       "      <td>0.999732</td>\n",
       "    </tr>\n",
       "    <tr>\n",
       "      <th>8</th>\n",
       "      <td>Categoría15</td>\n",
       "      <td>3</td>\n",
       "      <td>0.999847</td>\n",
       "    </tr>\n",
       "    <tr>\n",
       "      <th>9</th>\n",
       "      <td>Categoría12</td>\n",
       "      <td>2</td>\n",
       "      <td>0.999923</td>\n",
       "    </tr>\n",
       "    <tr>\n",
       "      <th>10</th>\n",
       "      <td>Categoría10</td>\n",
       "      <td>1</td>\n",
       "      <td>0.999962</td>\n",
       "    </tr>\n",
       "    <tr>\n",
       "      <th>11</th>\n",
       "      <td>Categoría11</td>\n",
       "      <td>1</td>\n",
       "      <td>1.000000</td>\n",
       "    </tr>\n",
       "    <tr>\n",
       "      <th>12</th>\n",
       "      <td>Categoría9</td>\n",
       "      <td>0</td>\n",
       "      <td>1.000000</td>\n",
       "    </tr>\n",
       "    <tr>\n",
       "      <th>13</th>\n",
       "      <td>Categoría13</td>\n",
       "      <td>0</td>\n",
       "      <td>1.000000</td>\n",
       "    </tr>\n",
       "    <tr>\n",
       "      <th>14</th>\n",
       "      <td>Categoría14</td>\n",
       "      <td>0</td>\n",
       "      <td>1.000000</td>\n",
       "    </tr>\n",
       "  </tbody>\n",
       "</table>\n",
       "</div>"
      ],
      "text/plain": [
       "           beds  frequency  cumulative_perc\n",
       "0    Categoría1      23663         0.906281\n",
       "1    Categoría2       1981         0.982152\n",
       "2    Categoría3        336         0.995021\n",
       "3    Categoría4         61         0.997357\n",
       "4    Categoría5         35         0.998698\n",
       "5    Categoría6         16         0.999311\n",
       "6    Categoría7          8         0.999617\n",
       "7    Categoría8          3         0.999732\n",
       "8   Categoría15          3         0.999847\n",
       "9   Categoría12          2         0.999923\n",
       "10  Categoría10          1         0.999962\n",
       "11  Categoría11          1         1.000000\n",
       "12   Categoría9          0         1.000000\n",
       "13  Categoría13          0         1.000000\n",
       "14  Categoría14          0         1.000000"
      ]
     },
     "execution_count": 713,
     "metadata": {},
     "output_type": "execute_result"
    }
   ],
   "source": [
    "#Elimino las columnas \"procentage\" y \"cumulative_perc\" para trabajar con las fecuencias\n",
    "table5 = data1.drop(['percentage'], axis=1)\n",
    "table5"
   ]
  },
  {
   "cell_type": "code",
   "execution_count": 714,
   "metadata": {},
   "outputs": [
    {
     "data": {
      "text/html": [
       "<div>\n",
       "<style scoped>\n",
       "    .dataframe tbody tr th:only-of-type {\n",
       "        vertical-align: middle;\n",
       "    }\n",
       "\n",
       "    .dataframe tbody tr th {\n",
       "        vertical-align: top;\n",
       "    }\n",
       "\n",
       "    .dataframe thead th {\n",
       "        text-align: right;\n",
       "    }\n",
       "</style>\n",
       "<table border=\"1\" class=\"dataframe\">\n",
       "  <thead>\n",
       "    <tr style=\"text-align: right;\">\n",
       "      <th></th>\n",
       "      <th>beds</th>\n",
       "      <th>frequency</th>\n",
       "      <th>cumulative_perc</th>\n",
       "    </tr>\n",
       "  </thead>\n",
       "  <tbody>\n",
       "    <tr>\n",
       "      <th>0</th>\n",
       "      <td>Categoría1</td>\n",
       "      <td>23663</td>\n",
       "      <td>0.906281</td>\n",
       "    </tr>\n",
       "    <tr>\n",
       "      <th>1</th>\n",
       "      <td>Categoría2</td>\n",
       "      <td>1981</td>\n",
       "      <td>0.982152</td>\n",
       "    </tr>\n",
       "    <tr>\n",
       "      <th>2</th>\n",
       "      <td>Categoría3</td>\n",
       "      <td>336</td>\n",
       "      <td>0.995021</td>\n",
       "    </tr>\n",
       "  </tbody>\n",
       "</table>\n",
       "</div>"
      ],
      "text/plain": [
       "         beds  frequency  cumulative_perc\n",
       "0  Categoría1      23663         0.906281\n",
       "1  Categoría2       1981         0.982152\n",
       "2  Categoría3        336         0.995021"
      ]
     },
     "execution_count": 714,
     "metadata": {},
     "output_type": "execute_result"
    }
   ],
   "source": [
    "filtro5 = table5[table5['frequency'] > 300]\n",
    "filtro5"
   ]
  },
  {
   "cell_type": "code",
   "execution_count": 715,
   "metadata": {},
   "outputs": [
    {
     "data": {
      "text/html": [
       "<div>\n",
       "<style scoped>\n",
       "    .dataframe tbody tr th:only-of-type {\n",
       "        vertical-align: middle;\n",
       "    }\n",
       "\n",
       "    .dataframe tbody tr th {\n",
       "        vertical-align: top;\n",
       "    }\n",
       "\n",
       "    .dataframe thead th {\n",
       "        text-align: right;\n",
       "    }\n",
       "</style>\n",
       "<table border=\"1\" class=\"dataframe\">\n",
       "  <thead>\n",
       "    <tr style=\"text-align: right;\">\n",
       "      <th></th>\n",
       "      <th>frequency</th>\n",
       "      <th>cumulative_perc</th>\n",
       "    </tr>\n",
       "    <tr>\n",
       "      <th>beds</th>\n",
       "      <th></th>\n",
       "      <th></th>\n",
       "    </tr>\n",
       "  </thead>\n",
       "  <tbody>\n",
       "    <tr>\n",
       "      <th>Categoría1</th>\n",
       "      <td>23663</td>\n",
       "      <td>0.906281</td>\n",
       "    </tr>\n",
       "    <tr>\n",
       "      <th>Categoría2</th>\n",
       "      <td>1981</td>\n",
       "      <td>0.982152</td>\n",
       "    </tr>\n",
       "    <tr>\n",
       "      <th>Categoría3</th>\n",
       "      <td>336</td>\n",
       "      <td>0.995021</td>\n",
       "    </tr>\n",
       "  </tbody>\n",
       "</table>\n",
       "</div>"
      ],
      "text/plain": [
       "            frequency  cumulative_perc\n",
       "beds                                  \n",
       "Categoría1      23663         0.906281\n",
       "Categoría2       1981         0.982152\n",
       "Categoría3        336         0.995021"
      ]
     },
     "execution_count": 715,
     "metadata": {},
     "output_type": "execute_result"
    }
   ],
   "source": [
    "#Ajusto el indice de mi DataFrame\n",
    "Filtro_index = filtro5.set_index(\"beds\")\n",
    "Filtro_index"
   ]
  },
  {
   "cell_type": "code",
   "execution_count": 716,
   "metadata": {},
   "outputs": [
    {
     "data": {
      "text/plain": [
       "<Axes: ylabel='frequency'>"
      ]
     },
     "execution_count": 716,
     "metadata": {},
     "output_type": "execute_result"
    },
    {
     "data": {
      "image/png": "[encoded data removed]",
      "text/plain": [
       "<Figure size 1000x500 with 1 Axes>"
      ]
     },
     "metadata": {},
     "output_type": "display_data"
    }
   ],
   "source": [
    "#Realizamos grafico de pastel del dataframe filtrado\n",
    "Filtro_index[\"frequency\"].plot(kind='pie', figsize=(10,5), shadow=True, autopct=\"%0.1f %%\")"
   ]
  },
  {
   "cell_type": "code",
   "execution_count": 717,
   "metadata": {},
   "outputs": [
    {
     "name": "stdout",
     "output_type": "stream",
     "text": [
      "<class 'pandas.core.series.Series'>\n",
      "RangeIndex: 26582 entries, 0 to 26581\n",
      "Series name: price\n",
      "Non-Null Count  Dtype \n",
      "--------------  ----- \n",
      "26582 non-null  object\n",
      "dtypes: object(1)\n",
      "memory usage: 207.8+ KB\n"
     ]
    }
   ],
   "source": [
    "data['price'].info()\n",
    "n=26582"
   ]
  },
  {
   "cell_type": "code",
   "execution_count": 718,
   "metadata": {},
   "outputs": [],
   "source": [
    "# Eliminar caracteres no numéricos ($, ,)\n",
    "data[\"price\"] = data[\"price\"].str.replace(\"[$,]\", \"\", regex=True)\n",
    "\n",
    "# Convertir a número\n",
    "data[\"price\"] = pd.to_numeric(data[\"price\"], errors=\"coerce\")"
   ]
  },
  {
   "cell_type": "code",
   "execution_count": 719,
   "metadata": {},
   "outputs": [
    {
     "data": {
      "text/plain": [
       "[0.0, 435481.0]"
      ]
     },
     "execution_count": 719,
     "metadata": {},
     "output_type": "execute_result"
    }
   ],
   "source": [
    "Min = data[\"price\"].min()  \n",
    "Max = data[\"price\"].max()  \n",
    "Limites = [Min,Max]\n",
    "Limites"
   ]
  },
  {
   "cell_type": "code",
   "execution_count": 720,
   "metadata": {},
   "outputs": [
    {
     "data": {
      "text/plain": [
       "435481.0"
      ]
     },
     "execution_count": 720,
     "metadata": {},
     "output_type": "execute_result"
    }
   ],
   "source": [
    "#Calcula el rango\n",
    "R = Max - Min\n",
    "R"
   ]
  },
  {
   "cell_type": "code",
   "execution_count": 721,
   "metadata": {},
   "outputs": [
    {
     "data": {
      "text/plain": [
       "15.689631010177528"
      ]
     },
     "execution_count": 721,
     "metadata": {},
     "output_type": "execute_result"
    }
   ],
   "source": [
    "#Calcular el número de Intervalos de Clase (ni). Se aplica la regla de Sturges (Donde “n” el tamaño de la muestra.):\n",
    "ni = 1+3.32*np.log10(n)\n",
    "ni"
   ]
  },
  {
   "cell_type": "code",
   "execution_count": 722,
   "metadata": {},
   "outputs": [
    {
     "data": {
      "text/plain": [
       "27755.974612628735"
      ]
     },
     "execution_count": 722,
     "metadata": {},
     "output_type": "execute_result"
    }
   ],
   "source": [
    "#Calcular el Ancho del Intervalo ( i )\n",
    "i = R/ni\n",
    "i"
   ]
  },
  {
   "cell_type": "code",
   "execution_count": 723,
   "metadata": {},
   "outputs": [
    {
     "data": {
      "text/plain": [
       "array([     0.        ,  29032.06666667,  58064.13333333,  87096.2       ,\n",
       "       116128.26666667, 145160.33333333, 174192.4       , 203224.46666667,\n",
       "       232256.53333333, 261288.6       , 290320.66666667, 319352.73333333,\n",
       "       348384.8       , 377416.86666667, 406448.93333333, 435481.        ])"
      ]
     },
     "execution_count": 723,
     "metadata": {},
     "output_type": "execute_result"
    }
   ],
   "source": [
    "# Ver resultado\n",
    "intervalos = np.linspace(0.0,435481.0, 16) #Número de clases más uno\n",
    "intervalos"
   ]
  },
  {
   "cell_type": "code",
   "execution_count": 724,
   "metadata": {},
   "outputs": [],
   "source": [
    "categorias = [\"Categoría1\", \"Categoría2\", \"Categoría3\", \"Categoría4\",\n",
    "              \"Categoría5\", \"Categoría6\", \"Categoría7\", \"Categoría8\",\n",
    "              \"Categoría9\",\"Categoría10\",\"Categoría11\",\"Categoría12\",\n",
    "              \"Categoría13\",\"Categoría14\",\"Categoría15\"]"
   ]
  },
  {
   "cell_type": "code",
   "execution_count": 725,
   "metadata": {},
   "outputs": [
    {
     "data": {
      "text/plain": [
       "0        Categoría1\n",
       "1        Categoría1\n",
       "2        Categoría1\n",
       "3        Categoría1\n",
       "4        Categoría1\n",
       "            ...    \n",
       "26577    Categoría1\n",
       "26578    Categoría1\n",
       "26579    Categoría1\n",
       "26580    Categoría1\n",
       "26581    Categoría1\n",
       "Name: price, Length: 26582, dtype: category\n",
       "Categories (15, object): ['Categoría1' < 'Categoría2' < 'Categoría3' < 'Categoría4' ... 'Categoría12' < 'Categoría13' < 'Categoría14' < 'Categoría15']"
      ]
     },
     "execution_count": 725,
     "metadata": {},
     "output_type": "execute_result"
    }
   ],
   "source": [
    "data[\"price\"] = pd.cut(x = data[\"price\"], bins = intervalos, labels = categorias)\n",
    "data[\"price\"]"
   ]
  },
  {
   "cell_type": "code",
   "execution_count": 726,
   "metadata": {},
   "outputs": [
    {
     "data": {
      "text/html": [
       "<div>\n",
       "<style scoped>\n",
       "    .dataframe tbody tr th:only-of-type {\n",
       "        vertical-align: middle;\n",
       "    }\n",
       "\n",
       "    .dataframe tbody tr th {\n",
       "        vertical-align: top;\n",
       "    }\n",
       "\n",
       "    .dataframe thead th {\n",
       "        text-align: right;\n",
       "    }\n",
       "</style>\n",
       "<table border=\"1\" class=\"dataframe\">\n",
       "  <thead>\n",
       "    <tr style=\"text-align: right;\">\n",
       "      <th></th>\n",
       "      <th>price</th>\n",
       "      <th>frequency</th>\n",
       "      <th>percentage</th>\n",
       "      <th>cumulative_perc</th>\n",
       "    </tr>\n",
       "  </thead>\n",
       "  <tbody>\n",
       "    <tr>\n",
       "      <th>0</th>\n",
       "      <td>Categoría1</td>\n",
       "      <td>26546</td>\n",
       "      <td>0.998646</td>\n",
       "      <td>0.998683</td>\n",
       "    </tr>\n",
       "    <tr>\n",
       "      <th>1</th>\n",
       "      <td>Categoría2</td>\n",
       "      <td>26</td>\n",
       "      <td>0.000978</td>\n",
       "      <td>0.999661</td>\n",
       "    </tr>\n",
       "    <tr>\n",
       "      <th>2</th>\n",
       "      <td>Categoría15</td>\n",
       "      <td>3</td>\n",
       "      <td>0.000113</td>\n",
       "      <td>0.999774</td>\n",
       "    </tr>\n",
       "    <tr>\n",
       "      <th>3</th>\n",
       "      <td>Categoría3</td>\n",
       "      <td>2</td>\n",
       "      <td>0.000075</td>\n",
       "      <td>0.999850</td>\n",
       "    </tr>\n",
       "    <tr>\n",
       "      <th>4</th>\n",
       "      <td>Categoría4</td>\n",
       "      <td>2</td>\n",
       "      <td>0.000075</td>\n",
       "      <td>0.999925</td>\n",
       "    </tr>\n",
       "    <tr>\n",
       "      <th>5</th>\n",
       "      <td>Categoría6</td>\n",
       "      <td>1</td>\n",
       "      <td>0.000038</td>\n",
       "      <td>0.999962</td>\n",
       "    </tr>\n",
       "    <tr>\n",
       "      <th>6</th>\n",
       "      <td>Categoría10</td>\n",
       "      <td>1</td>\n",
       "      <td>0.000038</td>\n",
       "      <td>1.000000</td>\n",
       "    </tr>\n",
       "    <tr>\n",
       "      <th>7</th>\n",
       "      <td>Categoría5</td>\n",
       "      <td>0</td>\n",
       "      <td>0.000000</td>\n",
       "      <td>1.000000</td>\n",
       "    </tr>\n",
       "    <tr>\n",
       "      <th>8</th>\n",
       "      <td>Categoría7</td>\n",
       "      <td>0</td>\n",
       "      <td>0.000000</td>\n",
       "      <td>1.000000</td>\n",
       "    </tr>\n",
       "    <tr>\n",
       "      <th>9</th>\n",
       "      <td>Categoría8</td>\n",
       "      <td>0</td>\n",
       "      <td>0.000000</td>\n",
       "      <td>1.000000</td>\n",
       "    </tr>\n",
       "    <tr>\n",
       "      <th>10</th>\n",
       "      <td>Categoría9</td>\n",
       "      <td>0</td>\n",
       "      <td>0.000000</td>\n",
       "      <td>1.000000</td>\n",
       "    </tr>\n",
       "    <tr>\n",
       "      <th>11</th>\n",
       "      <td>Categoría11</td>\n",
       "      <td>0</td>\n",
       "      <td>0.000000</td>\n",
       "      <td>1.000000</td>\n",
       "    </tr>\n",
       "    <tr>\n",
       "      <th>12</th>\n",
       "      <td>Categoría12</td>\n",
       "      <td>0</td>\n",
       "      <td>0.000000</td>\n",
       "      <td>1.000000</td>\n",
       "    </tr>\n",
       "    <tr>\n",
       "      <th>13</th>\n",
       "      <td>Categoría13</td>\n",
       "      <td>0</td>\n",
       "      <td>0.000000</td>\n",
       "      <td>1.000000</td>\n",
       "    </tr>\n",
       "    <tr>\n",
       "      <th>14</th>\n",
       "      <td>Categoría14</td>\n",
       "      <td>0</td>\n",
       "      <td>0.000000</td>\n",
       "      <td>1.000000</td>\n",
       "    </tr>\n",
       "  </tbody>\n",
       "</table>\n",
       "</div>"
      ],
      "text/plain": [
       "          price  frequency  percentage  cumulative_perc\n",
       "0    Categoría1      26546    0.998646         0.998683\n",
       "1    Categoría2         26    0.000978         0.999661\n",
       "2   Categoría15          3    0.000113         0.999774\n",
       "3    Categoría3          2    0.000075         0.999850\n",
       "4    Categoría4          2    0.000075         0.999925\n",
       "5    Categoría6          1    0.000038         0.999962\n",
       "6   Categoría10          1    0.000038         1.000000\n",
       "7    Categoría5          0    0.000000         1.000000\n",
       "8    Categoría7          0    0.000000         1.000000\n",
       "9    Categoría8          0    0.000000         1.000000\n",
       "10   Categoría9          0    0.000000         1.000000\n",
       "11  Categoría11          0    0.000000         1.000000\n",
       "12  Categoría12          0    0.000000         1.000000\n",
       "13  Categoría13          0    0.000000         1.000000\n",
       "14  Categoría14          0    0.000000         1.000000"
      ]
     },
     "execution_count": 726,
     "metadata": {},
     "output_type": "execute_result"
    }
   ],
   "source": [
    "#Obtengo un análisis univariado de una variable categórica en específico  \n",
    "data1 = freq_tbl(data[\"price\"])\n",
    "data1"
   ]
  },
  {
   "cell_type": "code",
   "execution_count": 727,
   "metadata": {},
   "outputs": [
    {
     "data": {
      "text/html": [
       "<div>\n",
       "<style scoped>\n",
       "    .dataframe tbody tr th:only-of-type {\n",
       "        vertical-align: middle;\n",
       "    }\n",
       "\n",
       "    .dataframe tbody tr th {\n",
       "        vertical-align: top;\n",
       "    }\n",
       "\n",
       "    .dataframe thead th {\n",
       "        text-align: right;\n",
       "    }\n",
       "</style>\n",
       "<table border=\"1\" class=\"dataframe\">\n",
       "  <thead>\n",
       "    <tr style=\"text-align: right;\">\n",
       "      <th></th>\n",
       "      <th>price</th>\n",
       "      <th>frequency</th>\n",
       "    </tr>\n",
       "  </thead>\n",
       "  <tbody>\n",
       "    <tr>\n",
       "      <th>0</th>\n",
       "      <td>Categoría1</td>\n",
       "      <td>26546</td>\n",
       "    </tr>\n",
       "    <tr>\n",
       "      <th>1</th>\n",
       "      <td>Categoría2</td>\n",
       "      <td>26</td>\n",
       "    </tr>\n",
       "    <tr>\n",
       "      <th>2</th>\n",
       "      <td>Categoría15</td>\n",
       "      <td>3</td>\n",
       "    </tr>\n",
       "    <tr>\n",
       "      <th>3</th>\n",
       "      <td>Categoría3</td>\n",
       "      <td>2</td>\n",
       "    </tr>\n",
       "    <tr>\n",
       "      <th>4</th>\n",
       "      <td>Categoría4</td>\n",
       "      <td>2</td>\n",
       "    </tr>\n",
       "    <tr>\n",
       "      <th>5</th>\n",
       "      <td>Categoría6</td>\n",
       "      <td>1</td>\n",
       "    </tr>\n",
       "    <tr>\n",
       "      <th>6</th>\n",
       "      <td>Categoría10</td>\n",
       "      <td>1</td>\n",
       "    </tr>\n",
       "    <tr>\n",
       "      <th>7</th>\n",
       "      <td>Categoría5</td>\n",
       "      <td>0</td>\n",
       "    </tr>\n",
       "    <tr>\n",
       "      <th>8</th>\n",
       "      <td>Categoría7</td>\n",
       "      <td>0</td>\n",
       "    </tr>\n",
       "    <tr>\n",
       "      <th>9</th>\n",
       "      <td>Categoría8</td>\n",
       "      <td>0</td>\n",
       "    </tr>\n",
       "    <tr>\n",
       "      <th>10</th>\n",
       "      <td>Categoría9</td>\n",
       "      <td>0</td>\n",
       "    </tr>\n",
       "    <tr>\n",
       "      <th>11</th>\n",
       "      <td>Categoría11</td>\n",
       "      <td>0</td>\n",
       "    </tr>\n",
       "    <tr>\n",
       "      <th>12</th>\n",
       "      <td>Categoría12</td>\n",
       "      <td>0</td>\n",
       "    </tr>\n",
       "    <tr>\n",
       "      <th>13</th>\n",
       "      <td>Categoría13</td>\n",
       "      <td>0</td>\n",
       "    </tr>\n",
       "    <tr>\n",
       "      <th>14</th>\n",
       "      <td>Categoría14</td>\n",
       "      <td>0</td>\n",
       "    </tr>\n",
       "  </tbody>\n",
       "</table>\n",
       "</div>"
      ],
      "text/plain": [
       "          price  frequency\n",
       "0    Categoría1      26546\n",
       "1    Categoría2         26\n",
       "2   Categoría15          3\n",
       "3    Categoría3          2\n",
       "4    Categoría4          2\n",
       "5    Categoría6          1\n",
       "6   Categoría10          1\n",
       "7    Categoría5          0\n",
       "8    Categoría7          0\n",
       "9    Categoría8          0\n",
       "10   Categoría9          0\n",
       "11  Categoría11          0\n",
       "12  Categoría12          0\n",
       "13  Categoría13          0\n",
       "14  Categoría14          0"
      ]
     },
     "execution_count": 727,
     "metadata": {},
     "output_type": "execute_result"
    }
   ],
   "source": [
    "#Elimino las columnas \"procentage\" y \"cumulative_perc\" para trabajar con las fecuencias\n",
    "table6 = data1.drop(['percentage', 'cumulative_perc'], axis=1)\n",
    "table6"
   ]
  },
  {
   "cell_type": "code",
   "execution_count": 728,
   "metadata": {},
   "outputs": [
    {
     "data": {
      "text/html": [
       "<div>\n",
       "<style scoped>\n",
       "    .dataframe tbody tr th:only-of-type {\n",
       "        vertical-align: middle;\n",
       "    }\n",
       "\n",
       "    .dataframe tbody tr th {\n",
       "        vertical-align: top;\n",
       "    }\n",
       "\n",
       "    .dataframe thead th {\n",
       "        text-align: right;\n",
       "    }\n",
       "</style>\n",
       "<table border=\"1\" class=\"dataframe\">\n",
       "  <thead>\n",
       "    <tr style=\"text-align: right;\">\n",
       "      <th></th>\n",
       "      <th>price</th>\n",
       "      <th>frequency</th>\n",
       "    </tr>\n",
       "  </thead>\n",
       "  <tbody>\n",
       "    <tr>\n",
       "      <th>0</th>\n",
       "      <td>Categoría1</td>\n",
       "      <td>26546</td>\n",
       "    </tr>\n",
       "    <tr>\n",
       "      <th>1</th>\n",
       "      <td>Categoría2</td>\n",
       "      <td>26</td>\n",
       "    </tr>\n",
       "    <tr>\n",
       "      <th>2</th>\n",
       "      <td>Categoría15</td>\n",
       "      <td>3</td>\n",
       "    </tr>\n",
       "  </tbody>\n",
       "</table>\n",
       "</div>"
      ],
      "text/plain": [
       "         price  frequency\n",
       "0   Categoría1      26546\n",
       "1   Categoría2         26\n",
       "2  Categoría15          3"
      ]
     },
     "execution_count": 728,
     "metadata": {},
     "output_type": "execute_result"
    }
   ],
   "source": [
    "filtro6 = table6[table6['frequency'] > 2]\n",
    "filtro6"
   ]
  },
  {
   "cell_type": "code",
   "execution_count": 729,
   "metadata": {},
   "outputs": [
    {
     "data": {
      "text/html": [
       "<div>\n",
       "<style scoped>\n",
       "    .dataframe tbody tr th:only-of-type {\n",
       "        vertical-align: middle;\n",
       "    }\n",
       "\n",
       "    .dataframe tbody tr th {\n",
       "        vertical-align: top;\n",
       "    }\n",
       "\n",
       "    .dataframe thead th {\n",
       "        text-align: right;\n",
       "    }\n",
       "</style>\n",
       "<table border=\"1\" class=\"dataframe\">\n",
       "  <thead>\n",
       "    <tr style=\"text-align: right;\">\n",
       "      <th></th>\n",
       "      <th>frequency</th>\n",
       "    </tr>\n",
       "    <tr>\n",
       "      <th>price</th>\n",
       "      <th></th>\n",
       "    </tr>\n",
       "  </thead>\n",
       "  <tbody>\n",
       "    <tr>\n",
       "      <th>Categoría1</th>\n",
       "      <td>26546</td>\n",
       "    </tr>\n",
       "    <tr>\n",
       "      <th>Categoría2</th>\n",
       "      <td>26</td>\n",
       "    </tr>\n",
       "    <tr>\n",
       "      <th>Categoría15</th>\n",
       "      <td>3</td>\n",
       "    </tr>\n",
       "  </tbody>\n",
       "</table>\n",
       "</div>"
      ],
      "text/plain": [
       "             frequency\n",
       "price                 \n",
       "Categoría1       26546\n",
       "Categoría2          26\n",
       "Categoría15          3"
      ]
     },
     "execution_count": 729,
     "metadata": {},
     "output_type": "execute_result"
    }
   ],
   "source": [
    "#Ajusto el indice de mi DataFrame\n",
    "Filtro_index = filtro6.set_index(\"price\")\n",
    "Filtro_index"
   ]
  },
  {
   "cell_type": "code",
   "execution_count": 730,
   "metadata": {},
   "outputs": [
    {
     "data": {
      "text/plain": [
       "Text(0, 0.5, 'Frecuencia')"
      ]
     },
     "execution_count": 730,
     "metadata": {},
     "output_type": "execute_result"
    },
    {
     "data": {
      "image/png": "[encoded data removed]",
      "text/plain": [
       "<Figure size 1000x400 with 1 Axes>"
      ]
     },
     "metadata": {},
     "output_type": "display_data"
    }
   ],
   "source": [
    "#Realizamos grafico de barras del Dataframe filtrado\n",
    "Filtro_index.plot(kind = 'bar', width=0.8, figsize=(10,4), color = \"red\")\n",
    "plt.title('PRRECIO')\n",
    "plt.xlabel('Categorias')\n",
    "plt.ylabel('Frecuencia')"
   ]
  },
  {
   "cell_type": "code",
   "execution_count": 731,
   "metadata": {},
   "outputs": [
    {
     "data": {
      "text/plain": [
       "[1.0, 9101.4]"
      ]
     },
     "execution_count": 731,
     "metadata": {},
     "output_type": "execute_result"
    }
   ],
   "source": [
    "Min = data[\"maximum_nights_avg_ntm\"].min()  \n",
    "Max = data[\"maximum_nights_avg_ntm\"].max()  \n",
    "Limites = [Min,Max]\n",
    "Limites"
   ]
  },
  {
   "cell_type": "code",
   "execution_count": 732,
   "metadata": {},
   "outputs": [
    {
     "data": {
      "text/plain": [
       "9100.4"
      ]
     },
     "execution_count": 732,
     "metadata": {},
     "output_type": "execute_result"
    }
   ],
   "source": [
    "#Calcula el rango\n",
    "R = Max - Min\n",
    "R"
   ]
  },
  {
   "cell_type": "code",
   "execution_count": 733,
   "metadata": {},
   "outputs": [
    {
     "data": {
      "text/plain": [
       "15.689631010177528"
      ]
     },
     "execution_count": 733,
     "metadata": {},
     "output_type": "execute_result"
    }
   ],
   "source": [
    "#Calcular el número de Intervalos de Clase (ni). Se aplica la regla de Sturges (Donde “n” el tamaño de la muestra.):\n",
    "ni = 1+3.32*np.log10(n)\n",
    "ni"
   ]
  },
  {
   "cell_type": "code",
   "execution_count": 734,
   "metadata": {},
   "outputs": [
    {
     "data": {
      "text/plain": [
       "580.0263877523165"
      ]
     },
     "execution_count": 734,
     "metadata": {},
     "output_type": "execute_result"
    }
   ],
   "source": [
    "#Calcular el Ancho del Intervalo ( i )\n",
    "i = R/ni\n",
    "i"
   ]
  },
  {
   "cell_type": "code",
   "execution_count": 735,
   "metadata": {},
   "outputs": [
    {
     "data": {
      "text/plain": [
       "array([0.        , 0.09090909, 0.18181818, 0.27272727, 0.36363636,\n",
       "       0.45454545, 0.54545455, 0.63636364, 0.72727273, 0.81818182,\n",
       "       0.90909091, 1.        ])"
      ]
     },
     "execution_count": 735,
     "metadata": {},
     "output_type": "execute_result"
    }
   ],
   "source": [
    "# Ver resultado\n",
    "intervalos = np.linspace(0.0, 1.0, 12) #Número de clases más uno\n",
    "intervalos"
   ]
  },
  {
   "cell_type": "code",
   "execution_count": 736,
   "metadata": {},
   "outputs": [],
   "source": [
    "categorias = [\"Categoría1\", \"Categoría2\", \"Categoría3\", \"Categoría4\",\n",
    "              \"Categoría5\", \"Categoría6\", \"Categoría7\", \"Categoría8\",\n",
    "              \"Categoría9\",\"Categoría10\",\"Categoría11\"]\n"
   ]
  },
  {
   "cell_type": "code",
   "execution_count": 737,
   "metadata": {},
   "outputs": [
    {
     "data": {
      "text/plain": [
       "0        NaN\n",
       "1        NaN\n",
       "2        NaN\n",
       "3        NaN\n",
       "4        NaN\n",
       "        ... \n",
       "26577    NaN\n",
       "26578    NaN\n",
       "26579    NaN\n",
       "26580    NaN\n",
       "26581    NaN\n",
       "Name: maximum_nights_avg_ntm, Length: 26582, dtype: category\n",
       "Categories (11, object): ['Categoría1' < 'Categoría2' < 'Categoría3' < 'Categoría4' ... 'Categoría8' < 'Categoría9' < 'Categoría10' < 'Categoría11']"
      ]
     },
     "execution_count": 737,
     "metadata": {},
     "output_type": "execute_result"
    }
   ],
   "source": [
    "data[\"maximum_nights_avg_ntm\"] = pd.cut(x = data[\"maximum_nights_avg_ntm\"], bins = intervalos, labels = categorias)\n",
    "data[\"maximum_nights_avg_ntm\"]"
   ]
  },
  {
   "cell_type": "code",
   "execution_count": 738,
   "metadata": {},
   "outputs": [
    {
     "data": {
      "text/html": [
       "<div>\n",
       "<style scoped>\n",
       "    .dataframe tbody tr th:only-of-type {\n",
       "        vertical-align: middle;\n",
       "    }\n",
       "\n",
       "    .dataframe tbody tr th {\n",
       "        vertical-align: top;\n",
       "    }\n",
       "\n",
       "    .dataframe thead th {\n",
       "        text-align: right;\n",
       "    }\n",
       "</style>\n",
       "<table border=\"1\" class=\"dataframe\">\n",
       "  <thead>\n",
       "    <tr style=\"text-align: right;\">\n",
       "      <th></th>\n",
       "      <th>maximum_nights_avg_ntm</th>\n",
       "      <th>frequency</th>\n",
       "      <th>percentage</th>\n",
       "      <th>cumulative_perc</th>\n",
       "    </tr>\n",
       "  </thead>\n",
       "  <tbody>\n",
       "    <tr>\n",
       "      <th>0</th>\n",
       "      <td>Categoría11</td>\n",
       "      <td>13</td>\n",
       "      <td>0.000489</td>\n",
       "      <td>1.0</td>\n",
       "    </tr>\n",
       "    <tr>\n",
       "      <th>1</th>\n",
       "      <td>Categoría1</td>\n",
       "      <td>0</td>\n",
       "      <td>0.000000</td>\n",
       "      <td>1.0</td>\n",
       "    </tr>\n",
       "    <tr>\n",
       "      <th>2</th>\n",
       "      <td>Categoría2</td>\n",
       "      <td>0</td>\n",
       "      <td>0.000000</td>\n",
       "      <td>1.0</td>\n",
       "    </tr>\n",
       "    <tr>\n",
       "      <th>3</th>\n",
       "      <td>Categoría3</td>\n",
       "      <td>0</td>\n",
       "      <td>0.000000</td>\n",
       "      <td>1.0</td>\n",
       "    </tr>\n",
       "    <tr>\n",
       "      <th>4</th>\n",
       "      <td>Categoría4</td>\n",
       "      <td>0</td>\n",
       "      <td>0.000000</td>\n",
       "      <td>1.0</td>\n",
       "    </tr>\n",
       "    <tr>\n",
       "      <th>5</th>\n",
       "      <td>Categoría5</td>\n",
       "      <td>0</td>\n",
       "      <td>0.000000</td>\n",
       "      <td>1.0</td>\n",
       "    </tr>\n",
       "    <tr>\n",
       "      <th>6</th>\n",
       "      <td>Categoría6</td>\n",
       "      <td>0</td>\n",
       "      <td>0.000000</td>\n",
       "      <td>1.0</td>\n",
       "    </tr>\n",
       "    <tr>\n",
       "      <th>7</th>\n",
       "      <td>Categoría7</td>\n",
       "      <td>0</td>\n",
       "      <td>0.000000</td>\n",
       "      <td>1.0</td>\n",
       "    </tr>\n",
       "    <tr>\n",
       "      <th>8</th>\n",
       "      <td>Categoría8</td>\n",
       "      <td>0</td>\n",
       "      <td>0.000000</td>\n",
       "      <td>1.0</td>\n",
       "    </tr>\n",
       "    <tr>\n",
       "      <th>9</th>\n",
       "      <td>Categoría9</td>\n",
       "      <td>0</td>\n",
       "      <td>0.000000</td>\n",
       "      <td>1.0</td>\n",
       "    </tr>\n",
       "    <tr>\n",
       "      <th>10</th>\n",
       "      <td>Categoría10</td>\n",
       "      <td>0</td>\n",
       "      <td>0.000000</td>\n",
       "      <td>1.0</td>\n",
       "    </tr>\n",
       "  </tbody>\n",
       "</table>\n",
       "</div>"
      ],
      "text/plain": [
       "   maximum_nights_avg_ntm  frequency  percentage  cumulative_perc\n",
       "0             Categoría11         13    0.000489              1.0\n",
       "1              Categoría1          0    0.000000              1.0\n",
       "2              Categoría2          0    0.000000              1.0\n",
       "3              Categoría3          0    0.000000              1.0\n",
       "4              Categoría4          0    0.000000              1.0\n",
       "5              Categoría5          0    0.000000              1.0\n",
       "6              Categoría6          0    0.000000              1.0\n",
       "7              Categoría7          0    0.000000              1.0\n",
       "8              Categoría8          0    0.000000              1.0\n",
       "9              Categoría9          0    0.000000              1.0\n",
       "10            Categoría10          0    0.000000              1.0"
      ]
     },
     "execution_count": 738,
     "metadata": {},
     "output_type": "execute_result"
    }
   ],
   "source": [
    "#Obtengo un análisis univariado de una variable categórica en específico  \n",
    "data1 = freq_tbl(data[\"maximum_nights_avg_ntm\"])\n",
    "data1"
   ]
  },
  {
   "cell_type": "code",
   "execution_count": 739,
   "metadata": {},
   "outputs": [
    {
     "data": {
      "text/html": [
       "<div>\n",
       "<style scoped>\n",
       "    .dataframe tbody tr th:only-of-type {\n",
       "        vertical-align: middle;\n",
       "    }\n",
       "\n",
       "    .dataframe tbody tr th {\n",
       "        vertical-align: top;\n",
       "    }\n",
       "\n",
       "    .dataframe thead th {\n",
       "        text-align: right;\n",
       "    }\n",
       "</style>\n",
       "<table border=\"1\" class=\"dataframe\">\n",
       "  <thead>\n",
       "    <tr style=\"text-align: right;\">\n",
       "      <th></th>\n",
       "      <th>maximum_nights_avg_ntm</th>\n",
       "      <th>frequency</th>\n",
       "    </tr>\n",
       "  </thead>\n",
       "  <tbody>\n",
       "    <tr>\n",
       "      <th>0</th>\n",
       "      <td>Categoría11</td>\n",
       "      <td>13</td>\n",
       "    </tr>\n",
       "    <tr>\n",
       "      <th>1</th>\n",
       "      <td>Categoría1</td>\n",
       "      <td>0</td>\n",
       "    </tr>\n",
       "    <tr>\n",
       "      <th>2</th>\n",
       "      <td>Categoría2</td>\n",
       "      <td>0</td>\n",
       "    </tr>\n",
       "    <tr>\n",
       "      <th>3</th>\n",
       "      <td>Categoría3</td>\n",
       "      <td>0</td>\n",
       "    </tr>\n",
       "    <tr>\n",
       "      <th>4</th>\n",
       "      <td>Categoría4</td>\n",
       "      <td>0</td>\n",
       "    </tr>\n",
       "    <tr>\n",
       "      <th>5</th>\n",
       "      <td>Categoría5</td>\n",
       "      <td>0</td>\n",
       "    </tr>\n",
       "    <tr>\n",
       "      <th>6</th>\n",
       "      <td>Categoría6</td>\n",
       "      <td>0</td>\n",
       "    </tr>\n",
       "    <tr>\n",
       "      <th>7</th>\n",
       "      <td>Categoría7</td>\n",
       "      <td>0</td>\n",
       "    </tr>\n",
       "    <tr>\n",
       "      <th>8</th>\n",
       "      <td>Categoría8</td>\n",
       "      <td>0</td>\n",
       "    </tr>\n",
       "    <tr>\n",
       "      <th>9</th>\n",
       "      <td>Categoría9</td>\n",
       "      <td>0</td>\n",
       "    </tr>\n",
       "    <tr>\n",
       "      <th>10</th>\n",
       "      <td>Categoría10</td>\n",
       "      <td>0</td>\n",
       "    </tr>\n",
       "  </tbody>\n",
       "</table>\n",
       "</div>"
      ],
      "text/plain": [
       "   maximum_nights_avg_ntm  frequency\n",
       "0             Categoría11         13\n",
       "1              Categoría1          0\n",
       "2              Categoría2          0\n",
       "3              Categoría3          0\n",
       "4              Categoría4          0\n",
       "5              Categoría5          0\n",
       "6              Categoría6          0\n",
       "7              Categoría7          0\n",
       "8              Categoría8          0\n",
       "9              Categoría9          0\n",
       "10            Categoría10          0"
      ]
     },
     "execution_count": 739,
     "metadata": {},
     "output_type": "execute_result"
    }
   ],
   "source": [
    "#Elimino las columnas \"procentage\" y \"cumulative_perc\" para trabajar con las fecuencias\n",
    "table7 = data1.drop(['percentage', 'cumulative_perc'], axis=1)\n",
    "table7"
   ]
  },
  {
   "cell_type": "code",
   "execution_count": 740,
   "metadata": {},
   "outputs": [
    {
     "data": {
      "text/html": [
       "<div>\n",
       "<style scoped>\n",
       "    .dataframe tbody tr th:only-of-type {\n",
       "        vertical-align: middle;\n",
       "    }\n",
       "\n",
       "    .dataframe tbody tr th {\n",
       "        vertical-align: top;\n",
       "    }\n",
       "\n",
       "    .dataframe thead th {\n",
       "        text-align: right;\n",
       "    }\n",
       "</style>\n",
       "<table border=\"1\" class=\"dataframe\">\n",
       "  <thead>\n",
       "    <tr style=\"text-align: right;\">\n",
       "      <th></th>\n",
       "      <th>maximum_nights_avg_ntm</th>\n",
       "      <th>frequency</th>\n",
       "    </tr>\n",
       "  </thead>\n",
       "  <tbody>\n",
       "    <tr>\n",
       "      <th>0</th>\n",
       "      <td>Categoría11</td>\n",
       "      <td>13</td>\n",
       "    </tr>\n",
       "  </tbody>\n",
       "</table>\n",
       "</div>"
      ],
      "text/plain": [
       "  maximum_nights_avg_ntm  frequency\n",
       "0            Categoría11         13"
      ]
     },
     "execution_count": 740,
     "metadata": {},
     "output_type": "execute_result"
    }
   ],
   "source": [
    "filtro7 = table7[table7['frequency'] > 1]\n",
    "filtro7"
   ]
  },
  {
   "cell_type": "code",
   "execution_count": 741,
   "metadata": {},
   "outputs": [
    {
     "data": {
      "text/html": [
       "<div>\n",
       "<style scoped>\n",
       "    .dataframe tbody tr th:only-of-type {\n",
       "        vertical-align: middle;\n",
       "    }\n",
       "\n",
       "    .dataframe tbody tr th {\n",
       "        vertical-align: top;\n",
       "    }\n",
       "\n",
       "    .dataframe thead th {\n",
       "        text-align: right;\n",
       "    }\n",
       "</style>\n",
       "<table border=\"1\" class=\"dataframe\">\n",
       "  <thead>\n",
       "    <tr style=\"text-align: right;\">\n",
       "      <th></th>\n",
       "      <th>frequency</th>\n",
       "    </tr>\n",
       "    <tr>\n",
       "      <th>maximum_nights_avg_ntm</th>\n",
       "      <th></th>\n",
       "    </tr>\n",
       "  </thead>\n",
       "  <tbody>\n",
       "    <tr>\n",
       "      <th>Categoría11</th>\n",
       "      <td>13</td>\n",
       "    </tr>\n",
       "  </tbody>\n",
       "</table>\n",
       "</div>"
      ],
      "text/plain": [
       "                        frequency\n",
       "maximum_nights_avg_ntm           \n",
       "Categoría11                    13"
      ]
     },
     "execution_count": 741,
     "metadata": {},
     "output_type": "execute_result"
    }
   ],
   "source": [
    "#Ajusto el indice de mi DataFrame\n",
    "Filtro_index = filtro7.set_index(\"maximum_nights_avg_ntm\")\n",
    "Filtro_index"
   ]
  },
  {
   "cell_type": "code",
   "execution_count": 742,
   "metadata": {},
   "outputs": [
    {
     "data": {
      "text/plain": [
       "<Axes: xlabel='maximum_nights_avg_ntm'>"
      ]
     },
     "execution_count": 742,
     "metadata": {},
     "output_type": "execute_result"
    },
    {
     "data": {
      "image/png": "[encoded data removed]",
      "text/plain": [
       "<Figure size 1000x400 with 1 Axes>"
      ]
     },
     "metadata": {},
     "output_type": "display_data"
    }
   ],
   "source": [
    "#Realizamos grafico de área del dataframe filtrado\n",
    "Filtro_index.plot(kind='area', figsize=(10,4), alpha = 0.5)"
   ]
  },
  {
   "cell_type": "code",
   "execution_count": 743,
   "metadata": {},
   "outputs": [
    {
     "data": {
      "text/plain": [
       "[0, 365]"
      ]
     },
     "execution_count": 743,
     "metadata": {},
     "output_type": "execute_result"
    }
   ],
   "source": [
    "Min = data[\"availability_365\"].min()  \n",
    "Max = data[\"availability_365\"].max()  \n",
    "Limites = [Min,Max]\n",
    "Limites"
   ]
  },
  {
   "cell_type": "code",
   "execution_count": 744,
   "metadata": {},
   "outputs": [
    {
     "data": {
      "text/plain": [
       "365"
      ]
     },
     "execution_count": 744,
     "metadata": {},
     "output_type": "execute_result"
    }
   ],
   "source": [
    "#Calcula el rango\n",
    "R = Max - Min\n",
    "R"
   ]
  },
  {
   "cell_type": "code",
   "execution_count": 745,
   "metadata": {},
   "outputs": [],
   "source": [
    "n=26582"
   ]
  },
  {
   "cell_type": "code",
   "execution_count": 746,
   "metadata": {},
   "outputs": [
    {
     "data": {
      "text/plain": [
       "15.689631010177528"
      ]
     },
     "execution_count": 746,
     "metadata": {},
     "output_type": "execute_result"
    }
   ],
   "source": [
    "#Calcular el número de Intervalos de Clase (ni). Se aplica la regla de Sturges (Donde “n” el tamaño de la muestra.):\n",
    "ni = 1+3.32*np.log10(n)\n",
    "ni"
   ]
  },
  {
   "cell_type": "code",
   "execution_count": 747,
   "metadata": {},
   "outputs": [
    {
     "data": {
      "text/plain": [
       "23.263772090193346"
      ]
     },
     "execution_count": 747,
     "metadata": {},
     "output_type": "execute_result"
    }
   ],
   "source": [
    "#Calcular el Ancho del Intervalo ( i )\n",
    "i = R/ni\n",
    "i"
   ]
  },
  {
   "cell_type": "code",
   "execution_count": 748,
   "metadata": {},
   "outputs": [
    {
     "data": {
      "text/plain": [
       "array([  0.        ,  33.18181818,  66.36363636,  99.54545455,\n",
       "       132.72727273, 165.90909091, 199.09090909, 232.27272727,\n",
       "       265.45454545, 298.63636364, 331.81818182, 365.        ])"
      ]
     },
     "execution_count": 748,
     "metadata": {},
     "output_type": "execute_result"
    }
   ],
   "source": [
    "# Ver resultado\n",
    "intervalos = np.linspace(0, 365, 12) #Número de clases más uno\n",
    "intervalos"
   ]
  },
  {
   "cell_type": "code",
   "execution_count": 749,
   "metadata": {},
   "outputs": [],
   "source": [
    "categorias = [\"Categoría1\", \"Categoría2\", \"Categoría3\", \"Categoría4\",\n",
    "              \"Categoría5\", \"Categoría6\", \"Categoría7\", \"Categoría8\",\n",
    "              \"Categoría9\",\"Categoría10\",\"Categoría11\"]"
   ]
  },
  {
   "cell_type": "code",
   "execution_count": 750,
   "metadata": {},
   "outputs": [
    {
     "data": {
      "text/plain": [
       "0        Categoría11\n",
       "1        Categoría10\n",
       "2        Categoría10\n",
       "3         Categoría8\n",
       "4         Categoría9\n",
       "            ...     \n",
       "26577    Categoría11\n",
       "26578     Categoría6\n",
       "26579     Categoría6\n",
       "26580     Categoría6\n",
       "26581     Categoría5\n",
       "Name: availability_365, Length: 26582, dtype: category\n",
       "Categories (11, object): ['Categoría1' < 'Categoría2' < 'Categoría3' < 'Categoría4' ... 'Categoría8' < 'Categoría9' < 'Categoría10' < 'Categoría11']"
      ]
     },
     "execution_count": 750,
     "metadata": {},
     "output_type": "execute_result"
    }
   ],
   "source": [
    "data[\"availability_365\"] = pd.cut(x = data[\"availability_365\"], bins = intervalos, labels = categorias)\n",
    "data[\"availability_365\"]"
   ]
  },
  {
   "cell_type": "code",
   "execution_count": 751,
   "metadata": {},
   "outputs": [
    {
     "data": {
      "text/html": [
       "<div>\n",
       "<style scoped>\n",
       "    .dataframe tbody tr th:only-of-type {\n",
       "        vertical-align: middle;\n",
       "    }\n",
       "\n",
       "    .dataframe tbody tr th {\n",
       "        vertical-align: top;\n",
       "    }\n",
       "\n",
       "    .dataframe thead th {\n",
       "        text-align: right;\n",
       "    }\n",
       "</style>\n",
       "<table border=\"1\" class=\"dataframe\">\n",
       "  <thead>\n",
       "    <tr style=\"text-align: right;\">\n",
       "      <th></th>\n",
       "      <th>availability_365</th>\n",
       "      <th>frequency</th>\n",
       "      <th>percentage</th>\n",
       "      <th>cumulative_perc</th>\n",
       "    </tr>\n",
       "  </thead>\n",
       "  <tbody>\n",
       "    <tr>\n",
       "      <th>0</th>\n",
       "      <td>Categoría11</td>\n",
       "      <td>7774</td>\n",
       "      <td>0.292454</td>\n",
       "      <td>0.320948</td>\n",
       "    </tr>\n",
       "    <tr>\n",
       "      <th>1</th>\n",
       "      <td>Categoría10</td>\n",
       "      <td>2757</td>\n",
       "      <td>0.103717</td>\n",
       "      <td>0.434770</td>\n",
       "    </tr>\n",
       "    <tr>\n",
       "      <th>2</th>\n",
       "      <td>Categoría9</td>\n",
       "      <td>2400</td>\n",
       "      <td>0.090287</td>\n",
       "      <td>0.533854</td>\n",
       "    </tr>\n",
       "    <tr>\n",
       "      <th>3</th>\n",
       "      <td>Categoría8</td>\n",
       "      <td>2114</td>\n",
       "      <td>0.079527</td>\n",
       "      <td>0.621130</td>\n",
       "    </tr>\n",
       "    <tr>\n",
       "      <th>4</th>\n",
       "      <td>Categoría3</td>\n",
       "      <td>2104</td>\n",
       "      <td>0.079151</td>\n",
       "      <td>0.707993</td>\n",
       "    </tr>\n",
       "    <tr>\n",
       "      <th>5</th>\n",
       "      <td>Categoría5</td>\n",
       "      <td>1436</td>\n",
       "      <td>0.054022</td>\n",
       "      <td>0.767278</td>\n",
       "    </tr>\n",
       "    <tr>\n",
       "      <th>6</th>\n",
       "      <td>Categoría6</td>\n",
       "      <td>1423</td>\n",
       "      <td>0.053532</td>\n",
       "      <td>0.826026</td>\n",
       "    </tr>\n",
       "    <tr>\n",
       "      <th>7</th>\n",
       "      <td>Categoría2</td>\n",
       "      <td>1346</td>\n",
       "      <td>0.050636</td>\n",
       "      <td>0.881595</td>\n",
       "    </tr>\n",
       "    <tr>\n",
       "      <th>8</th>\n",
       "      <td>Categoría1</td>\n",
       "      <td>1000</td>\n",
       "      <td>0.037619</td>\n",
       "      <td>0.922880</td>\n",
       "    </tr>\n",
       "    <tr>\n",
       "      <th>9</th>\n",
       "      <td>Categoría7</td>\n",
       "      <td>960</td>\n",
       "      <td>0.036115</td>\n",
       "      <td>0.962513</td>\n",
       "    </tr>\n",
       "    <tr>\n",
       "      <th>10</th>\n",
       "      <td>Categoría4</td>\n",
       "      <td>908</td>\n",
       "      <td>0.034158</td>\n",
       "      <td>1.000000</td>\n",
       "    </tr>\n",
       "  </tbody>\n",
       "</table>\n",
       "</div>"
      ],
      "text/plain": [
       "   availability_365  frequency  percentage  cumulative_perc\n",
       "0       Categoría11       7774    0.292454         0.320948\n",
       "1       Categoría10       2757    0.103717         0.434770\n",
       "2        Categoría9       2400    0.090287         0.533854\n",
       "3        Categoría8       2114    0.079527         0.621130\n",
       "4        Categoría3       2104    0.079151         0.707993\n",
       "5        Categoría5       1436    0.054022         0.767278\n",
       "6        Categoría6       1423    0.053532         0.826026\n",
       "7        Categoría2       1346    0.050636         0.881595\n",
       "8        Categoría1       1000    0.037619         0.922880\n",
       "9        Categoría7        960    0.036115         0.962513\n",
       "10       Categoría4        908    0.034158         1.000000"
      ]
     },
     "execution_count": 751,
     "metadata": {},
     "output_type": "execute_result"
    }
   ],
   "source": [
    "#Obtengo un análisis univariado de una variable categórica en específico  \n",
    "data1 = freq_tbl(data[\"availability_365\"])\n",
    "data1"
   ]
  },
  {
   "cell_type": "code",
   "execution_count": 752,
   "metadata": {},
   "outputs": [
    {
     "data": {
      "text/html": [
       "<div>\n",
       "<style scoped>\n",
       "    .dataframe tbody tr th:only-of-type {\n",
       "        vertical-align: middle;\n",
       "    }\n",
       "\n",
       "    .dataframe tbody tr th {\n",
       "        vertical-align: top;\n",
       "    }\n",
       "\n",
       "    .dataframe thead th {\n",
       "        text-align: right;\n",
       "    }\n",
       "</style>\n",
       "<table border=\"1\" class=\"dataframe\">\n",
       "  <thead>\n",
       "    <tr style=\"text-align: right;\">\n",
       "      <th></th>\n",
       "      <th>availability_365</th>\n",
       "      <th>frequency</th>\n",
       "      <th>cumulative_perc</th>\n",
       "    </tr>\n",
       "  </thead>\n",
       "  <tbody>\n",
       "    <tr>\n",
       "      <th>0</th>\n",
       "      <td>Categoría11</td>\n",
       "      <td>7774</td>\n",
       "      <td>0.320948</td>\n",
       "    </tr>\n",
       "    <tr>\n",
       "      <th>1</th>\n",
       "      <td>Categoría10</td>\n",
       "      <td>2757</td>\n",
       "      <td>0.434770</td>\n",
       "    </tr>\n",
       "    <tr>\n",
       "      <th>2</th>\n",
       "      <td>Categoría9</td>\n",
       "      <td>2400</td>\n",
       "      <td>0.533854</td>\n",
       "    </tr>\n",
       "    <tr>\n",
       "      <th>3</th>\n",
       "      <td>Categoría8</td>\n",
       "      <td>2114</td>\n",
       "      <td>0.621130</td>\n",
       "    </tr>\n",
       "    <tr>\n",
       "      <th>4</th>\n",
       "      <td>Categoría3</td>\n",
       "      <td>2104</td>\n",
       "      <td>0.707993</td>\n",
       "    </tr>\n",
       "    <tr>\n",
       "      <th>5</th>\n",
       "      <td>Categoría5</td>\n",
       "      <td>1436</td>\n",
       "      <td>0.767278</td>\n",
       "    </tr>\n",
       "    <tr>\n",
       "      <th>6</th>\n",
       "      <td>Categoría6</td>\n",
       "      <td>1423</td>\n",
       "      <td>0.826026</td>\n",
       "    </tr>\n",
       "    <tr>\n",
       "      <th>7</th>\n",
       "      <td>Categoría2</td>\n",
       "      <td>1346</td>\n",
       "      <td>0.881595</td>\n",
       "    </tr>\n",
       "    <tr>\n",
       "      <th>8</th>\n",
       "      <td>Categoría1</td>\n",
       "      <td>1000</td>\n",
       "      <td>0.922880</td>\n",
       "    </tr>\n",
       "    <tr>\n",
       "      <th>9</th>\n",
       "      <td>Categoría7</td>\n",
       "      <td>960</td>\n",
       "      <td>0.962513</td>\n",
       "    </tr>\n",
       "    <tr>\n",
       "      <th>10</th>\n",
       "      <td>Categoría4</td>\n",
       "      <td>908</td>\n",
       "      <td>1.000000</td>\n",
       "    </tr>\n",
       "  </tbody>\n",
       "</table>\n",
       "</div>"
      ],
      "text/plain": [
       "   availability_365  frequency  cumulative_perc\n",
       "0       Categoría11       7774         0.320948\n",
       "1       Categoría10       2757         0.434770\n",
       "2        Categoría9       2400         0.533854\n",
       "3        Categoría8       2114         0.621130\n",
       "4        Categoría3       2104         0.707993\n",
       "5        Categoría5       1436         0.767278\n",
       "6        Categoría6       1423         0.826026\n",
       "7        Categoría2       1346         0.881595\n",
       "8        Categoría1       1000         0.922880\n",
       "9        Categoría7        960         0.962513\n",
       "10       Categoría4        908         1.000000"
      ]
     },
     "execution_count": 752,
     "metadata": {},
     "output_type": "execute_result"
    }
   ],
   "source": [
    "#Elimino las columnas \"procentage\" y \"cumulative_perc\" para trabajar con las fecuencias\n",
    "table8 = data1.drop(['percentage'], axis=1)\n",
    "table8"
   ]
  },
  {
   "cell_type": "code",
   "execution_count": 753,
   "metadata": {},
   "outputs": [
    {
     "data": {
      "text/html": [
       "<div>\n",
       "<style scoped>\n",
       "    .dataframe tbody tr th:only-of-type {\n",
       "        vertical-align: middle;\n",
       "    }\n",
       "\n",
       "    .dataframe tbody tr th {\n",
       "        vertical-align: top;\n",
       "    }\n",
       "\n",
       "    .dataframe thead th {\n",
       "        text-align: right;\n",
       "    }\n",
       "</style>\n",
       "<table border=\"1\" class=\"dataframe\">\n",
       "  <thead>\n",
       "    <tr style=\"text-align: right;\">\n",
       "      <th></th>\n",
       "      <th>availability_365</th>\n",
       "      <th>frequency</th>\n",
       "      <th>cumulative_perc</th>\n",
       "    </tr>\n",
       "  </thead>\n",
       "  <tbody>\n",
       "    <tr>\n",
       "      <th>0</th>\n",
       "      <td>Categoría11</td>\n",
       "      <td>7774</td>\n",
       "      <td>0.320948</td>\n",
       "    </tr>\n",
       "    <tr>\n",
       "      <th>1</th>\n",
       "      <td>Categoría10</td>\n",
       "      <td>2757</td>\n",
       "      <td>0.434770</td>\n",
       "    </tr>\n",
       "    <tr>\n",
       "      <th>2</th>\n",
       "      <td>Categoría9</td>\n",
       "      <td>2400</td>\n",
       "      <td>0.533854</td>\n",
       "    </tr>\n",
       "    <tr>\n",
       "      <th>3</th>\n",
       "      <td>Categoría8</td>\n",
       "      <td>2114</td>\n",
       "      <td>0.621130</td>\n",
       "    </tr>\n",
       "    <tr>\n",
       "      <th>4</th>\n",
       "      <td>Categoría3</td>\n",
       "      <td>2104</td>\n",
       "      <td>0.707993</td>\n",
       "    </tr>\n",
       "    <tr>\n",
       "      <th>5</th>\n",
       "      <td>Categoría5</td>\n",
       "      <td>1436</td>\n",
       "      <td>0.767278</td>\n",
       "    </tr>\n",
       "    <tr>\n",
       "      <th>6</th>\n",
       "      <td>Categoría6</td>\n",
       "      <td>1423</td>\n",
       "      <td>0.826026</td>\n",
       "    </tr>\n",
       "    <tr>\n",
       "      <th>7</th>\n",
       "      <td>Categoría2</td>\n",
       "      <td>1346</td>\n",
       "      <td>0.881595</td>\n",
       "    </tr>\n",
       "  </tbody>\n",
       "</table>\n",
       "</div>"
      ],
      "text/plain": [
       "  availability_365  frequency  cumulative_perc\n",
       "0      Categoría11       7774         0.320948\n",
       "1      Categoría10       2757         0.434770\n",
       "2       Categoría9       2400         0.533854\n",
       "3       Categoría8       2114         0.621130\n",
       "4       Categoría3       2104         0.707993\n",
       "5       Categoría5       1436         0.767278\n",
       "6       Categoría6       1423         0.826026\n",
       "7       Categoría2       1346         0.881595"
      ]
     },
     "execution_count": 753,
     "metadata": {},
     "output_type": "execute_result"
    }
   ],
   "source": [
    "filtro8 = table8[table8['frequency'] > 1000]\n",
    "filtro8"
   ]
  },
  {
   "cell_type": "code",
   "execution_count": 754,
   "metadata": {},
   "outputs": [
    {
     "data": {
      "text/html": [
       "<div>\n",
       "<style scoped>\n",
       "    .dataframe tbody tr th:only-of-type {\n",
       "        vertical-align: middle;\n",
       "    }\n",
       "\n",
       "    .dataframe tbody tr th {\n",
       "        vertical-align: top;\n",
       "    }\n",
       "\n",
       "    .dataframe thead th {\n",
       "        text-align: right;\n",
       "    }\n",
       "</style>\n",
       "<table border=\"1\" class=\"dataframe\">\n",
       "  <thead>\n",
       "    <tr style=\"text-align: right;\">\n",
       "      <th></th>\n",
       "      <th>frequency</th>\n",
       "      <th>cumulative_perc</th>\n",
       "    </tr>\n",
       "    <tr>\n",
       "      <th>availability_365</th>\n",
       "      <th></th>\n",
       "      <th></th>\n",
       "    </tr>\n",
       "  </thead>\n",
       "  <tbody>\n",
       "    <tr>\n",
       "      <th>Categoría11</th>\n",
       "      <td>7774</td>\n",
       "      <td>0.320948</td>\n",
       "    </tr>\n",
       "    <tr>\n",
       "      <th>Categoría10</th>\n",
       "      <td>2757</td>\n",
       "      <td>0.434770</td>\n",
       "    </tr>\n",
       "    <tr>\n",
       "      <th>Categoría9</th>\n",
       "      <td>2400</td>\n",
       "      <td>0.533854</td>\n",
       "    </tr>\n",
       "    <tr>\n",
       "      <th>Categoría8</th>\n",
       "      <td>2114</td>\n",
       "      <td>0.621130</td>\n",
       "    </tr>\n",
       "    <tr>\n",
       "      <th>Categoría3</th>\n",
       "      <td>2104</td>\n",
       "      <td>0.707993</td>\n",
       "    </tr>\n",
       "    <tr>\n",
       "      <th>Categoría5</th>\n",
       "      <td>1436</td>\n",
       "      <td>0.767278</td>\n",
       "    </tr>\n",
       "    <tr>\n",
       "      <th>Categoría6</th>\n",
       "      <td>1423</td>\n",
       "      <td>0.826026</td>\n",
       "    </tr>\n",
       "    <tr>\n",
       "      <th>Categoría2</th>\n",
       "      <td>1346</td>\n",
       "      <td>0.881595</td>\n",
       "    </tr>\n",
       "  </tbody>\n",
       "</table>\n",
       "</div>"
      ],
      "text/plain": [
       "                  frequency  cumulative_perc\n",
       "availability_365                            \n",
       "Categoría11            7774         0.320948\n",
       "Categoría10            2757         0.434770\n",
       "Categoría9             2400         0.533854\n",
       "Categoría8             2114         0.621130\n",
       "Categoría3             2104         0.707993\n",
       "Categoría5             1436         0.767278\n",
       "Categoría6             1423         0.826026\n",
       "Categoría2             1346         0.881595"
      ]
     },
     "execution_count": 754,
     "metadata": {},
     "output_type": "execute_result"
    }
   ],
   "source": [
    "#Ajusto el indice de mi DataFrame\n",
    "Filtro_index = filtro8.set_index(\"availability_365\")\n",
    "Filtro_index"
   ]
  },
  {
   "cell_type": "code",
   "execution_count": 755,
   "metadata": {},
   "outputs": [
    {
     "data": {
      "text/plain": [
       "<Axes: xlabel='frequency', ylabel='cumulative_perc'>"
      ]
     },
     "execution_count": 755,
     "metadata": {},
     "output_type": "execute_result"
    },
    {
     "data": {
      "image/png": "[encoded data removed]",
      "text/plain": [
       "<Figure size 640x480 with 1 Axes>"
      ]
     },
     "metadata": {},
     "output_type": "display_data"
    }
   ],
   "source": [
    "#Realizamos grafico de dispersión del dataframe filtrado\n",
    "table8.plot(\"frequency\", \"cumulative_perc\", kind=\"scatter\")"
   ]
  },
  {
   "cell_type": "code",
   "execution_count": 756,
   "metadata": {},
   "outputs": [
    {
     "data": {
      "text/plain": [
       "[0, 1282]"
      ]
     },
     "execution_count": 756,
     "metadata": {},
     "output_type": "execute_result"
    }
   ],
   "source": [
    "Min = data[\"number_of_reviews\"].min()  \n",
    "Max = data[\"number_of_reviews\"].max()  \n",
    "Limites = [Min,Max]\n",
    "Limites"
   ]
  },
  {
   "cell_type": "code",
   "execution_count": 757,
   "metadata": {},
   "outputs": [
    {
     "data": {
      "text/plain": [
       "1282"
      ]
     },
     "execution_count": 757,
     "metadata": {},
     "output_type": "execute_result"
    }
   ],
   "source": [
    "#Calcula el rango\n",
    "R = Max - Min\n",
    "R"
   ]
  },
  {
   "cell_type": "code",
   "execution_count": 758,
   "metadata": {},
   "outputs": [
    {
     "data": {
      "text/plain": [
       "15.689631010177528"
      ]
     },
     "execution_count": 758,
     "metadata": {},
     "output_type": "execute_result"
    }
   ],
   "source": [
    "#Calcular el número de Intervalos de Clase (ni). Se aplica la regla de Sturges (Donde “n” el tamaño de la muestra.):\n",
    "ni = 1+3.32*np.log10(n)\n",
    "ni"
   ]
  },
  {
   "cell_type": "code",
   "execution_count": 759,
   "metadata": {},
   "outputs": [
    {
     "data": {
      "text/plain": [
       "81.71001594418594"
      ]
     },
     "execution_count": 759,
     "metadata": {},
     "output_type": "execute_result"
    }
   ],
   "source": [
    "#Calcular el Ancho del Intervalo ( i )\n",
    "i = R/ni\n",
    "i"
   ]
  },
  {
   "cell_type": "code",
   "execution_count": 760,
   "metadata": {},
   "outputs": [
    {
     "data": {
      "text/plain": [
       "array([   0.        ,  116.54545455,  233.09090909,  349.63636364,\n",
       "        466.18181818,  582.72727273,  699.27272727,  815.81818182,\n",
       "        932.36363636, 1048.90909091, 1165.45454545, 1282.        ])"
      ]
     },
     "execution_count": 760,
     "metadata": {},
     "output_type": "execute_result"
    }
   ],
   "source": [
    "# Ver resultado\n",
    "intervalos = np.linspace(0, 1282, 12) #Número de clases más uno\n",
    "intervalos"
   ]
  },
  {
   "cell_type": "code",
   "execution_count": 761,
   "metadata": {},
   "outputs": [],
   "source": [
    "categorias = [\"Categoría1\", \"Categoría2\", \"Categoría3\", \"Categoría4\",\n",
    "              \"Categoría5\", \"Categoría6\", \"Categoría7\", \"Categoría8\",\n",
    "              \"Categoría9\",\"Categoría10\",\"Categoría11\"]"
   ]
  },
  {
   "cell_type": "code",
   "execution_count": 762,
   "metadata": {},
   "outputs": [
    {
     "data": {
      "text/plain": [
       "0               NaN\n",
       "1        Categoría1\n",
       "2        Categoría1\n",
       "3        Categoría2\n",
       "4        Categoría1\n",
       "            ...    \n",
       "26577           NaN\n",
       "26578           NaN\n",
       "26579           NaN\n",
       "26580           NaN\n",
       "26581           NaN\n",
       "Name: number_of_reviews, Length: 26582, dtype: category\n",
       "Categories (11, object): ['Categoría1' < 'Categoría2' < 'Categoría3' < 'Categoría4' ... 'Categoría8' < 'Categoría9' < 'Categoría10' < 'Categoría11']"
      ]
     },
     "execution_count": 762,
     "metadata": {},
     "output_type": "execute_result"
    }
   ],
   "source": [
    "data[\"number_of_reviews\"] = pd.cut(x = data[\"number_of_reviews\"], bins = intervalos, labels = categorias)\n",
    "data[\"number_of_reviews\"]\n"
   ]
  },
  {
   "cell_type": "code",
   "execution_count": 763,
   "metadata": {},
   "outputs": [
    {
     "data": {
      "text/html": [
       "<div>\n",
       "<style scoped>\n",
       "    .dataframe tbody tr th:only-of-type {\n",
       "        vertical-align: middle;\n",
       "    }\n",
       "\n",
       "    .dataframe tbody tr th {\n",
       "        vertical-align: top;\n",
       "    }\n",
       "\n",
       "    .dataframe thead th {\n",
       "        text-align: right;\n",
       "    }\n",
       "</style>\n",
       "<table border=\"1\" class=\"dataframe\">\n",
       "  <thead>\n",
       "    <tr style=\"text-align: right;\">\n",
       "      <th></th>\n",
       "      <th>number_of_reviews</th>\n",
       "      <th>frequency</th>\n",
       "      <th>percentage</th>\n",
       "      <th>cumulative_perc</th>\n",
       "    </tr>\n",
       "  </thead>\n",
       "  <tbody>\n",
       "    <tr>\n",
       "      <th>0</th>\n",
       "      <td>Categoría1</td>\n",
       "      <td>19966</td>\n",
       "      <td>0.751110</td>\n",
       "      <td>0.870889</td>\n",
       "    </tr>\n",
       "    <tr>\n",
       "      <th>1</th>\n",
       "      <td>Categoría2</td>\n",
       "      <td>2099</td>\n",
       "      <td>0.078963</td>\n",
       "      <td>0.962444</td>\n",
       "    </tr>\n",
       "    <tr>\n",
       "      <th>2</th>\n",
       "      <td>Categoría3</td>\n",
       "      <td>554</td>\n",
       "      <td>0.020841</td>\n",
       "      <td>0.986609</td>\n",
       "    </tr>\n",
       "    <tr>\n",
       "      <th>3</th>\n",
       "      <td>Categoría4</td>\n",
       "      <td>204</td>\n",
       "      <td>0.007674</td>\n",
       "      <td>0.995507</td>\n",
       "    </tr>\n",
       "    <tr>\n",
       "      <th>4</th>\n",
       "      <td>Categoría5</td>\n",
       "      <td>59</td>\n",
       "      <td>0.002220</td>\n",
       "      <td>0.998081</td>\n",
       "    </tr>\n",
       "    <tr>\n",
       "      <th>5</th>\n",
       "      <td>Categoría6</td>\n",
       "      <td>23</td>\n",
       "      <td>0.000865</td>\n",
       "      <td>0.999084</td>\n",
       "    </tr>\n",
       "    <tr>\n",
       "      <th>6</th>\n",
       "      <td>Categoría7</td>\n",
       "      <td>11</td>\n",
       "      <td>0.000414</td>\n",
       "      <td>0.999564</td>\n",
       "    </tr>\n",
       "    <tr>\n",
       "      <th>7</th>\n",
       "      <td>Categoría8</td>\n",
       "      <td>6</td>\n",
       "      <td>0.000226</td>\n",
       "      <td>0.999826</td>\n",
       "    </tr>\n",
       "    <tr>\n",
       "      <th>8</th>\n",
       "      <td>Categoría9</td>\n",
       "      <td>2</td>\n",
       "      <td>0.000075</td>\n",
       "      <td>0.999913</td>\n",
       "    </tr>\n",
       "    <tr>\n",
       "      <th>9</th>\n",
       "      <td>Categoría10</td>\n",
       "      <td>1</td>\n",
       "      <td>0.000038</td>\n",
       "      <td>0.999956</td>\n",
       "    </tr>\n",
       "    <tr>\n",
       "      <th>10</th>\n",
       "      <td>Categoría11</td>\n",
       "      <td>1</td>\n",
       "      <td>0.000038</td>\n",
       "      <td>1.000000</td>\n",
       "    </tr>\n",
       "  </tbody>\n",
       "</table>\n",
       "</div>"
      ],
      "text/plain": [
       "   number_of_reviews  frequency  percentage  cumulative_perc\n",
       "0         Categoría1      19966    0.751110         0.870889\n",
       "1         Categoría2       2099    0.078963         0.962444\n",
       "2         Categoría3        554    0.020841         0.986609\n",
       "3         Categoría4        204    0.007674         0.995507\n",
       "4         Categoría5         59    0.002220         0.998081\n",
       "5         Categoría6         23    0.000865         0.999084\n",
       "6         Categoría7         11    0.000414         0.999564\n",
       "7         Categoría8          6    0.000226         0.999826\n",
       "8         Categoría9          2    0.000075         0.999913\n",
       "9        Categoría10          1    0.000038         0.999956\n",
       "10       Categoría11          1    0.000038         1.000000"
      ]
     },
     "execution_count": 763,
     "metadata": {},
     "output_type": "execute_result"
    }
   ],
   "source": [
    "#Obtengo un análisis univariado de una variable categórica en específico  \n",
    "data1 = freq_tbl(data[\"number_of_reviews\"])\n",
    "data1"
   ]
  },
  {
   "cell_type": "code",
   "execution_count": 764,
   "metadata": {},
   "outputs": [
    {
     "data": {
      "text/html": [
       "<div>\n",
       "<style scoped>\n",
       "    .dataframe tbody tr th:only-of-type {\n",
       "        vertical-align: middle;\n",
       "    }\n",
       "\n",
       "    .dataframe tbody tr th {\n",
       "        vertical-align: top;\n",
       "    }\n",
       "\n",
       "    .dataframe thead th {\n",
       "        text-align: right;\n",
       "    }\n",
       "</style>\n",
       "<table border=\"1\" class=\"dataframe\">\n",
       "  <thead>\n",
       "    <tr style=\"text-align: right;\">\n",
       "      <th></th>\n",
       "      <th>number_of_reviews</th>\n",
       "      <th>frequency</th>\n",
       "    </tr>\n",
       "  </thead>\n",
       "  <tbody>\n",
       "    <tr>\n",
       "      <th>0</th>\n",
       "      <td>Categoría1</td>\n",
       "      <td>19966</td>\n",
       "    </tr>\n",
       "    <tr>\n",
       "      <th>1</th>\n",
       "      <td>Categoría2</td>\n",
       "      <td>2099</td>\n",
       "    </tr>\n",
       "    <tr>\n",
       "      <th>2</th>\n",
       "      <td>Categoría3</td>\n",
       "      <td>554</td>\n",
       "    </tr>\n",
       "    <tr>\n",
       "      <th>3</th>\n",
       "      <td>Categoría4</td>\n",
       "      <td>204</td>\n",
       "    </tr>\n",
       "    <tr>\n",
       "      <th>4</th>\n",
       "      <td>Categoría5</td>\n",
       "      <td>59</td>\n",
       "    </tr>\n",
       "    <tr>\n",
       "      <th>5</th>\n",
       "      <td>Categoría6</td>\n",
       "      <td>23</td>\n",
       "    </tr>\n",
       "    <tr>\n",
       "      <th>6</th>\n",
       "      <td>Categoría7</td>\n",
       "      <td>11</td>\n",
       "    </tr>\n",
       "    <tr>\n",
       "      <th>7</th>\n",
       "      <td>Categoría8</td>\n",
       "      <td>6</td>\n",
       "    </tr>\n",
       "    <tr>\n",
       "      <th>8</th>\n",
       "      <td>Categoría9</td>\n",
       "      <td>2</td>\n",
       "    </tr>\n",
       "    <tr>\n",
       "      <th>9</th>\n",
       "      <td>Categoría10</td>\n",
       "      <td>1</td>\n",
       "    </tr>\n",
       "    <tr>\n",
       "      <th>10</th>\n",
       "      <td>Categoría11</td>\n",
       "      <td>1</td>\n",
       "    </tr>\n",
       "  </tbody>\n",
       "</table>\n",
       "</div>"
      ],
      "text/plain": [
       "   number_of_reviews  frequency\n",
       "0         Categoría1      19966\n",
       "1         Categoría2       2099\n",
       "2         Categoría3        554\n",
       "3         Categoría4        204\n",
       "4         Categoría5         59\n",
       "5         Categoría6         23\n",
       "6         Categoría7         11\n",
       "7         Categoría8          6\n",
       "8         Categoría9          2\n",
       "9        Categoría10          1\n",
       "10       Categoría11          1"
      ]
     },
     "execution_count": 764,
     "metadata": {},
     "output_type": "execute_result"
    }
   ],
   "source": [
    "#Elimino las columnas \"procentage\" y \"cumulative_perc\" para trabajar con las fecuencias\n",
    "table9 = data1.drop(['percentage', 'cumulative_perc'], axis=1)\n",
    "table9"
   ]
  },
  {
   "cell_type": "code",
   "execution_count": 765,
   "metadata": {},
   "outputs": [
    {
     "data": {
      "text/html": [
       "<div>\n",
       "<style scoped>\n",
       "    .dataframe tbody tr th:only-of-type {\n",
       "        vertical-align: middle;\n",
       "    }\n",
       "\n",
       "    .dataframe tbody tr th {\n",
       "        vertical-align: top;\n",
       "    }\n",
       "\n",
       "    .dataframe thead th {\n",
       "        text-align: right;\n",
       "    }\n",
       "</style>\n",
       "<table border=\"1\" class=\"dataframe\">\n",
       "  <thead>\n",
       "    <tr style=\"text-align: right;\">\n",
       "      <th></th>\n",
       "      <th>number_of_reviews</th>\n",
       "      <th>frequency</th>\n",
       "    </tr>\n",
       "  </thead>\n",
       "  <tbody>\n",
       "    <tr>\n",
       "      <th>0</th>\n",
       "      <td>Categoría1</td>\n",
       "      <td>19966</td>\n",
       "    </tr>\n",
       "    <tr>\n",
       "      <th>1</th>\n",
       "      <td>Categoría2</td>\n",
       "      <td>2099</td>\n",
       "    </tr>\n",
       "    <tr>\n",
       "      <th>2</th>\n",
       "      <td>Categoría3</td>\n",
       "      <td>554</td>\n",
       "    </tr>\n",
       "    <tr>\n",
       "      <th>3</th>\n",
       "      <td>Categoría4</td>\n",
       "      <td>204</td>\n",
       "    </tr>\n",
       "    <tr>\n",
       "      <th>4</th>\n",
       "      <td>Categoría5</td>\n",
       "      <td>59</td>\n",
       "    </tr>\n",
       "    <tr>\n",
       "      <th>5</th>\n",
       "      <td>Categoría6</td>\n",
       "      <td>23</td>\n",
       "    </tr>\n",
       "    <tr>\n",
       "      <th>6</th>\n",
       "      <td>Categoría7</td>\n",
       "      <td>11</td>\n",
       "    </tr>\n",
       "  </tbody>\n",
       "</table>\n",
       "</div>"
      ],
      "text/plain": [
       "  number_of_reviews  frequency\n",
       "0        Categoría1      19966\n",
       "1        Categoría2       2099\n",
       "2        Categoría3        554\n",
       "3        Categoría4        204\n",
       "4        Categoría5         59\n",
       "5        Categoría6         23\n",
       "6        Categoría7         11"
      ]
     },
     "execution_count": 765,
     "metadata": {},
     "output_type": "execute_result"
    }
   ],
   "source": [
    "filtro9 = table9[table9['frequency'] > 10]\n",
    "filtro9"
   ]
  },
  {
   "cell_type": "code",
   "execution_count": 766,
   "metadata": {},
   "outputs": [
    {
     "data": {
      "text/html": [
       "<div>\n",
       "<style scoped>\n",
       "    .dataframe tbody tr th:only-of-type {\n",
       "        vertical-align: middle;\n",
       "    }\n",
       "\n",
       "    .dataframe tbody tr th {\n",
       "        vertical-align: top;\n",
       "    }\n",
       "\n",
       "    .dataframe thead th {\n",
       "        text-align: right;\n",
       "    }\n",
       "</style>\n",
       "<table border=\"1\" class=\"dataframe\">\n",
       "  <thead>\n",
       "    <tr style=\"text-align: right;\">\n",
       "      <th></th>\n",
       "      <th>frequency</th>\n",
       "    </tr>\n",
       "    <tr>\n",
       "      <th>number_of_reviews</th>\n",
       "      <th></th>\n",
       "    </tr>\n",
       "  </thead>\n",
       "  <tbody>\n",
       "    <tr>\n",
       "      <th>Categoría1</th>\n",
       "      <td>19966</td>\n",
       "    </tr>\n",
       "    <tr>\n",
       "      <th>Categoría2</th>\n",
       "      <td>2099</td>\n",
       "    </tr>\n",
       "    <tr>\n",
       "      <th>Categoría3</th>\n",
       "      <td>554</td>\n",
       "    </tr>\n",
       "    <tr>\n",
       "      <th>Categoría4</th>\n",
       "      <td>204</td>\n",
       "    </tr>\n",
       "    <tr>\n",
       "      <th>Categoría5</th>\n",
       "      <td>59</td>\n",
       "    </tr>\n",
       "    <tr>\n",
       "      <th>Categoría6</th>\n",
       "      <td>23</td>\n",
       "    </tr>\n",
       "    <tr>\n",
       "      <th>Categoría7</th>\n",
       "      <td>11</td>\n",
       "    </tr>\n",
       "  </tbody>\n",
       "</table>\n",
       "</div>"
      ],
      "text/plain": [
       "                   frequency\n",
       "number_of_reviews           \n",
       "Categoría1             19966\n",
       "Categoría2              2099\n",
       "Categoría3               554\n",
       "Categoría4               204\n",
       "Categoría5                59\n",
       "Categoría6                23\n",
       "Categoría7                11"
      ]
     },
     "execution_count": 766,
     "metadata": {},
     "output_type": "execute_result"
    }
   ],
   "source": [
    "#Ajusto el indice de mi DataFrame\n",
    "Filtro_index = filtro9.set_index(\"number_of_reviews\")\n",
    "Filtro_index\n"
   ]
  },
  {
   "cell_type": "code",
   "execution_count": 767,
   "metadata": {},
   "outputs": [
    {
     "data": {
      "text/plain": [
       "<Axes: xlabel='number_of_reviews'>"
      ]
     },
     "execution_count": 767,
     "metadata": {},
     "output_type": "execute_result"
    },
    {
     "data": {
      "image/png": "[encoded data removed]",
      "text/plain": [
       "<Figure size 1000x400 with 1 Axes>"
      ]
     },
     "metadata": {},
     "output_type": "display_data"
    }
   ],
   "source": [
    "#Realizamos grafico de área del dataframe filtrado\n",
    "Filtro_index.plot(kind='area', figsize=(10,4), alpha = 0.5)"
   ]
  },
  {
   "cell_type": "code",
   "execution_count": 768,
   "metadata": {},
   "outputs": [
    {
     "data": {
      "text/plain": [
       "[1.0, 5.0]"
      ]
     },
     "execution_count": 768,
     "metadata": {},
     "output_type": "execute_result"
    }
   ],
   "source": [
    "Min = data[\"review_scores_location\"].min()  \n",
    "Max = data[\"review_scores_location\"].max()  \n",
    "Limites = [Min,Max]\n",
    "Limites"
   ]
  },
  {
   "cell_type": "code",
   "execution_count": 769,
   "metadata": {},
   "outputs": [
    {
     "data": {
      "text/plain": [
       "4.0"
      ]
     },
     "execution_count": 769,
     "metadata": {},
     "output_type": "execute_result"
    }
   ],
   "source": [
    "#Calcula el rango\n",
    "R = Max - Min\n",
    "R"
   ]
  },
  {
   "cell_type": "code",
   "execution_count": 770,
   "metadata": {},
   "outputs": [
    {
     "data": {
      "text/plain": [
       "15.689631010177528"
      ]
     },
     "execution_count": 770,
     "metadata": {},
     "output_type": "execute_result"
    }
   ],
   "source": [
    "#Calcular el número de Intervalos de Clase (ni). Se aplica la regla de Sturges (Donde “n” el tamaño de la muestra.):\n",
    "ni = 1+3.32*np.log10(n)\n",
    "ni\n"
   ]
  },
  {
   "cell_type": "code",
   "execution_count": 771,
   "metadata": {},
   "outputs": [
    {
     "data": {
      "text/plain": [
       "0.2549454475637627"
      ]
     },
     "execution_count": 771,
     "metadata": {},
     "output_type": "execute_result"
    }
   ],
   "source": [
    "#Calcular el Ancho del Intervalo ( i )\n",
    "i = R/ni\n",
    "i"
   ]
  },
  {
   "cell_type": "code",
   "execution_count": 772,
   "metadata": {},
   "outputs": [
    {
     "data": {
      "text/plain": [
       "array([1.        , 1.36363636, 1.72727273, 2.09090909, 2.45454545,\n",
       "       2.81818182, 3.18181818, 3.54545455, 3.90909091, 4.27272727,\n",
       "       4.63636364, 5.        ])"
      ]
     },
     "execution_count": 772,
     "metadata": {},
     "output_type": "execute_result"
    }
   ],
   "source": [
    "# Ver resultado\n",
    "intervalos = np.linspace(1.0, 5.0, 12) #Número de clases más uno\n",
    "intervalos"
   ]
  },
  {
   "cell_type": "code",
   "execution_count": 773,
   "metadata": {},
   "outputs": [],
   "source": [
    "categorias = [\"Categoría1\", \"Categoría2\", \"Categoría3\", \"Categoría4\",\n",
    "              \"Categoría5\", \"Categoría6\", \"Categoría7\", \"Categoría8\",\n",
    "              \"Categoría9\",\"Categoría10\",\"Categoría11\"]"
   ]
  },
  {
   "cell_type": "code",
   "execution_count": 774,
   "metadata": {},
   "outputs": [
    {
     "data": {
      "text/plain": [
       "0        Categoría11\n",
       "1        Categoría11\n",
       "2        Categoría11\n",
       "3        Categoría11\n",
       "4        Categoría11\n",
       "            ...     \n",
       "26577    Categoría11\n",
       "26578    Categoría11\n",
       "26579    Categoría11\n",
       "26580    Categoría11\n",
       "26581    Categoría11\n",
       "Name: review_scores_location, Length: 26582, dtype: category\n",
       "Categories (11, object): ['Categoría1' < 'Categoría2' < 'Categoría3' < 'Categoría4' ... 'Categoría8' < 'Categoría9' < 'Categoría10' < 'Categoría11']"
      ]
     },
     "execution_count": 774,
     "metadata": {},
     "output_type": "execute_result"
    }
   ],
   "source": [
    "data[\"review_scores_location\"] = pd.cut(x = data[\"review_scores_location\"], bins = intervalos, labels = categorias)\n",
    "data[\"review_scores_location\"]\n"
   ]
  },
  {
   "cell_type": "code",
   "execution_count": 775,
   "metadata": {},
   "outputs": [
    {
     "data": {
      "text/html": [
       "<div>\n",
       "<style scoped>\n",
       "    .dataframe tbody tr th:only-of-type {\n",
       "        vertical-align: middle;\n",
       "    }\n",
       "\n",
       "    .dataframe tbody tr th {\n",
       "        vertical-align: top;\n",
       "    }\n",
       "\n",
       "    .dataframe thead th {\n",
       "        text-align: right;\n",
       "    }\n",
       "</style>\n",
       "<table border=\"1\" class=\"dataframe\">\n",
       "  <thead>\n",
       "    <tr style=\"text-align: right;\">\n",
       "      <th></th>\n",
       "      <th>review_scores_location</th>\n",
       "      <th>frequency</th>\n",
       "      <th>percentage</th>\n",
       "      <th>cumulative_perc</th>\n",
       "    </tr>\n",
       "  </thead>\n",
       "  <tbody>\n",
       "    <tr>\n",
       "      <th>0</th>\n",
       "      <td>Categoría11</td>\n",
       "      <td>23805</td>\n",
       "      <td>0.895531</td>\n",
       "      <td>0.897117</td>\n",
       "    </tr>\n",
       "    <tr>\n",
       "      <th>1</th>\n",
       "      <td>Categoría10</td>\n",
       "      <td>1914</td>\n",
       "      <td>0.072004</td>\n",
       "      <td>0.969248</td>\n",
       "    </tr>\n",
       "    <tr>\n",
       "      <th>2</th>\n",
       "      <td>Categoría9</td>\n",
       "      <td>573</td>\n",
       "      <td>0.021556</td>\n",
       "      <td>0.990842</td>\n",
       "    </tr>\n",
       "    <tr>\n",
       "      <th>3</th>\n",
       "      <td>Categoría6</td>\n",
       "      <td>89</td>\n",
       "      <td>0.003348</td>\n",
       "      <td>0.994196</td>\n",
       "    </tr>\n",
       "    <tr>\n",
       "      <th>4</th>\n",
       "      <td>Categoría8</td>\n",
       "      <td>77</td>\n",
       "      <td>0.002897</td>\n",
       "      <td>0.997098</td>\n",
       "    </tr>\n",
       "    <tr>\n",
       "      <th>5</th>\n",
       "      <td>Categoría7</td>\n",
       "      <td>48</td>\n",
       "      <td>0.001806</td>\n",
       "      <td>0.998907</td>\n",
       "    </tr>\n",
       "    <tr>\n",
       "      <th>6</th>\n",
       "      <td>Categoría3</td>\n",
       "      <td>21</td>\n",
       "      <td>0.000790</td>\n",
       "      <td>0.999699</td>\n",
       "    </tr>\n",
       "    <tr>\n",
       "      <th>7</th>\n",
       "      <td>Categoría5</td>\n",
       "      <td>5</td>\n",
       "      <td>0.000188</td>\n",
       "      <td>0.999887</td>\n",
       "    </tr>\n",
       "    <tr>\n",
       "      <th>8</th>\n",
       "      <td>Categoría2</td>\n",
       "      <td>2</td>\n",
       "      <td>0.000075</td>\n",
       "      <td>0.999962</td>\n",
       "    </tr>\n",
       "    <tr>\n",
       "      <th>9</th>\n",
       "      <td>Categoría4</td>\n",
       "      <td>1</td>\n",
       "      <td>0.000038</td>\n",
       "      <td>1.000000</td>\n",
       "    </tr>\n",
       "    <tr>\n",
       "      <th>10</th>\n",
       "      <td>Categoría1</td>\n",
       "      <td>0</td>\n",
       "      <td>0.000000</td>\n",
       "      <td>1.000000</td>\n",
       "    </tr>\n",
       "  </tbody>\n",
       "</table>\n",
       "</div>"
      ],
      "text/plain": [
       "   review_scores_location  frequency  percentage  cumulative_perc\n",
       "0             Categoría11      23805    0.895531         0.897117\n",
       "1             Categoría10       1914    0.072004         0.969248\n",
       "2              Categoría9        573    0.021556         0.990842\n",
       "3              Categoría6         89    0.003348         0.994196\n",
       "4              Categoría8         77    0.002897         0.997098\n",
       "5              Categoría7         48    0.001806         0.998907\n",
       "6              Categoría3         21    0.000790         0.999699\n",
       "7              Categoría5          5    0.000188         0.999887\n",
       "8              Categoría2          2    0.000075         0.999962\n",
       "9              Categoría4          1    0.000038         1.000000\n",
       "10             Categoría1          0    0.000000         1.000000"
      ]
     },
     "execution_count": 775,
     "metadata": {},
     "output_type": "execute_result"
    }
   ],
   "source": [
    "#Obtengo un análisis univariado de una variable categórica en específico  \n",
    "data1 = freq_tbl(data[\"review_scores_location\"])\n",
    "data1"
   ]
  },
  {
   "cell_type": "code",
   "execution_count": 776,
   "metadata": {},
   "outputs": [
    {
     "data": {
      "text/html": [
       "<div>\n",
       "<style scoped>\n",
       "    .dataframe tbody tr th:only-of-type {\n",
       "        vertical-align: middle;\n",
       "    }\n",
       "\n",
       "    .dataframe tbody tr th {\n",
       "        vertical-align: top;\n",
       "    }\n",
       "\n",
       "    .dataframe thead th {\n",
       "        text-align: right;\n",
       "    }\n",
       "</style>\n",
       "<table border=\"1\" class=\"dataframe\">\n",
       "  <thead>\n",
       "    <tr style=\"text-align: right;\">\n",
       "      <th></th>\n",
       "      <th>review_scores_location</th>\n",
       "      <th>frequency</th>\n",
       "      <th>cumulative_perc</th>\n",
       "    </tr>\n",
       "  </thead>\n",
       "  <tbody>\n",
       "    <tr>\n",
       "      <th>0</th>\n",
       "      <td>Categoría11</td>\n",
       "      <td>23805</td>\n",
       "      <td>0.897117</td>\n",
       "    </tr>\n",
       "    <tr>\n",
       "      <th>1</th>\n",
       "      <td>Categoría10</td>\n",
       "      <td>1914</td>\n",
       "      <td>0.969248</td>\n",
       "    </tr>\n",
       "    <tr>\n",
       "      <th>2</th>\n",
       "      <td>Categoría9</td>\n",
       "      <td>573</td>\n",
       "      <td>0.990842</td>\n",
       "    </tr>\n",
       "    <tr>\n",
       "      <th>3</th>\n",
       "      <td>Categoría6</td>\n",
       "      <td>89</td>\n",
       "      <td>0.994196</td>\n",
       "    </tr>\n",
       "    <tr>\n",
       "      <th>4</th>\n",
       "      <td>Categoría8</td>\n",
       "      <td>77</td>\n",
       "      <td>0.997098</td>\n",
       "    </tr>\n",
       "    <tr>\n",
       "      <th>5</th>\n",
       "      <td>Categoría7</td>\n",
       "      <td>48</td>\n",
       "      <td>0.998907</td>\n",
       "    </tr>\n",
       "    <tr>\n",
       "      <th>6</th>\n",
       "      <td>Categoría3</td>\n",
       "      <td>21</td>\n",
       "      <td>0.999699</td>\n",
       "    </tr>\n",
       "    <tr>\n",
       "      <th>7</th>\n",
       "      <td>Categoría5</td>\n",
       "      <td>5</td>\n",
       "      <td>0.999887</td>\n",
       "    </tr>\n",
       "    <tr>\n",
       "      <th>8</th>\n",
       "      <td>Categoría2</td>\n",
       "      <td>2</td>\n",
       "      <td>0.999962</td>\n",
       "    </tr>\n",
       "    <tr>\n",
       "      <th>9</th>\n",
       "      <td>Categoría4</td>\n",
       "      <td>1</td>\n",
       "      <td>1.000000</td>\n",
       "    </tr>\n",
       "    <tr>\n",
       "      <th>10</th>\n",
       "      <td>Categoría1</td>\n",
       "      <td>0</td>\n",
       "      <td>1.000000</td>\n",
       "    </tr>\n",
       "  </tbody>\n",
       "</table>\n",
       "</div>"
      ],
      "text/plain": [
       "   review_scores_location  frequency  cumulative_perc\n",
       "0             Categoría11      23805         0.897117\n",
       "1             Categoría10       1914         0.969248\n",
       "2              Categoría9        573         0.990842\n",
       "3              Categoría6         89         0.994196\n",
       "4              Categoría8         77         0.997098\n",
       "5              Categoría7         48         0.998907\n",
       "6              Categoría3         21         0.999699\n",
       "7              Categoría5          5         0.999887\n",
       "8              Categoría2          2         0.999962\n",
       "9              Categoría4          1         1.000000\n",
       "10             Categoría1          0         1.000000"
      ]
     },
     "execution_count": 776,
     "metadata": {},
     "output_type": "execute_result"
    }
   ],
   "source": [
    "#Elimino las columnas \"procentage\" y \"cumulative_perc\" para trabajar con las fecuencias\n",
    "table10 = data1.drop(['percentage'], axis=1)\n",
    "table10"
   ]
  },
  {
   "cell_type": "code",
   "execution_count": 777,
   "metadata": {},
   "outputs": [
    {
     "data": {
      "text/html": [
       "<div>\n",
       "<style scoped>\n",
       "    .dataframe tbody tr th:only-of-type {\n",
       "        vertical-align: middle;\n",
       "    }\n",
       "\n",
       "    .dataframe tbody tr th {\n",
       "        vertical-align: top;\n",
       "    }\n",
       "\n",
       "    .dataframe thead th {\n",
       "        text-align: right;\n",
       "    }\n",
       "</style>\n",
       "<table border=\"1\" class=\"dataframe\">\n",
       "  <thead>\n",
       "    <tr style=\"text-align: right;\">\n",
       "      <th></th>\n",
       "      <th>review_scores_location</th>\n",
       "      <th>frequency</th>\n",
       "      <th>cumulative_perc</th>\n",
       "    </tr>\n",
       "  </thead>\n",
       "  <tbody>\n",
       "    <tr>\n",
       "      <th>0</th>\n",
       "      <td>Categoría11</td>\n",
       "      <td>23805</td>\n",
       "      <td>0.897117</td>\n",
       "    </tr>\n",
       "    <tr>\n",
       "      <th>1</th>\n",
       "      <td>Categoría10</td>\n",
       "      <td>1914</td>\n",
       "      <td>0.969248</td>\n",
       "    </tr>\n",
       "    <tr>\n",
       "      <th>2</th>\n",
       "      <td>Categoría9</td>\n",
       "      <td>573</td>\n",
       "      <td>0.990842</td>\n",
       "    </tr>\n",
       "    <tr>\n",
       "      <th>3</th>\n",
       "      <td>Categoría6</td>\n",
       "      <td>89</td>\n",
       "      <td>0.994196</td>\n",
       "    </tr>\n",
       "    <tr>\n",
       "      <th>4</th>\n",
       "      <td>Categoría8</td>\n",
       "      <td>77</td>\n",
       "      <td>0.997098</td>\n",
       "    </tr>\n",
       "    <tr>\n",
       "      <th>5</th>\n",
       "      <td>Categoría7</td>\n",
       "      <td>48</td>\n",
       "      <td>0.998907</td>\n",
       "    </tr>\n",
       "    <tr>\n",
       "      <th>6</th>\n",
       "      <td>Categoría3</td>\n",
       "      <td>21</td>\n",
       "      <td>0.999699</td>\n",
       "    </tr>\n",
       "  </tbody>\n",
       "</table>\n",
       "</div>"
      ],
      "text/plain": [
       "  review_scores_location  frequency  cumulative_perc\n",
       "0            Categoría11      23805         0.897117\n",
       "1            Categoría10       1914         0.969248\n",
       "2             Categoría9        573         0.990842\n",
       "3             Categoría6         89         0.994196\n",
       "4             Categoría8         77         0.997098\n",
       "5             Categoría7         48         0.998907\n",
       "6             Categoría3         21         0.999699"
      ]
     },
     "execution_count": 777,
     "metadata": {},
     "output_type": "execute_result"
    }
   ],
   "source": [
    "filtro10 = table10[table10['frequency'] > 20]\n",
    "filtro10"
   ]
  },
  {
   "cell_type": "code",
   "execution_count": 778,
   "metadata": {},
   "outputs": [
    {
     "data": {
      "text/html": [
       "<div>\n",
       "<style scoped>\n",
       "    .dataframe tbody tr th:only-of-type {\n",
       "        vertical-align: middle;\n",
       "    }\n",
       "\n",
       "    .dataframe tbody tr th {\n",
       "        vertical-align: top;\n",
       "    }\n",
       "\n",
       "    .dataframe thead th {\n",
       "        text-align: right;\n",
       "    }\n",
       "</style>\n",
       "<table border=\"1\" class=\"dataframe\">\n",
       "  <thead>\n",
       "    <tr style=\"text-align: right;\">\n",
       "      <th></th>\n",
       "      <th>frequency</th>\n",
       "      <th>cumulative_perc</th>\n",
       "    </tr>\n",
       "    <tr>\n",
       "      <th>review_scores_location</th>\n",
       "      <th></th>\n",
       "      <th></th>\n",
       "    </tr>\n",
       "  </thead>\n",
       "  <tbody>\n",
       "    <tr>\n",
       "      <th>Categoría11</th>\n",
       "      <td>23805</td>\n",
       "      <td>0.897117</td>\n",
       "    </tr>\n",
       "    <tr>\n",
       "      <th>Categoría10</th>\n",
       "      <td>1914</td>\n",
       "      <td>0.969248</td>\n",
       "    </tr>\n",
       "    <tr>\n",
       "      <th>Categoría9</th>\n",
       "      <td>573</td>\n",
       "      <td>0.990842</td>\n",
       "    </tr>\n",
       "    <tr>\n",
       "      <th>Categoría6</th>\n",
       "      <td>89</td>\n",
       "      <td>0.994196</td>\n",
       "    </tr>\n",
       "    <tr>\n",
       "      <th>Categoría8</th>\n",
       "      <td>77</td>\n",
       "      <td>0.997098</td>\n",
       "    </tr>\n",
       "    <tr>\n",
       "      <th>Categoría7</th>\n",
       "      <td>48</td>\n",
       "      <td>0.998907</td>\n",
       "    </tr>\n",
       "    <tr>\n",
       "      <th>Categoría3</th>\n",
       "      <td>21</td>\n",
       "      <td>0.999699</td>\n",
       "    </tr>\n",
       "  </tbody>\n",
       "</table>\n",
       "</div>"
      ],
      "text/plain": [
       "                        frequency  cumulative_perc\n",
       "review_scores_location                            \n",
       "Categoría11                 23805         0.897117\n",
       "Categoría10                  1914         0.969248\n",
       "Categoría9                    573         0.990842\n",
       "Categoría6                     89         0.994196\n",
       "Categoría8                     77         0.997098\n",
       "Categoría7                     48         0.998907\n",
       "Categoría3                     21         0.999699"
      ]
     },
     "execution_count": 778,
     "metadata": {},
     "output_type": "execute_result"
    }
   ],
   "source": [
    "#Ajusto el indice de mi DataFrame\n",
    "Filtro_index = filtro10.set_index(\"review_scores_location\")\n",
    "Filtro_index"
   ]
  },
  {
   "cell_type": "code",
   "execution_count": 779,
   "metadata": {},
   "outputs": [
    {
     "data": {
      "text/plain": [
       "Text(0, 0.5, 'Frecuencia')"
      ]
     },
     "execution_count": 779,
     "metadata": {},
     "output_type": "execute_result"
    },
    {
     "data": {
      "image/png": "[encoded data removed]",
      "text/plain": [
       "<Figure size 1000x400 with 1 Axes>"
      ]
     },
     "metadata": {},
     "output_type": "display_data"
    }
   ],
   "source": [
    "#Realizamos grafico de barras del Dataframe filtrado\n",
    "Filtro_index.plot(kind = 'bar', width=0.8, figsize=(10,4), color = \"red\")\n",
    "plt.title('puntuaciones ubicacion')\n",
    "plt.xlabel('Puntuaciones')\n",
    "plt.ylabel('Frecuencia')"
   ]
  },
  {
   "cell_type": "code",
   "execution_count": 780,
   "metadata": {},
   "outputs": [
    {
     "data": {
      "text/plain": [
       "[1.0, 5.0]"
      ]
     },
     "execution_count": 780,
     "metadata": {},
     "output_type": "execute_result"
    }
   ],
   "source": [
    "Min = data[\"review_scores_value\"].min()  \n",
    "Max = data[\"review_scores_value\"].max()  \n",
    "Limites = [Min,Max]\n",
    "Limites"
   ]
  },
  {
   "cell_type": "code",
   "execution_count": 781,
   "metadata": {},
   "outputs": [
    {
     "data": {
      "text/plain": [
       "4.0"
      ]
     },
     "execution_count": 781,
     "metadata": {},
     "output_type": "execute_result"
    }
   ],
   "source": [
    "#Calcula el rango\n",
    "R = Max - Min\n",
    "R"
   ]
  },
  {
   "cell_type": "code",
   "execution_count": 782,
   "metadata": {},
   "outputs": [
    {
     "data": {
      "text/plain": [
       "15.689631010177528"
      ]
     },
     "execution_count": 782,
     "metadata": {},
     "output_type": "execute_result"
    }
   ],
   "source": [
    "#Calcular el número de Intervalos de Clase (ni). Se aplica la regla de Sturges (Donde “n” el tamaño de la muestra.):\n",
    "ni = 1+3.32*np.log10(n)\n",
    "ni"
   ]
  },
  {
   "cell_type": "code",
   "execution_count": 783,
   "metadata": {},
   "outputs": [
    {
     "data": {
      "text/plain": [
       "0.2549454475637627"
      ]
     },
     "execution_count": 783,
     "metadata": {},
     "output_type": "execute_result"
    }
   ],
   "source": [
    "#Calcular el Ancho del Intervalo ( i )\n",
    "i = R/ni\n",
    "i"
   ]
  },
  {
   "cell_type": "code",
   "execution_count": 784,
   "metadata": {},
   "outputs": [
    {
     "data": {
      "text/plain": [
       "array([1.        , 1.36363636, 1.72727273, 2.09090909, 2.45454545,\n",
       "       2.81818182, 3.18181818, 3.54545455, 3.90909091, 4.27272727,\n",
       "       4.63636364, 5.        ])"
      ]
     },
     "execution_count": 784,
     "metadata": {},
     "output_type": "execute_result"
    }
   ],
   "source": [
    "# Ver resultado\n",
    "intervalos = np.linspace(1.0, 5.0, 12) #Número de clases más uno\n",
    "intervalos"
   ]
  },
  {
   "cell_type": "code",
   "execution_count": 785,
   "metadata": {},
   "outputs": [],
   "source": [
    "categorias = [\"Categoría1\", \"Categoría2\", \"Categoría3\", \"Categoría4\",\n",
    "              \"Categoría5\", \"Categoría6\", \"Categoría7\", \"Categoría8\",\n",
    "              \"Categoría9\",\"Categoría10\",\"Categoría11\"]"
   ]
  },
  {
   "cell_type": "code",
   "execution_count": 786,
   "metadata": {},
   "outputs": [
    {
     "data": {
      "text/plain": [
       "0        Categoría10\n",
       "1        Categoría10\n",
       "2        Categoría11\n",
       "3        Categoría11\n",
       "4        Categoría11\n",
       "            ...     \n",
       "26577    Categoría11\n",
       "26578    Categoría11\n",
       "26579    Categoría11\n",
       "26580    Categoría11\n",
       "26581    Categoría11\n",
       "Name: review_scores_value, Length: 26582, dtype: category\n",
       "Categories (11, object): ['Categoría1' < 'Categoría2' < 'Categoría3' < 'Categoría4' ... 'Categoría8' < 'Categoría9' < 'Categoría10' < 'Categoría11']"
      ]
     },
     "execution_count": 786,
     "metadata": {},
     "output_type": "execute_result"
    }
   ],
   "source": [
    "data[\"review_scores_value\"] = pd.cut(x = data[\"review_scores_value\"], bins = intervalos, labels = categorias)\n",
    "data[\"review_scores_value\"]"
   ]
  },
  {
   "cell_type": "code",
   "execution_count": 787,
   "metadata": {},
   "outputs": [
    {
     "data": {
      "text/html": [
       "<div>\n",
       "<style scoped>\n",
       "    .dataframe tbody tr th:only-of-type {\n",
       "        vertical-align: middle;\n",
       "    }\n",
       "\n",
       "    .dataframe tbody tr th {\n",
       "        vertical-align: top;\n",
       "    }\n",
       "\n",
       "    .dataframe thead th {\n",
       "        text-align: right;\n",
       "    }\n",
       "</style>\n",
       "<table border=\"1\" class=\"dataframe\">\n",
       "  <thead>\n",
       "    <tr style=\"text-align: right;\">\n",
       "      <th></th>\n",
       "      <th>review_scores_value</th>\n",
       "      <th>frequency</th>\n",
       "      <th>percentage</th>\n",
       "      <th>cumulative_perc</th>\n",
       "    </tr>\n",
       "  </thead>\n",
       "  <tbody>\n",
       "    <tr>\n",
       "      <th>0</th>\n",
       "      <td>Categoría11</td>\n",
       "      <td>20764</td>\n",
       "      <td>0.781130</td>\n",
       "      <td>0.783488</td>\n",
       "    </tr>\n",
       "    <tr>\n",
       "      <th>1</th>\n",
       "      <td>Categoría10</td>\n",
       "      <td>3984</td>\n",
       "      <td>0.149876</td>\n",
       "      <td>0.933816</td>\n",
       "    </tr>\n",
       "    <tr>\n",
       "      <th>2</th>\n",
       "      <td>Categoría9</td>\n",
       "      <td>1147</td>\n",
       "      <td>0.043149</td>\n",
       "      <td>0.977096</td>\n",
       "    </tr>\n",
       "    <tr>\n",
       "      <th>3</th>\n",
       "      <td>Categoría8</td>\n",
       "      <td>210</td>\n",
       "      <td>0.007900</td>\n",
       "      <td>0.985020</td>\n",
       "    </tr>\n",
       "    <tr>\n",
       "      <th>4</th>\n",
       "      <td>Categoría6</td>\n",
       "      <td>184</td>\n",
       "      <td>0.006922</td>\n",
       "      <td>0.991963</td>\n",
       "    </tr>\n",
       "    <tr>\n",
       "      <th>5</th>\n",
       "      <td>Categoría7</td>\n",
       "      <td>137</td>\n",
       "      <td>0.005154</td>\n",
       "      <td>0.997132</td>\n",
       "    </tr>\n",
       "    <tr>\n",
       "      <th>6</th>\n",
       "      <td>Categoría3</td>\n",
       "      <td>39</td>\n",
       "      <td>0.001467</td>\n",
       "      <td>0.998604</td>\n",
       "    </tr>\n",
       "    <tr>\n",
       "      <th>7</th>\n",
       "      <td>Categoría5</td>\n",
       "      <td>30</td>\n",
       "      <td>0.001129</td>\n",
       "      <td>0.999736</td>\n",
       "    </tr>\n",
       "    <tr>\n",
       "      <th>8</th>\n",
       "      <td>Categoría4</td>\n",
       "      <td>4</td>\n",
       "      <td>0.000150</td>\n",
       "      <td>0.999887</td>\n",
       "    </tr>\n",
       "    <tr>\n",
       "      <th>9</th>\n",
       "      <td>Categoría2</td>\n",
       "      <td>3</td>\n",
       "      <td>0.000113</td>\n",
       "      <td>1.000000</td>\n",
       "    </tr>\n",
       "    <tr>\n",
       "      <th>10</th>\n",
       "      <td>Categoría1</td>\n",
       "      <td>0</td>\n",
       "      <td>0.000000</td>\n",
       "      <td>1.000000</td>\n",
       "    </tr>\n",
       "  </tbody>\n",
       "</table>\n",
       "</div>"
      ],
      "text/plain": [
       "   review_scores_value  frequency  percentage  cumulative_perc\n",
       "0          Categoría11      20764    0.781130         0.783488\n",
       "1          Categoría10       3984    0.149876         0.933816\n",
       "2           Categoría9       1147    0.043149         0.977096\n",
       "3           Categoría8        210    0.007900         0.985020\n",
       "4           Categoría6        184    0.006922         0.991963\n",
       "5           Categoría7        137    0.005154         0.997132\n",
       "6           Categoría3         39    0.001467         0.998604\n",
       "7           Categoría5         30    0.001129         0.999736\n",
       "8           Categoría4          4    0.000150         0.999887\n",
       "9           Categoría2          3    0.000113         1.000000\n",
       "10          Categoría1          0    0.000000         1.000000"
      ]
     },
     "execution_count": 787,
     "metadata": {},
     "output_type": "execute_result"
    }
   ],
   "source": [
    "#Obtengo un análisis univariado de una variable categórica en específico  \n",
    "data1 = freq_tbl(data[\"review_scores_value\"])\n",
    "data1"
   ]
  },
  {
   "cell_type": "code",
   "execution_count": 788,
   "metadata": {},
   "outputs": [
    {
     "data": {
      "text/html": [
       "<div>\n",
       "<style scoped>\n",
       "    .dataframe tbody tr th:only-of-type {\n",
       "        vertical-align: middle;\n",
       "    }\n",
       "\n",
       "    .dataframe tbody tr th {\n",
       "        vertical-align: top;\n",
       "    }\n",
       "\n",
       "    .dataframe thead th {\n",
       "        text-align: right;\n",
       "    }\n",
       "</style>\n",
       "<table border=\"1\" class=\"dataframe\">\n",
       "  <thead>\n",
       "    <tr style=\"text-align: right;\">\n",
       "      <th></th>\n",
       "      <th>review_scores_value</th>\n",
       "      <th>frequency</th>\n",
       "    </tr>\n",
       "  </thead>\n",
       "  <tbody>\n",
       "    <tr>\n",
       "      <th>0</th>\n",
       "      <td>Categoría11</td>\n",
       "      <td>20764</td>\n",
       "    </tr>\n",
       "    <tr>\n",
       "      <th>1</th>\n",
       "      <td>Categoría10</td>\n",
       "      <td>3984</td>\n",
       "    </tr>\n",
       "    <tr>\n",
       "      <th>2</th>\n",
       "      <td>Categoría9</td>\n",
       "      <td>1147</td>\n",
       "    </tr>\n",
       "    <tr>\n",
       "      <th>3</th>\n",
       "      <td>Categoría8</td>\n",
       "      <td>210</td>\n",
       "    </tr>\n",
       "    <tr>\n",
       "      <th>4</th>\n",
       "      <td>Categoría6</td>\n",
       "      <td>184</td>\n",
       "    </tr>\n",
       "    <tr>\n",
       "      <th>5</th>\n",
       "      <td>Categoría7</td>\n",
       "      <td>137</td>\n",
       "    </tr>\n",
       "    <tr>\n",
       "      <th>6</th>\n",
       "      <td>Categoría3</td>\n",
       "      <td>39</td>\n",
       "    </tr>\n",
       "    <tr>\n",
       "      <th>7</th>\n",
       "      <td>Categoría5</td>\n",
       "      <td>30</td>\n",
       "    </tr>\n",
       "    <tr>\n",
       "      <th>8</th>\n",
       "      <td>Categoría4</td>\n",
       "      <td>4</td>\n",
       "    </tr>\n",
       "    <tr>\n",
       "      <th>9</th>\n",
       "      <td>Categoría2</td>\n",
       "      <td>3</td>\n",
       "    </tr>\n",
       "    <tr>\n",
       "      <th>10</th>\n",
       "      <td>Categoría1</td>\n",
       "      <td>0</td>\n",
       "    </tr>\n",
       "  </tbody>\n",
       "</table>\n",
       "</div>"
      ],
      "text/plain": [
       "   review_scores_value  frequency\n",
       "0          Categoría11      20764\n",
       "1          Categoría10       3984\n",
       "2           Categoría9       1147\n",
       "3           Categoría8        210\n",
       "4           Categoría6        184\n",
       "5           Categoría7        137\n",
       "6           Categoría3         39\n",
       "7           Categoría5         30\n",
       "8           Categoría4          4\n",
       "9           Categoría2          3\n",
       "10          Categoría1          0"
      ]
     },
     "execution_count": 788,
     "metadata": {},
     "output_type": "execute_result"
    }
   ],
   "source": [
    "#Elimino las columnas \"procentage\" y \"cumulative_perc\" para trabajar con las fecuencias\n",
    "table11 = data1.drop(['percentage', 'cumulative_perc'], axis=1)\n",
    "table11"
   ]
  },
  {
   "cell_type": "code",
   "execution_count": 789,
   "metadata": {},
   "outputs": [
    {
     "data": {
      "text/html": [
       "<div>\n",
       "<style scoped>\n",
       "    .dataframe tbody tr th:only-of-type {\n",
       "        vertical-align: middle;\n",
       "    }\n",
       "\n",
       "    .dataframe tbody tr th {\n",
       "        vertical-align: top;\n",
       "    }\n",
       "\n",
       "    .dataframe thead th {\n",
       "        text-align: right;\n",
       "    }\n",
       "</style>\n",
       "<table border=\"1\" class=\"dataframe\">\n",
       "  <thead>\n",
       "    <tr style=\"text-align: right;\">\n",
       "      <th></th>\n",
       "      <th>review_scores_value</th>\n",
       "      <th>frequency</th>\n",
       "    </tr>\n",
       "  </thead>\n",
       "  <tbody>\n",
       "    <tr>\n",
       "      <th>0</th>\n",
       "      <td>Categoría11</td>\n",
       "      <td>20764</td>\n",
       "    </tr>\n",
       "    <tr>\n",
       "      <th>1</th>\n",
       "      <td>Categoría10</td>\n",
       "      <td>3984</td>\n",
       "    </tr>\n",
       "    <tr>\n",
       "      <th>2</th>\n",
       "      <td>Categoría9</td>\n",
       "      <td>1147</td>\n",
       "    </tr>\n",
       "    <tr>\n",
       "      <th>3</th>\n",
       "      <td>Categoría8</td>\n",
       "      <td>210</td>\n",
       "    </tr>\n",
       "    <tr>\n",
       "      <th>4</th>\n",
       "      <td>Categoría6</td>\n",
       "      <td>184</td>\n",
       "    </tr>\n",
       "    <tr>\n",
       "      <th>5</th>\n",
       "      <td>Categoría7</td>\n",
       "      <td>137</td>\n",
       "    </tr>\n",
       "    <tr>\n",
       "      <th>6</th>\n",
       "      <td>Categoría3</td>\n",
       "      <td>39</td>\n",
       "    </tr>\n",
       "  </tbody>\n",
       "</table>\n",
       "</div>"
      ],
      "text/plain": [
       "  review_scores_value  frequency\n",
       "0         Categoría11      20764\n",
       "1         Categoría10       3984\n",
       "2          Categoría9       1147\n",
       "3          Categoría8        210\n",
       "4          Categoría6        184\n",
       "5          Categoría7        137\n",
       "6          Categoría3         39"
      ]
     },
     "execution_count": 789,
     "metadata": {},
     "output_type": "execute_result"
    }
   ],
   "source": [
    "\n",
    "filtro11 = table11[table11['frequency'] > 30]\n",
    "filtro11"
   ]
  },
  {
   "cell_type": "code",
   "execution_count": 790,
   "metadata": {},
   "outputs": [
    {
     "data": {
      "text/html": [
       "<div>\n",
       "<style scoped>\n",
       "    .dataframe tbody tr th:only-of-type {\n",
       "        vertical-align: middle;\n",
       "    }\n",
       "\n",
       "    .dataframe tbody tr th {\n",
       "        vertical-align: top;\n",
       "    }\n",
       "\n",
       "    .dataframe thead th {\n",
       "        text-align: right;\n",
       "    }\n",
       "</style>\n",
       "<table border=\"1\" class=\"dataframe\">\n",
       "  <thead>\n",
       "    <tr style=\"text-align: right;\">\n",
       "      <th></th>\n",
       "      <th>frequency</th>\n",
       "    </tr>\n",
       "    <tr>\n",
       "      <th>review_scores_value</th>\n",
       "      <th></th>\n",
       "    </tr>\n",
       "  </thead>\n",
       "  <tbody>\n",
       "    <tr>\n",
       "      <th>Categoría11</th>\n",
       "      <td>20764</td>\n",
       "    </tr>\n",
       "    <tr>\n",
       "      <th>Categoría10</th>\n",
       "      <td>3984</td>\n",
       "    </tr>\n",
       "    <tr>\n",
       "      <th>Categoría9</th>\n",
       "      <td>1147</td>\n",
       "    </tr>\n",
       "    <tr>\n",
       "      <th>Categoría8</th>\n",
       "      <td>210</td>\n",
       "    </tr>\n",
       "    <tr>\n",
       "      <th>Categoría6</th>\n",
       "      <td>184</td>\n",
       "    </tr>\n",
       "    <tr>\n",
       "      <th>Categoría7</th>\n",
       "      <td>137</td>\n",
       "    </tr>\n",
       "    <tr>\n",
       "      <th>Categoría3</th>\n",
       "      <td>39</td>\n",
       "    </tr>\n",
       "  </tbody>\n",
       "</table>\n",
       "</div>"
      ],
      "text/plain": [
       "                     frequency\n",
       "review_scores_value           \n",
       "Categoría11              20764\n",
       "Categoría10               3984\n",
       "Categoría9                1147\n",
       "Categoría8                 210\n",
       "Categoría6                 184\n",
       "Categoría7                 137\n",
       "Categoría3                  39"
      ]
     },
     "execution_count": 790,
     "metadata": {},
     "output_type": "execute_result"
    }
   ],
   "source": [
    "#Ajusto el indice de mi DataFrame\n",
    "Filtro_index = filtro11.set_index(\"review_scores_value\")\n",
    "Filtro_index"
   ]
  },
  {
   "cell_type": "code",
   "execution_count": 791,
   "metadata": {},
   "outputs": [
    {
     "data": {
      "text/plain": [
       "<Axes: xlabel='review_scores_value'>"
      ]
     },
     "execution_count": 791,
     "metadata": {},
     "output_type": "execute_result"
    },
    {
     "data": {
      "image/png": "[encoded data removed]",
      "text/plain": [
       "<Figure size 1000x400 with 1 Axes>"
      ]
     },
     "metadata": {},
     "output_type": "display_data"
    }
   ],
   "source": [
    "#Realizamos grafico de área del dataframe filtrado\n",
    "Filtro_index.plot(kind='area', figsize=(10,4), alpha = 0.5)"
   ]
  },
  {
   "cell_type": "code",
   "execution_count": 792,
   "metadata": {},
   "outputs": [
    {
     "data": {
      "text/plain": [
       "[0.01, 38.67]"
      ]
     },
     "execution_count": 792,
     "metadata": {},
     "output_type": "execute_result"
    }
   ],
   "source": [
    "Min = data[\"reviews_per_month\"].min()  \n",
    "Max = data[\"reviews_per_month\"].max()  \n",
    "Limites = [Min,Max]\n",
    "Limites"
   ]
  },
  {
   "cell_type": "code",
   "execution_count": 793,
   "metadata": {},
   "outputs": [
    {
     "data": {
      "text/plain": [
       "38.660000000000004"
      ]
     },
     "execution_count": 793,
     "metadata": {},
     "output_type": "execute_result"
    }
   ],
   "source": [
    "#Calcula el rango\n",
    "R = Max - Min\n",
    "R"
   ]
  },
  {
   "cell_type": "code",
   "execution_count": 794,
   "metadata": {},
   "outputs": [
    {
     "data": {
      "text/plain": [
       "15.689631010177528"
      ]
     },
     "execution_count": 794,
     "metadata": {},
     "output_type": "execute_result"
    }
   ],
   "source": [
    "#Calcular el número de Intervalos de Clase (ni). Se aplica la regla de Sturges (Donde “n” el tamaño de la muestra.):\n",
    "ni = 1+3.32*np.log10(n)\n",
    "ni"
   ]
  },
  {
   "cell_type": "code",
   "execution_count": 795,
   "metadata": {},
   "outputs": [
    {
     "data": {
      "text/plain": [
       "2.4640477507037666"
      ]
     },
     "execution_count": 795,
     "metadata": {},
     "output_type": "execute_result"
    }
   ],
   "source": [
    "#Calcular el Ancho del Intervalo ( i )\n",
    "i = R/ni\n",
    "i"
   ]
  },
  {
   "cell_type": "code",
   "execution_count": 796,
   "metadata": {},
   "outputs": [
    {
     "data": {
      "text/plain": [
       "array([1.00000000e-02, 3.52454545e+00, 7.03909091e+00, 1.05536364e+01,\n",
       "       1.40681818e+01, 1.75827273e+01, 2.10972727e+01, 2.46118182e+01,\n",
       "       2.81263636e+01, 3.16409091e+01, 3.51554545e+01, 3.86700000e+01])"
      ]
     },
     "execution_count": 796,
     "metadata": {},
     "output_type": "execute_result"
    }
   ],
   "source": [
    "intervalos = np.linspace(0.01, 38.67, 12) #Número de clases más uno\n",
    "intervalos"
   ]
  },
  {
   "cell_type": "code",
   "execution_count": 797,
   "metadata": {},
   "outputs": [],
   "source": [
    "categorias = [\"Categoría1\", \"Categoría2\", \"Categoría3\", \"Categoría4\",\n",
    "              \"Categoría5\", \"Categoría6\", \"Categoría7\", \"Categoría8\",\n",
    "              \"Categoría9\",\"Categoría10\",\"Categoría11\"]\n"
   ]
  },
  {
   "cell_type": "code",
   "execution_count": 798,
   "metadata": {},
   "outputs": [
    {
     "data": {
      "text/plain": [
       "0        Categoría1\n",
       "1        Categoría1\n",
       "2        Categoría1\n",
       "3        Categoría1\n",
       "4        Categoría1\n",
       "            ...    \n",
       "26577    Categoría1\n",
       "26578    Categoría1\n",
       "26579    Categoría1\n",
       "26580    Categoría1\n",
       "26581    Categoría1\n",
       "Name: reviews_per_month, Length: 26582, dtype: category\n",
       "Categories (11, object): ['Categoría1' < 'Categoría2' < 'Categoría3' < 'Categoría4' ... 'Categoría8' < 'Categoría9' < 'Categoría10' < 'Categoría11']"
      ]
     },
     "execution_count": 798,
     "metadata": {},
     "output_type": "execute_result"
    }
   ],
   "source": [
    "data[\"reviews_per_month\"] = pd.cut(x = data[\"reviews_per_month\"], bins = intervalos, labels = categorias)\n",
    "data[\"reviews_per_month\"]"
   ]
  },
  {
   "cell_type": "code",
   "execution_count": 799,
   "metadata": {},
   "outputs": [
    {
     "data": {
      "text/html": [
       "<div>\n",
       "<style scoped>\n",
       "    .dataframe tbody tr th:only-of-type {\n",
       "        vertical-align: middle;\n",
       "    }\n",
       "\n",
       "    .dataframe tbody tr th {\n",
       "        vertical-align: top;\n",
       "    }\n",
       "\n",
       "    .dataframe thead th {\n",
       "        text-align: right;\n",
       "    }\n",
       "</style>\n",
       "<table border=\"1\" class=\"dataframe\">\n",
       "  <thead>\n",
       "    <tr style=\"text-align: right;\">\n",
       "      <th></th>\n",
       "      <th>reviews_per_month</th>\n",
       "      <th>frequency</th>\n",
       "      <th>percentage</th>\n",
       "      <th>cumulative_perc</th>\n",
       "    </tr>\n",
       "  </thead>\n",
       "  <tbody>\n",
       "    <tr>\n",
       "      <th>0</th>\n",
       "      <td>Categoría1</td>\n",
       "      <td>23503</td>\n",
       "      <td>0.884170</td>\n",
       "      <td>0.886370</td>\n",
       "    </tr>\n",
       "    <tr>\n",
       "      <th>1</th>\n",
       "      <td>Categoría2</td>\n",
       "      <td>2585</td>\n",
       "      <td>0.097246</td>\n",
       "      <td>0.983859</td>\n",
       "    </tr>\n",
       "    <tr>\n",
       "      <th>2</th>\n",
       "      <td>Categoría3</td>\n",
       "      <td>317</td>\n",
       "      <td>0.011925</td>\n",
       "      <td>0.995814</td>\n",
       "    </tr>\n",
       "    <tr>\n",
       "      <th>3</th>\n",
       "      <td>Categoría4</td>\n",
       "      <td>65</td>\n",
       "      <td>0.002445</td>\n",
       "      <td>0.998265</td>\n",
       "    </tr>\n",
       "    <tr>\n",
       "      <th>4</th>\n",
       "      <td>Categoría5</td>\n",
       "      <td>18</td>\n",
       "      <td>0.000677</td>\n",
       "      <td>0.998944</td>\n",
       "    </tr>\n",
       "    <tr>\n",
       "      <th>5</th>\n",
       "      <td>Categoría6</td>\n",
       "      <td>13</td>\n",
       "      <td>0.000489</td>\n",
       "      <td>0.999434</td>\n",
       "    </tr>\n",
       "    <tr>\n",
       "      <th>6</th>\n",
       "      <td>Categoría7</td>\n",
       "      <td>6</td>\n",
       "      <td>0.000226</td>\n",
       "      <td>0.999661</td>\n",
       "    </tr>\n",
       "    <tr>\n",
       "      <th>7</th>\n",
       "      <td>Categoría10</td>\n",
       "      <td>3</td>\n",
       "      <td>0.000113</td>\n",
       "      <td>0.999774</td>\n",
       "    </tr>\n",
       "    <tr>\n",
       "      <th>8</th>\n",
       "      <td>Categoría11</td>\n",
       "      <td>3</td>\n",
       "      <td>0.000113</td>\n",
       "      <td>0.999887</td>\n",
       "    </tr>\n",
       "    <tr>\n",
       "      <th>9</th>\n",
       "      <td>Categoría9</td>\n",
       "      <td>2</td>\n",
       "      <td>0.000075</td>\n",
       "      <td>0.999962</td>\n",
       "    </tr>\n",
       "    <tr>\n",
       "      <th>10</th>\n",
       "      <td>Categoría8</td>\n",
       "      <td>1</td>\n",
       "      <td>0.000038</td>\n",
       "      <td>1.000000</td>\n",
       "    </tr>\n",
       "  </tbody>\n",
       "</table>\n",
       "</div>"
      ],
      "text/plain": [
       "   reviews_per_month  frequency  percentage  cumulative_perc\n",
       "0         Categoría1      23503    0.884170         0.886370\n",
       "1         Categoría2       2585    0.097246         0.983859\n",
       "2         Categoría3        317    0.011925         0.995814\n",
       "3         Categoría4         65    0.002445         0.998265\n",
       "4         Categoría5         18    0.000677         0.998944\n",
       "5         Categoría6         13    0.000489         0.999434\n",
       "6         Categoría7          6    0.000226         0.999661\n",
       "7        Categoría10          3    0.000113         0.999774\n",
       "8        Categoría11          3    0.000113         0.999887\n",
       "9         Categoría9          2    0.000075         0.999962\n",
       "10        Categoría8          1    0.000038         1.000000"
      ]
     },
     "execution_count": 799,
     "metadata": {},
     "output_type": "execute_result"
    }
   ],
   "source": [
    "#Obtengo un análisis univariado de una variable categórica en específico  \n",
    "data1 = freq_tbl(data[\"reviews_per_month\"])\n",
    "data1"
   ]
  },
  {
   "cell_type": "code",
   "execution_count": 800,
   "metadata": {},
   "outputs": [
    {
     "data": {
      "text/html": [
       "<div>\n",
       "<style scoped>\n",
       "    .dataframe tbody tr th:only-of-type {\n",
       "        vertical-align: middle;\n",
       "    }\n",
       "\n",
       "    .dataframe tbody tr th {\n",
       "        vertical-align: top;\n",
       "    }\n",
       "\n",
       "    .dataframe thead th {\n",
       "        text-align: right;\n",
       "    }\n",
       "</style>\n",
       "<table border=\"1\" class=\"dataframe\">\n",
       "  <thead>\n",
       "    <tr style=\"text-align: right;\">\n",
       "      <th></th>\n",
       "      <th>reviews_per_month</th>\n",
       "      <th>frequency</th>\n",
       "    </tr>\n",
       "  </thead>\n",
       "  <tbody>\n",
       "    <tr>\n",
       "      <th>0</th>\n",
       "      <td>Categoría1</td>\n",
       "      <td>23503</td>\n",
       "    </tr>\n",
       "    <tr>\n",
       "      <th>1</th>\n",
       "      <td>Categoría2</td>\n",
       "      <td>2585</td>\n",
       "    </tr>\n",
       "    <tr>\n",
       "      <th>2</th>\n",
       "      <td>Categoría3</td>\n",
       "      <td>317</td>\n",
       "    </tr>\n",
       "    <tr>\n",
       "      <th>3</th>\n",
       "      <td>Categoría4</td>\n",
       "      <td>65</td>\n",
       "    </tr>\n",
       "    <tr>\n",
       "      <th>4</th>\n",
       "      <td>Categoría5</td>\n",
       "      <td>18</td>\n",
       "    </tr>\n",
       "    <tr>\n",
       "      <th>5</th>\n",
       "      <td>Categoría6</td>\n",
       "      <td>13</td>\n",
       "    </tr>\n",
       "    <tr>\n",
       "      <th>6</th>\n",
       "      <td>Categoría7</td>\n",
       "      <td>6</td>\n",
       "    </tr>\n",
       "    <tr>\n",
       "      <th>7</th>\n",
       "      <td>Categoría10</td>\n",
       "      <td>3</td>\n",
       "    </tr>\n",
       "    <tr>\n",
       "      <th>8</th>\n",
       "      <td>Categoría11</td>\n",
       "      <td>3</td>\n",
       "    </tr>\n",
       "    <tr>\n",
       "      <th>9</th>\n",
       "      <td>Categoría9</td>\n",
       "      <td>2</td>\n",
       "    </tr>\n",
       "    <tr>\n",
       "      <th>10</th>\n",
       "      <td>Categoría8</td>\n",
       "      <td>1</td>\n",
       "    </tr>\n",
       "  </tbody>\n",
       "</table>\n",
       "</div>"
      ],
      "text/plain": [
       "   reviews_per_month  frequency\n",
       "0         Categoría1      23503\n",
       "1         Categoría2       2585\n",
       "2         Categoría3        317\n",
       "3         Categoría4         65\n",
       "4         Categoría5         18\n",
       "5         Categoría6         13\n",
       "6         Categoría7          6\n",
       "7        Categoría10          3\n",
       "8        Categoría11          3\n",
       "9         Categoría9          2\n",
       "10        Categoría8          1"
      ]
     },
     "execution_count": 800,
     "metadata": {},
     "output_type": "execute_result"
    }
   ],
   "source": [
    "#Elimino las columnas \"procentage\" y \"cumulative_perc\" para trabajar con las fecuencias\n",
    "table12 = data1.drop(['percentage', 'cumulative_perc'], axis=1)\n",
    "table12"
   ]
  },
  {
   "cell_type": "code",
   "execution_count": 801,
   "metadata": {},
   "outputs": [
    {
     "data": {
      "text/html": [
       "<div>\n",
       "<style scoped>\n",
       "    .dataframe tbody tr th:only-of-type {\n",
       "        vertical-align: middle;\n",
       "    }\n",
       "\n",
       "    .dataframe tbody tr th {\n",
       "        vertical-align: top;\n",
       "    }\n",
       "\n",
       "    .dataframe thead th {\n",
       "        text-align: right;\n",
       "    }\n",
       "</style>\n",
       "<table border=\"1\" class=\"dataframe\">\n",
       "  <thead>\n",
       "    <tr style=\"text-align: right;\">\n",
       "      <th></th>\n",
       "      <th>reviews_per_month</th>\n",
       "      <th>frequency</th>\n",
       "    </tr>\n",
       "  </thead>\n",
       "  <tbody>\n",
       "    <tr>\n",
       "      <th>0</th>\n",
       "      <td>Categoría1</td>\n",
       "      <td>23503</td>\n",
       "    </tr>\n",
       "    <tr>\n",
       "      <th>1</th>\n",
       "      <td>Categoría2</td>\n",
       "      <td>2585</td>\n",
       "    </tr>\n",
       "    <tr>\n",
       "      <th>2</th>\n",
       "      <td>Categoría3</td>\n",
       "      <td>317</td>\n",
       "    </tr>\n",
       "    <tr>\n",
       "      <th>3</th>\n",
       "      <td>Categoría4</td>\n",
       "      <td>65</td>\n",
       "    </tr>\n",
       "    <tr>\n",
       "      <th>4</th>\n",
       "      <td>Categoría5</td>\n",
       "      <td>18</td>\n",
       "    </tr>\n",
       "    <tr>\n",
       "      <th>5</th>\n",
       "      <td>Categoría6</td>\n",
       "      <td>13</td>\n",
       "    </tr>\n",
       "    <tr>\n",
       "      <th>6</th>\n",
       "      <td>Categoría7</td>\n",
       "      <td>6</td>\n",
       "    </tr>\n",
       "    <tr>\n",
       "      <th>7</th>\n",
       "      <td>Categoría10</td>\n",
       "      <td>3</td>\n",
       "    </tr>\n",
       "    <tr>\n",
       "      <th>8</th>\n",
       "      <td>Categoría11</td>\n",
       "      <td>3</td>\n",
       "    </tr>\n",
       "  </tbody>\n",
       "</table>\n",
       "</div>"
      ],
      "text/plain": [
       "  reviews_per_month  frequency\n",
       "0        Categoría1      23503\n",
       "1        Categoría2       2585\n",
       "2        Categoría3        317\n",
       "3        Categoría4         65\n",
       "4        Categoría5         18\n",
       "5        Categoría6         13\n",
       "6        Categoría7          6\n",
       "7       Categoría10          3\n",
       "8       Categoría11          3"
      ]
     },
     "execution_count": 801,
     "metadata": {},
     "output_type": "execute_result"
    }
   ],
   "source": [
    "filtro12 = table12[table12['frequency'] > 2]\n",
    "filtro12"
   ]
  },
  {
   "cell_type": "code",
   "execution_count": 802,
   "metadata": {},
   "outputs": [
    {
     "data": {
      "text/html": [
       "<div>\n",
       "<style scoped>\n",
       "    .dataframe tbody tr th:only-of-type {\n",
       "        vertical-align: middle;\n",
       "    }\n",
       "\n",
       "    .dataframe tbody tr th {\n",
       "        vertical-align: top;\n",
       "    }\n",
       "\n",
       "    .dataframe thead th {\n",
       "        text-align: right;\n",
       "    }\n",
       "</style>\n",
       "<table border=\"1\" class=\"dataframe\">\n",
       "  <thead>\n",
       "    <tr style=\"text-align: right;\">\n",
       "      <th></th>\n",
       "      <th>frequency</th>\n",
       "    </tr>\n",
       "    <tr>\n",
       "      <th>reviews_per_month</th>\n",
       "      <th></th>\n",
       "    </tr>\n",
       "  </thead>\n",
       "  <tbody>\n",
       "    <tr>\n",
       "      <th>Categoría1</th>\n",
       "      <td>23503</td>\n",
       "    </tr>\n",
       "    <tr>\n",
       "      <th>Categoría2</th>\n",
       "      <td>2585</td>\n",
       "    </tr>\n",
       "    <tr>\n",
       "      <th>Categoría3</th>\n",
       "      <td>317</td>\n",
       "    </tr>\n",
       "    <tr>\n",
       "      <th>Categoría4</th>\n",
       "      <td>65</td>\n",
       "    </tr>\n",
       "    <tr>\n",
       "      <th>Categoría5</th>\n",
       "      <td>18</td>\n",
       "    </tr>\n",
       "    <tr>\n",
       "      <th>Categoría6</th>\n",
       "      <td>13</td>\n",
       "    </tr>\n",
       "    <tr>\n",
       "      <th>Categoría7</th>\n",
       "      <td>6</td>\n",
       "    </tr>\n",
       "    <tr>\n",
       "      <th>Categoría10</th>\n",
       "      <td>3</td>\n",
       "    </tr>\n",
       "    <tr>\n",
       "      <th>Categoría11</th>\n",
       "      <td>3</td>\n",
       "    </tr>\n",
       "  </tbody>\n",
       "</table>\n",
       "</div>"
      ],
      "text/plain": [
       "                   frequency\n",
       "reviews_per_month           \n",
       "Categoría1             23503\n",
       "Categoría2              2585\n",
       "Categoría3               317\n",
       "Categoría4                65\n",
       "Categoría5                18\n",
       "Categoría6                13\n",
       "Categoría7                 6\n",
       "Categoría10                3\n",
       "Categoría11                3"
      ]
     },
     "execution_count": 802,
     "metadata": {},
     "output_type": "execute_result"
    }
   ],
   "source": [
    "#Ajusto el indice de mi DataFrame\n",
    "Filtro_index = filtro12.set_index(\"reviews_per_month\")\n",
    "Filtro_index\n"
   ]
  },
  {
   "cell_type": "code",
   "execution_count": 803,
   "metadata": {},
   "outputs": [
    {
     "data": {
      "text/plain": [
       "Text(0, 0.5, 'Frecuencia')"
      ]
     },
     "execution_count": 803,
     "metadata": {},
     "output_type": "execute_result"
    },
    {
     "data": {
      "image/png": "[encoded data removed]",
      "text/plain": [
       "<Figure size 1000x400 with 1 Axes>"
      ]
     },
     "metadata": {},
     "output_type": "display_data"
    }
   ],
   "source": [
    "#Realizamos grafico de barras del Dataframe filtrado\n",
    "Filtro_index.plot(kind = 'bar', width=0.8, figsize=(10,4), color = \"red\")\n",
    "plt.title('Reseñas por mes')\n",
    "plt.xlabel('Reseñas')\n",
    "plt.ylabel('Frecuencia')"
   ]
  },
  {
   "cell_type": "code",
   "execution_count": 804,
   "metadata": {},
   "outputs": [
    {
     "data": {
      "text/plain": [
       "[1.0, 5.0]"
      ]
     },
     "execution_count": 804,
     "metadata": {},
     "output_type": "execute_result"
    }
   ],
   "source": [
    "Min = data[\"review_scores_communication\"].min()  \n",
    "Max = data[\"review_scores_communication\"].max()  \n",
    "Limites = [Min,Max]\n",
    "Limites"
   ]
  },
  {
   "cell_type": "code",
   "execution_count": 805,
   "metadata": {},
   "outputs": [
    {
     "data": {
      "text/plain": [
       "4.0"
      ]
     },
     "execution_count": 805,
     "metadata": {},
     "output_type": "execute_result"
    }
   ],
   "source": [
    "#Calcula el rango\n",
    "R = Max - Min\n",
    "R"
   ]
  },
  {
   "cell_type": "code",
   "execution_count": 806,
   "metadata": {},
   "outputs": [
    {
     "data": {
      "text/plain": [
       "15.689631010177528"
      ]
     },
     "execution_count": 806,
     "metadata": {},
     "output_type": "execute_result"
    }
   ],
   "source": [
    "#Calcular el número de Intervalos de Clase (ni). Se aplica la regla de Sturges (Donde “n” el tamaño de la muestra.):\n",
    "ni = 1+3.32*np.log10(n)\n",
    "ni"
   ]
  },
  {
   "cell_type": "code",
   "execution_count": 807,
   "metadata": {},
   "outputs": [
    {
     "data": {
      "text/plain": [
       "0.2549454475637627"
      ]
     },
     "execution_count": 807,
     "metadata": {},
     "output_type": "execute_result"
    }
   ],
   "source": [
    "#Calcular el Ancho del Intervalo ( i )\n",
    "i = R/ni\n",
    "i"
   ]
  },
  {
   "cell_type": "code",
   "execution_count": 808,
   "metadata": {},
   "outputs": [
    {
     "data": {
      "text/plain": [
       "array([1.        , 1.36363636, 1.72727273, 2.09090909, 2.45454545,\n",
       "       2.81818182, 3.18181818, 3.54545455, 3.90909091, 4.27272727,\n",
       "       4.63636364, 5.        ])"
      ]
     },
     "execution_count": 808,
     "metadata": {},
     "output_type": "execute_result"
    }
   ],
   "source": [
    "intervalos = np.linspace(1.0, 5.0, 12) #Número de clases más uno\n",
    "intervalos"
   ]
  },
  {
   "cell_type": "code",
   "execution_count": 809,
   "metadata": {},
   "outputs": [],
   "source": [
    "categorias = [\"Categoría1\", \"Categoría2\", \"Categoría3\", \"Categoría4\",\n",
    "              \"Categoría5\", \"Categoría6\", \"Categoría7\", \"Categoría8\",\n",
    "              \"Categoría9\",\"Categoría10\",\"Categoría11\"]\n"
   ]
  },
  {
   "cell_type": "code",
   "execution_count": 810,
   "metadata": {},
   "outputs": [
    {
     "data": {
      "text/plain": [
       "0        Categoría11\n",
       "1        Categoría11\n",
       "2        Categoría11\n",
       "3        Categoría11\n",
       "4        Categoría11\n",
       "            ...     \n",
       "26577    Categoría11\n",
       "26578    Categoría11\n",
       "26579    Categoría11\n",
       "26580    Categoría11\n",
       "26581    Categoría11\n",
       "Name: review_scores_communication, Length: 26582, dtype: category\n",
       "Categories (11, object): ['Categoría1' < 'Categoría2' < 'Categoría3' < 'Categoría4' ... 'Categoría8' < 'Categoría9' < 'Categoría10' < 'Categoría11']"
      ]
     },
     "execution_count": 810,
     "metadata": {},
     "output_type": "execute_result"
    }
   ],
   "source": [
    "data[\"review_scores_communication\"] = pd.cut(x = data[\"review_scores_communication\"], bins = intervalos, labels = categorias)\n",
    "data[\"review_scores_communication\"]"
   ]
  },
  {
   "cell_type": "code",
   "execution_count": 811,
   "metadata": {},
   "outputs": [
    {
     "data": {
      "text/html": [
       "<div>\n",
       "<style scoped>\n",
       "    .dataframe tbody tr th:only-of-type {\n",
       "        vertical-align: middle;\n",
       "    }\n",
       "\n",
       "    .dataframe tbody tr th {\n",
       "        vertical-align: top;\n",
       "    }\n",
       "\n",
       "    .dataframe thead th {\n",
       "        text-align: right;\n",
       "    }\n",
       "</style>\n",
       "<table border=\"1\" class=\"dataframe\">\n",
       "  <thead>\n",
       "    <tr style=\"text-align: right;\">\n",
       "      <th></th>\n",
       "      <th>review_scores_communication</th>\n",
       "      <th>frequency</th>\n",
       "      <th>percentage</th>\n",
       "      <th>cumulative_perc</th>\n",
       "    </tr>\n",
       "  </thead>\n",
       "  <tbody>\n",
       "    <tr>\n",
       "      <th>0</th>\n",
       "      <td>Categoría11</td>\n",
       "      <td>24085</td>\n",
       "      <td>0.906064</td>\n",
       "      <td>0.908354</td>\n",
       "    </tr>\n",
       "    <tr>\n",
       "      <th>1</th>\n",
       "      <td>Categoría10</td>\n",
       "      <td>1558</td>\n",
       "      <td>0.058611</td>\n",
       "      <td>0.967113</td>\n",
       "    </tr>\n",
       "    <tr>\n",
       "      <th>2</th>\n",
       "      <td>Categoría9</td>\n",
       "      <td>491</td>\n",
       "      <td>0.018471</td>\n",
       "      <td>0.985631</td>\n",
       "    </tr>\n",
       "    <tr>\n",
       "      <th>3</th>\n",
       "      <td>Categoría8</td>\n",
       "      <td>137</td>\n",
       "      <td>0.005154</td>\n",
       "      <td>0.990798</td>\n",
       "    </tr>\n",
       "    <tr>\n",
       "      <th>4</th>\n",
       "      <td>Categoría6</td>\n",
       "      <td>102</td>\n",
       "      <td>0.003837</td>\n",
       "      <td>0.994645</td>\n",
       "    </tr>\n",
       "    <tr>\n",
       "      <th>5</th>\n",
       "      <td>Categoría7</td>\n",
       "      <td>86</td>\n",
       "      <td>0.003235</td>\n",
       "      <td>0.997888</td>\n",
       "    </tr>\n",
       "    <tr>\n",
       "      <th>6</th>\n",
       "      <td>Categoría5</td>\n",
       "      <td>26</td>\n",
       "      <td>0.000978</td>\n",
       "      <td>0.998869</td>\n",
       "    </tr>\n",
       "    <tr>\n",
       "      <th>7</th>\n",
       "      <td>Categoría3</td>\n",
       "      <td>16</td>\n",
       "      <td>0.000602</td>\n",
       "      <td>0.999472</td>\n",
       "    </tr>\n",
       "    <tr>\n",
       "      <th>8</th>\n",
       "      <td>Categoría4</td>\n",
       "      <td>6</td>\n",
       "      <td>0.000226</td>\n",
       "      <td>0.999698</td>\n",
       "    </tr>\n",
       "    <tr>\n",
       "      <th>9</th>\n",
       "      <td>Categoría2</td>\n",
       "      <td>5</td>\n",
       "      <td>0.000188</td>\n",
       "      <td>0.999887</td>\n",
       "    </tr>\n",
       "    <tr>\n",
       "      <th>10</th>\n",
       "      <td>Categoría1</td>\n",
       "      <td>3</td>\n",
       "      <td>0.000113</td>\n",
       "      <td>1.000000</td>\n",
       "    </tr>\n",
       "  </tbody>\n",
       "</table>\n",
       "</div>"
      ],
      "text/plain": [
       "   review_scores_communication  frequency  percentage  cumulative_perc\n",
       "0                  Categoría11      24085    0.906064         0.908354\n",
       "1                  Categoría10       1558    0.058611         0.967113\n",
       "2                   Categoría9        491    0.018471         0.985631\n",
       "3                   Categoría8        137    0.005154         0.990798\n",
       "4                   Categoría6        102    0.003837         0.994645\n",
       "5                   Categoría7         86    0.003235         0.997888\n",
       "6                   Categoría5         26    0.000978         0.998869\n",
       "7                   Categoría3         16    0.000602         0.999472\n",
       "8                   Categoría4          6    0.000226         0.999698\n",
       "9                   Categoría2          5    0.000188         0.999887\n",
       "10                  Categoría1          3    0.000113         1.000000"
      ]
     },
     "execution_count": 811,
     "metadata": {},
     "output_type": "execute_result"
    }
   ],
   "source": [
    "#Obtengo un análisis univariado de una variable categórica en específico  \n",
    "data1 = freq_tbl(data[\"review_scores_communication\"])\n",
    "data1"
   ]
  },
  {
   "cell_type": "code",
   "execution_count": 812,
   "metadata": {},
   "outputs": [
    {
     "data": {
      "text/html": [
       "<div>\n",
       "<style scoped>\n",
       "    .dataframe tbody tr th:only-of-type {\n",
       "        vertical-align: middle;\n",
       "    }\n",
       "\n",
       "    .dataframe tbody tr th {\n",
       "        vertical-align: top;\n",
       "    }\n",
       "\n",
       "    .dataframe thead th {\n",
       "        text-align: right;\n",
       "    }\n",
       "</style>\n",
       "<table border=\"1\" class=\"dataframe\">\n",
       "  <thead>\n",
       "    <tr style=\"text-align: right;\">\n",
       "      <th></th>\n",
       "      <th>review_scores_communication</th>\n",
       "      <th>frequency</th>\n",
       "    </tr>\n",
       "  </thead>\n",
       "  <tbody>\n",
       "    <tr>\n",
       "      <th>0</th>\n",
       "      <td>Categoría11</td>\n",
       "      <td>24085</td>\n",
       "    </tr>\n",
       "    <tr>\n",
       "      <th>1</th>\n",
       "      <td>Categoría10</td>\n",
       "      <td>1558</td>\n",
       "    </tr>\n",
       "    <tr>\n",
       "      <th>2</th>\n",
       "      <td>Categoría9</td>\n",
       "      <td>491</td>\n",
       "    </tr>\n",
       "    <tr>\n",
       "      <th>3</th>\n",
       "      <td>Categoría8</td>\n",
       "      <td>137</td>\n",
       "    </tr>\n",
       "    <tr>\n",
       "      <th>4</th>\n",
       "      <td>Categoría6</td>\n",
       "      <td>102</td>\n",
       "    </tr>\n",
       "    <tr>\n",
       "      <th>5</th>\n",
       "      <td>Categoría7</td>\n",
       "      <td>86</td>\n",
       "    </tr>\n",
       "    <tr>\n",
       "      <th>6</th>\n",
       "      <td>Categoría5</td>\n",
       "      <td>26</td>\n",
       "    </tr>\n",
       "    <tr>\n",
       "      <th>7</th>\n",
       "      <td>Categoría3</td>\n",
       "      <td>16</td>\n",
       "    </tr>\n",
       "    <tr>\n",
       "      <th>8</th>\n",
       "      <td>Categoría4</td>\n",
       "      <td>6</td>\n",
       "    </tr>\n",
       "    <tr>\n",
       "      <th>9</th>\n",
       "      <td>Categoría2</td>\n",
       "      <td>5</td>\n",
       "    </tr>\n",
       "    <tr>\n",
       "      <th>10</th>\n",
       "      <td>Categoría1</td>\n",
       "      <td>3</td>\n",
       "    </tr>\n",
       "  </tbody>\n",
       "</table>\n",
       "</div>"
      ],
      "text/plain": [
       "   review_scores_communication  frequency\n",
       "0                  Categoría11      24085\n",
       "1                  Categoría10       1558\n",
       "2                   Categoría9        491\n",
       "3                   Categoría8        137\n",
       "4                   Categoría6        102\n",
       "5                   Categoría7         86\n",
       "6                   Categoría5         26\n",
       "7                   Categoría3         16\n",
       "8                   Categoría4          6\n",
       "9                   Categoría2          5\n",
       "10                  Categoría1          3"
      ]
     },
     "execution_count": 812,
     "metadata": {},
     "output_type": "execute_result"
    }
   ],
   "source": [
    "#Elimino las columnas \"procentage\" y \"cumulative_perc\" para trabajar con las fecuencias\n",
    "table13 = data1.drop(['percentage', 'cumulative_perc'], axis=1)\n",
    "table13"
   ]
  },
  {
   "cell_type": "code",
   "execution_count": 813,
   "metadata": {},
   "outputs": [
    {
     "data": {
      "text/html": [
       "<div>\n",
       "<style scoped>\n",
       "    .dataframe tbody tr th:only-of-type {\n",
       "        vertical-align: middle;\n",
       "    }\n",
       "\n",
       "    .dataframe tbody tr th {\n",
       "        vertical-align: top;\n",
       "    }\n",
       "\n",
       "    .dataframe thead th {\n",
       "        text-align: right;\n",
       "    }\n",
       "</style>\n",
       "<table border=\"1\" class=\"dataframe\">\n",
       "  <thead>\n",
       "    <tr style=\"text-align: right;\">\n",
       "      <th></th>\n",
       "      <th>review_scores_communication</th>\n",
       "      <th>frequency</th>\n",
       "    </tr>\n",
       "  </thead>\n",
       "  <tbody>\n",
       "    <tr>\n",
       "      <th>0</th>\n",
       "      <td>Categoría11</td>\n",
       "      <td>24085</td>\n",
       "    </tr>\n",
       "    <tr>\n",
       "      <th>1</th>\n",
       "      <td>Categoría10</td>\n",
       "      <td>1558</td>\n",
       "    </tr>\n",
       "    <tr>\n",
       "      <th>2</th>\n",
       "      <td>Categoría9</td>\n",
       "      <td>491</td>\n",
       "    </tr>\n",
       "  </tbody>\n",
       "</table>\n",
       "</div>"
      ],
      "text/plain": [
       "  review_scores_communication  frequency\n",
       "0                 Categoría11      24085\n",
       "1                 Categoría10       1558\n",
       "2                  Categoría9        491"
      ]
     },
     "execution_count": 813,
     "metadata": {},
     "output_type": "execute_result"
    }
   ],
   "source": [
    "filtro13 = table13[table13['frequency'] > 400]\n",
    "filtro13"
   ]
  },
  {
   "cell_type": "code",
   "execution_count": 814,
   "metadata": {},
   "outputs": [
    {
     "data": {
      "text/html": [
       "<div>\n",
       "<style scoped>\n",
       "    .dataframe tbody tr th:only-of-type {\n",
       "        vertical-align: middle;\n",
       "    }\n",
       "\n",
       "    .dataframe tbody tr th {\n",
       "        vertical-align: top;\n",
       "    }\n",
       "\n",
       "    .dataframe thead th {\n",
       "        text-align: right;\n",
       "    }\n",
       "</style>\n",
       "<table border=\"1\" class=\"dataframe\">\n",
       "  <thead>\n",
       "    <tr style=\"text-align: right;\">\n",
       "      <th></th>\n",
       "      <th>frequency</th>\n",
       "    </tr>\n",
       "    <tr>\n",
       "      <th>review_scores_communication</th>\n",
       "      <th></th>\n",
       "    </tr>\n",
       "  </thead>\n",
       "  <tbody>\n",
       "    <tr>\n",
       "      <th>Categoría11</th>\n",
       "      <td>24085</td>\n",
       "    </tr>\n",
       "    <tr>\n",
       "      <th>Categoría10</th>\n",
       "      <td>1558</td>\n",
       "    </tr>\n",
       "    <tr>\n",
       "      <th>Categoría9</th>\n",
       "      <td>491</td>\n",
       "    </tr>\n",
       "  </tbody>\n",
       "</table>\n",
       "</div>"
      ],
      "text/plain": [
       "                             frequency\n",
       "review_scores_communication           \n",
       "Categoría11                      24085\n",
       "Categoría10                       1558\n",
       "Categoría9                         491"
      ]
     },
     "execution_count": 814,
     "metadata": {},
     "output_type": "execute_result"
    }
   ],
   "source": [
    "#Ajusto el indice de mi DataFrame\n",
    "Filtro_index = filtro13.set_index(\"review_scores_communication\")\n",
    "Filtro_index"
   ]
  },
  {
   "cell_type": "code",
   "execution_count": 815,
   "metadata": {},
   "outputs": [
    {
     "data": {
      "text/plain": [
       "<Axes: ylabel='frequency'>"
      ]
     },
     "execution_count": 815,
     "metadata": {},
     "output_type": "execute_result"
    },
    {
     "data": {
      "image/png": "[encoded data removed]",
      "text/plain": [
       "<Figure size 1000x500 with 1 Axes>"
      ]
     },
     "metadata": {},
     "output_type": "display_data"
    }
   ],
   "source": [
    "#Realizamos grafico de pastel del dataframe filtrado\n",
    "Filtro_index[\"frequency\"].plot(kind='pie', figsize=(10,5), shadow=True, autopct=\"%0.1f %%\")"
   ]
  },
  {
   "cell_type": "code",
   "execution_count": 816,
   "metadata": {},
   "outputs": [
    {
     "data": {
      "text/plain": [
       "[1.0, 5.0]"
      ]
     },
     "execution_count": 816,
     "metadata": {},
     "output_type": "execute_result"
    }
   ],
   "source": [
    "Min = data[\"review_scores_checkin\"].min()  \n",
    "Max = data[\"review_scores_checkin\"].max()  \n",
    "Limites = [Min,Max]\n",
    "Limites"
   ]
  },
  {
   "cell_type": "code",
   "execution_count": 817,
   "metadata": {},
   "outputs": [
    {
     "data": {
      "text/plain": [
       "4.0"
      ]
     },
     "execution_count": 817,
     "metadata": {},
     "output_type": "execute_result"
    }
   ],
   "source": [
    "#Calcula el rango\n",
    "R = Max - Min\n",
    "R"
   ]
  },
  {
   "cell_type": "code",
   "execution_count": 818,
   "metadata": {},
   "outputs": [
    {
     "data": {
      "text/plain": [
       "15.689631010177528"
      ]
     },
     "execution_count": 818,
     "metadata": {},
     "output_type": "execute_result"
    }
   ],
   "source": [
    "#Calcular el número de Intervalos de Clase (ni). Se aplica la regla de Sturges (Donde “n” el tamaño de la muestra.):\n",
    "ni = 1+3.32*np.log10(n)\n",
    "ni"
   ]
  },
  {
   "cell_type": "code",
   "execution_count": 819,
   "metadata": {},
   "outputs": [
    {
     "data": {
      "text/plain": [
       "0.2549454475637627"
      ]
     },
     "execution_count": 819,
     "metadata": {},
     "output_type": "execute_result"
    }
   ],
   "source": [
    "#Calcular el Ancho del Intervalo ( i )\n",
    "i = R/ni\n",
    "i"
   ]
  },
  {
   "cell_type": "code",
   "execution_count": 820,
   "metadata": {},
   "outputs": [
    {
     "data": {
      "text/plain": [
       "array([1.        , 1.36363636, 1.72727273, 2.09090909, 2.45454545,\n",
       "       2.81818182, 3.18181818, 3.54545455, 3.90909091, 4.27272727,\n",
       "       4.63636364, 5.        ])"
      ]
     },
     "execution_count": 820,
     "metadata": {},
     "output_type": "execute_result"
    }
   ],
   "source": [
    "intervalos = np.linspace(1.0, 5.0, 12) #Número de clases más uno\n",
    "intervalos"
   ]
  },
  {
   "cell_type": "code",
   "execution_count": 821,
   "metadata": {},
   "outputs": [],
   "source": [
    "categorias = [\"Categoría1\", \"Categoría2\", \"Categoría3\", \"Categoría4\",\n",
    "              \"Categoría5\", \"Categoría6\", \"Categoría7\", \"Categoría8\",\n",
    "              \"Categoría9\",\"Categoría10\",\"Categoría11\"]"
   ]
  },
  {
   "cell_type": "code",
   "execution_count": 822,
   "metadata": {},
   "outputs": [
    {
     "data": {
      "text/plain": [
       "0        Categoría11\n",
       "1        Categoría11\n",
       "2        Categoría11\n",
       "3        Categoría11\n",
       "4        Categoría11\n",
       "            ...     \n",
       "26577    Categoría11\n",
       "26578    Categoría11\n",
       "26579    Categoría11\n",
       "26580    Categoría11\n",
       "26581    Categoría11\n",
       "Name: review_scores_checkin, Length: 26582, dtype: category\n",
       "Categories (11, object): ['Categoría1' < 'Categoría2' < 'Categoría3' < 'Categoría4' ... 'Categoría8' < 'Categoría9' < 'Categoría10' < 'Categoría11']"
      ]
     },
     "execution_count": 822,
     "metadata": {},
     "output_type": "execute_result"
    }
   ],
   "source": [
    "data[\"review_scores_checkin\"] = pd.cut(x = data[\"review_scores_checkin\"], bins = intervalos, labels = categorias)\n",
    "data[\"review_scores_checkin\"]\n"
   ]
  },
  {
   "cell_type": "code",
   "execution_count": 823,
   "metadata": {},
   "outputs": [
    {
     "data": {
      "text/html": [
       "<div>\n",
       "<style scoped>\n",
       "    .dataframe tbody tr th:only-of-type {\n",
       "        vertical-align: middle;\n",
       "    }\n",
       "\n",
       "    .dataframe tbody tr th {\n",
       "        vertical-align: top;\n",
       "    }\n",
       "\n",
       "    .dataframe thead th {\n",
       "        text-align: right;\n",
       "    }\n",
       "</style>\n",
       "<table border=\"1\" class=\"dataframe\">\n",
       "  <thead>\n",
       "    <tr style=\"text-align: right;\">\n",
       "      <th></th>\n",
       "      <th>review_scores_checkin</th>\n",
       "      <th>frequency</th>\n",
       "      <th>percentage</th>\n",
       "      <th>cumulative_perc</th>\n",
       "    </tr>\n",
       "  </thead>\n",
       "  <tbody>\n",
       "    <tr>\n",
       "      <th>0</th>\n",
       "      <td>Categoría11</td>\n",
       "      <td>24047</td>\n",
       "      <td>0.904635</td>\n",
       "      <td>0.906784</td>\n",
       "    </tr>\n",
       "    <tr>\n",
       "      <th>1</th>\n",
       "      <td>Categoría10</td>\n",
       "      <td>1576</td>\n",
       "      <td>0.059288</td>\n",
       "      <td>0.966213</td>\n",
       "    </tr>\n",
       "    <tr>\n",
       "      <th>2</th>\n",
       "      <td>Categoría9</td>\n",
       "      <td>604</td>\n",
       "      <td>0.022722</td>\n",
       "      <td>0.988989</td>\n",
       "    </tr>\n",
       "    <tr>\n",
       "      <th>3</th>\n",
       "      <td>Categoría8</td>\n",
       "      <td>100</td>\n",
       "      <td>0.003762</td>\n",
       "      <td>0.992760</td>\n",
       "    </tr>\n",
       "    <tr>\n",
       "      <th>4</th>\n",
       "      <td>Categoría6</td>\n",
       "      <td>97</td>\n",
       "      <td>0.003649</td>\n",
       "      <td>0.996418</td>\n",
       "    </tr>\n",
       "    <tr>\n",
       "      <th>5</th>\n",
       "      <td>Categoría7</td>\n",
       "      <td>67</td>\n",
       "      <td>0.002521</td>\n",
       "      <td>0.998944</td>\n",
       "    </tr>\n",
       "    <tr>\n",
       "      <th>6</th>\n",
       "      <td>Categoría3</td>\n",
       "      <td>13</td>\n",
       "      <td>0.000489</td>\n",
       "      <td>0.999434</td>\n",
       "    </tr>\n",
       "    <tr>\n",
       "      <th>7</th>\n",
       "      <td>Categoría5</td>\n",
       "      <td>9</td>\n",
       "      <td>0.000339</td>\n",
       "      <td>0.999774</td>\n",
       "    </tr>\n",
       "    <tr>\n",
       "      <th>8</th>\n",
       "      <td>Categoría4</td>\n",
       "      <td>5</td>\n",
       "      <td>0.000188</td>\n",
       "      <td>0.999962</td>\n",
       "    </tr>\n",
       "    <tr>\n",
       "      <th>9</th>\n",
       "      <td>Categoría2</td>\n",
       "      <td>1</td>\n",
       "      <td>0.000038</td>\n",
       "      <td>1.000000</td>\n",
       "    </tr>\n",
       "    <tr>\n",
       "      <th>10</th>\n",
       "      <td>Categoría1</td>\n",
       "      <td>0</td>\n",
       "      <td>0.000000</td>\n",
       "      <td>1.000000</td>\n",
       "    </tr>\n",
       "  </tbody>\n",
       "</table>\n",
       "</div>"
      ],
      "text/plain": [
       "   review_scores_checkin  frequency  percentage  cumulative_perc\n",
       "0            Categoría11      24047    0.904635         0.906784\n",
       "1            Categoría10       1576    0.059288         0.966213\n",
       "2             Categoría9        604    0.022722         0.988989\n",
       "3             Categoría8        100    0.003762         0.992760\n",
       "4             Categoría6         97    0.003649         0.996418\n",
       "5             Categoría7         67    0.002521         0.998944\n",
       "6             Categoría3         13    0.000489         0.999434\n",
       "7             Categoría5          9    0.000339         0.999774\n",
       "8             Categoría4          5    0.000188         0.999962\n",
       "9             Categoría2          1    0.000038         1.000000\n",
       "10            Categoría1          0    0.000000         1.000000"
      ]
     },
     "execution_count": 823,
     "metadata": {},
     "output_type": "execute_result"
    }
   ],
   "source": [
    "#Obtengo un análisis univariado de una variable categórica en específico  \n",
    "data1 = freq_tbl(data[\"review_scores_checkin\"])\n",
    "data1"
   ]
  },
  {
   "cell_type": "code",
   "execution_count": 824,
   "metadata": {},
   "outputs": [
    {
     "data": {
      "text/html": [
       "<div>\n",
       "<style scoped>\n",
       "    .dataframe tbody tr th:only-of-type {\n",
       "        vertical-align: middle;\n",
       "    }\n",
       "\n",
       "    .dataframe tbody tr th {\n",
       "        vertical-align: top;\n",
       "    }\n",
       "\n",
       "    .dataframe thead th {\n",
       "        text-align: right;\n",
       "    }\n",
       "</style>\n",
       "<table border=\"1\" class=\"dataframe\">\n",
       "  <thead>\n",
       "    <tr style=\"text-align: right;\">\n",
       "      <th></th>\n",
       "      <th>review_scores_checkin</th>\n",
       "      <th>frequency</th>\n",
       "      <th>cumulative_perc</th>\n",
       "    </tr>\n",
       "  </thead>\n",
       "  <tbody>\n",
       "    <tr>\n",
       "      <th>0</th>\n",
       "      <td>Categoría11</td>\n",
       "      <td>24047</td>\n",
       "      <td>0.906784</td>\n",
       "    </tr>\n",
       "    <tr>\n",
       "      <th>1</th>\n",
       "      <td>Categoría10</td>\n",
       "      <td>1576</td>\n",
       "      <td>0.966213</td>\n",
       "    </tr>\n",
       "    <tr>\n",
       "      <th>2</th>\n",
       "      <td>Categoría9</td>\n",
       "      <td>604</td>\n",
       "      <td>0.988989</td>\n",
       "    </tr>\n",
       "    <tr>\n",
       "      <th>3</th>\n",
       "      <td>Categoría8</td>\n",
       "      <td>100</td>\n",
       "      <td>0.992760</td>\n",
       "    </tr>\n",
       "    <tr>\n",
       "      <th>4</th>\n",
       "      <td>Categoría6</td>\n",
       "      <td>97</td>\n",
       "      <td>0.996418</td>\n",
       "    </tr>\n",
       "    <tr>\n",
       "      <th>5</th>\n",
       "      <td>Categoría7</td>\n",
       "      <td>67</td>\n",
       "      <td>0.998944</td>\n",
       "    </tr>\n",
       "    <tr>\n",
       "      <th>6</th>\n",
       "      <td>Categoría3</td>\n",
       "      <td>13</td>\n",
       "      <td>0.999434</td>\n",
       "    </tr>\n",
       "    <tr>\n",
       "      <th>7</th>\n",
       "      <td>Categoría5</td>\n",
       "      <td>9</td>\n",
       "      <td>0.999774</td>\n",
       "    </tr>\n",
       "    <tr>\n",
       "      <th>8</th>\n",
       "      <td>Categoría4</td>\n",
       "      <td>5</td>\n",
       "      <td>0.999962</td>\n",
       "    </tr>\n",
       "    <tr>\n",
       "      <th>9</th>\n",
       "      <td>Categoría2</td>\n",
       "      <td>1</td>\n",
       "      <td>1.000000</td>\n",
       "    </tr>\n",
       "    <tr>\n",
       "      <th>10</th>\n",
       "      <td>Categoría1</td>\n",
       "      <td>0</td>\n",
       "      <td>1.000000</td>\n",
       "    </tr>\n",
       "  </tbody>\n",
       "</table>\n",
       "</div>"
      ],
      "text/plain": [
       "   review_scores_checkin  frequency  cumulative_perc\n",
       "0            Categoría11      24047         0.906784\n",
       "1            Categoría10       1576         0.966213\n",
       "2             Categoría9        604         0.988989\n",
       "3             Categoría8        100         0.992760\n",
       "4             Categoría6         97         0.996418\n",
       "5             Categoría7         67         0.998944\n",
       "6             Categoría3         13         0.999434\n",
       "7             Categoría5          9         0.999774\n",
       "8             Categoría4          5         0.999962\n",
       "9             Categoría2          1         1.000000\n",
       "10            Categoría1          0         1.000000"
      ]
     },
     "execution_count": 824,
     "metadata": {},
     "output_type": "execute_result"
    }
   ],
   "source": [
    "#Elimino las columnas \"procentage\" y \"cumulative_perc\" para trabajar con las fecuencias\n",
    "table14 = data1.drop(['percentage'], axis=1)\n",
    "table14"
   ]
  },
  {
   "cell_type": "code",
   "execution_count": 825,
   "metadata": {},
   "outputs": [
    {
     "data": {
      "text/html": [
       "<div>\n",
       "<style scoped>\n",
       "    .dataframe tbody tr th:only-of-type {\n",
       "        vertical-align: middle;\n",
       "    }\n",
       "\n",
       "    .dataframe tbody tr th {\n",
       "        vertical-align: top;\n",
       "    }\n",
       "\n",
       "    .dataframe thead th {\n",
       "        text-align: right;\n",
       "    }\n",
       "</style>\n",
       "<table border=\"1\" class=\"dataframe\">\n",
       "  <thead>\n",
       "    <tr style=\"text-align: right;\">\n",
       "      <th></th>\n",
       "      <th>review_scores_checkin</th>\n",
       "      <th>frequency</th>\n",
       "      <th>cumulative_perc</th>\n",
       "    </tr>\n",
       "  </thead>\n",
       "  <tbody>\n",
       "    <tr>\n",
       "      <th>0</th>\n",
       "      <td>Categoría11</td>\n",
       "      <td>24047</td>\n",
       "      <td>0.906784</td>\n",
       "    </tr>\n",
       "    <tr>\n",
       "      <th>1</th>\n",
       "      <td>Categoría10</td>\n",
       "      <td>1576</td>\n",
       "      <td>0.966213</td>\n",
       "    </tr>\n",
       "    <tr>\n",
       "      <th>2</th>\n",
       "      <td>Categoría9</td>\n",
       "      <td>604</td>\n",
       "      <td>0.988989</td>\n",
       "    </tr>\n",
       "    <tr>\n",
       "      <th>3</th>\n",
       "      <td>Categoría8</td>\n",
       "      <td>100</td>\n",
       "      <td>0.992760</td>\n",
       "    </tr>\n",
       "    <tr>\n",
       "      <th>4</th>\n",
       "      <td>Categoría6</td>\n",
       "      <td>97</td>\n",
       "      <td>0.996418</td>\n",
       "    </tr>\n",
       "    <tr>\n",
       "      <th>5</th>\n",
       "      <td>Categoría7</td>\n",
       "      <td>67</td>\n",
       "      <td>0.998944</td>\n",
       "    </tr>\n",
       "  </tbody>\n",
       "</table>\n",
       "</div>"
      ],
      "text/plain": [
       "  review_scores_checkin  frequency  cumulative_perc\n",
       "0           Categoría11      24047         0.906784\n",
       "1           Categoría10       1576         0.966213\n",
       "2            Categoría9        604         0.988989\n",
       "3            Categoría8        100         0.992760\n",
       "4            Categoría6         97         0.996418\n",
       "5            Categoría7         67         0.998944"
      ]
     },
     "execution_count": 825,
     "metadata": {},
     "output_type": "execute_result"
    }
   ],
   "source": [
    "filtro14 = table14[table14['frequency'] > 50]\n",
    "filtro14"
   ]
  },
  {
   "cell_type": "code",
   "execution_count": 826,
   "metadata": {},
   "outputs": [
    {
     "data": {
      "text/html": [
       "<div>\n",
       "<style scoped>\n",
       "    .dataframe tbody tr th:only-of-type {\n",
       "        vertical-align: middle;\n",
       "    }\n",
       "\n",
       "    .dataframe tbody tr th {\n",
       "        vertical-align: top;\n",
       "    }\n",
       "\n",
       "    .dataframe thead th {\n",
       "        text-align: right;\n",
       "    }\n",
       "</style>\n",
       "<table border=\"1\" class=\"dataframe\">\n",
       "  <thead>\n",
       "    <tr style=\"text-align: right;\">\n",
       "      <th></th>\n",
       "      <th>frequency</th>\n",
       "      <th>cumulative_perc</th>\n",
       "    </tr>\n",
       "    <tr>\n",
       "      <th>review_scores_checkin</th>\n",
       "      <th></th>\n",
       "      <th></th>\n",
       "    </tr>\n",
       "  </thead>\n",
       "  <tbody>\n",
       "    <tr>\n",
       "      <th>Categoría11</th>\n",
       "      <td>24047</td>\n",
       "      <td>0.906784</td>\n",
       "    </tr>\n",
       "    <tr>\n",
       "      <th>Categoría10</th>\n",
       "      <td>1576</td>\n",
       "      <td>0.966213</td>\n",
       "    </tr>\n",
       "    <tr>\n",
       "      <th>Categoría9</th>\n",
       "      <td>604</td>\n",
       "      <td>0.988989</td>\n",
       "    </tr>\n",
       "    <tr>\n",
       "      <th>Categoría8</th>\n",
       "      <td>100</td>\n",
       "      <td>0.992760</td>\n",
       "    </tr>\n",
       "    <tr>\n",
       "      <th>Categoría6</th>\n",
       "      <td>97</td>\n",
       "      <td>0.996418</td>\n",
       "    </tr>\n",
       "    <tr>\n",
       "      <th>Categoría7</th>\n",
       "      <td>67</td>\n",
       "      <td>0.998944</td>\n",
       "    </tr>\n",
       "  </tbody>\n",
       "</table>\n",
       "</div>"
      ],
      "text/plain": [
       "                       frequency  cumulative_perc\n",
       "review_scores_checkin                            \n",
       "Categoría11                24047         0.906784\n",
       "Categoría10                 1576         0.966213\n",
       "Categoría9                   604         0.988989\n",
       "Categoría8                   100         0.992760\n",
       "Categoría6                    97         0.996418\n",
       "Categoría7                    67         0.998944"
      ]
     },
     "execution_count": 826,
     "metadata": {},
     "output_type": "execute_result"
    }
   ],
   "source": [
    "#Ajusto el indice de mi DataFrame\n",
    "Filtro_index = filtro14.set_index(\"review_scores_checkin\")\n",
    "Filtro_index"
   ]
  },
  {
   "cell_type": "code",
   "execution_count": 827,
   "metadata": {},
   "outputs": [
    {
     "data": {
      "text/plain": [
       "<Axes: xlabel='frequency', ylabel='cumulative_perc'>"
      ]
     },
     "execution_count": 827,
     "metadata": {},
     "output_type": "execute_result"
    },
    {
     "data": {
      "image/png": "[encoded data removed]",
      "text/plain": [
       "<Figure size 640x480 with 1 Axes>"
      ]
     },
     "metadata": {},
     "output_type": "display_data"
    }
   ],
   "source": [
    "#Realizamos grafico de dispersión del dataframe filtrado\n",
    "table14.plot(\"frequency\", \"cumulative_perc\", kind=\"scatter\")"
   ]
  },
  {
   "cell_type": "code",
   "execution_count": 828,
   "metadata": {},
   "outputs": [
    {
     "data": {
      "text/plain": [
       "[1.0, 5.0]"
      ]
     },
     "execution_count": 828,
     "metadata": {},
     "output_type": "execute_result"
    }
   ],
   "source": [
    "Min = data[\"review_scores_cleanliness\"].min()  \n",
    "Max = data[\"review_scores_cleanliness\"].max()  \n",
    "Limites = [Min,Max]\n",
    "Limites"
   ]
  },
  {
   "cell_type": "code",
   "execution_count": 829,
   "metadata": {},
   "outputs": [
    {
     "data": {
      "text/plain": [
       "4.0"
      ]
     },
     "execution_count": 829,
     "metadata": {},
     "output_type": "execute_result"
    }
   ],
   "source": [
    "#Calcula el rango\n",
    "R = Max - Min\n",
    "R\n"
   ]
  },
  {
   "cell_type": "code",
   "execution_count": 830,
   "metadata": {},
   "outputs": [
    {
     "data": {
      "text/plain": [
       "15.689631010177528"
      ]
     },
     "execution_count": 830,
     "metadata": {},
     "output_type": "execute_result"
    }
   ],
   "source": [
    "#Calcular el número de Intervalos de Clase (ni). Se aplica la regla de Sturges (Donde “n” el tamaño de la muestra.):\n",
    "ni = 1+3.32*np.log10(n)\n",
    "ni"
   ]
  },
  {
   "cell_type": "code",
   "execution_count": 831,
   "metadata": {},
   "outputs": [
    {
     "data": {
      "text/plain": [
       "0.2549454475637627"
      ]
     },
     "execution_count": 831,
     "metadata": {},
     "output_type": "execute_result"
    }
   ],
   "source": [
    "#Calcular el Ancho del Intervalo ( i )\n",
    "i = R/ni\n",
    "i\n"
   ]
  },
  {
   "cell_type": "code",
   "execution_count": 832,
   "metadata": {},
   "outputs": [
    {
     "data": {
      "text/plain": [
       "array([1.        , 1.36363636, 1.72727273, 2.09090909, 2.45454545,\n",
       "       2.81818182, 3.18181818, 3.54545455, 3.90909091, 4.27272727,\n",
       "       4.63636364, 5.        ])"
      ]
     },
     "execution_count": 832,
     "metadata": {},
     "output_type": "execute_result"
    }
   ],
   "source": [
    "intervalos = np.linspace(1.0, 5.0, 12) #Número de clases más uno\n",
    "intervalos"
   ]
  },
  {
   "cell_type": "code",
   "execution_count": 833,
   "metadata": {},
   "outputs": [],
   "source": [
    "categorias = [\"Categoría1\", \"Categoría2\", \"Categoría3\", \"Categoría4\",\n",
    "              \"Categoría5\", \"Categoría6\", \"Categoría7\", \"Categoría8\",\n",
    "              \"Categoría9\",\"Categoría10\",\"Categoría11\"]\n"
   ]
  },
  {
   "cell_type": "code",
   "execution_count": 834,
   "metadata": {},
   "outputs": [
    {
     "data": {
      "text/plain": [
       "0        Categoría11\n",
       "1        Categoría11\n",
       "2        Categoría11\n",
       "3        Categoría11\n",
       "4        Categoría11\n",
       "            ...     \n",
       "26577    Categoría11\n",
       "26578    Categoría11\n",
       "26579    Categoría11\n",
       "26580    Categoría11\n",
       "26581    Categoría11\n",
       "Name: review_scores_cleanliness, Length: 26582, dtype: category\n",
       "Categories (11, object): ['Categoría1' < 'Categoría2' < 'Categoría3' < 'Categoría4' ... 'Categoría8' < 'Categoría9' < 'Categoría10' < 'Categoría11']"
      ]
     },
     "execution_count": 834,
     "metadata": {},
     "output_type": "execute_result"
    }
   ],
   "source": [
    "data[\"review_scores_cleanliness\"] = pd.cut(x = data[\"review_scores_cleanliness\"], bins = intervalos, labels = categorias)\n",
    "data[\"review_scores_cleanliness\"]\n"
   ]
  },
  {
   "cell_type": "code",
   "execution_count": 835,
   "metadata": {},
   "outputs": [
    {
     "data": {
      "text/html": [
       "<div>\n",
       "<style scoped>\n",
       "    .dataframe tbody tr th:only-of-type {\n",
       "        vertical-align: middle;\n",
       "    }\n",
       "\n",
       "    .dataframe tbody tr th {\n",
       "        vertical-align: top;\n",
       "    }\n",
       "\n",
       "    .dataframe thead th {\n",
       "        text-align: right;\n",
       "    }\n",
       "</style>\n",
       "<table border=\"1\" class=\"dataframe\">\n",
       "  <thead>\n",
       "    <tr style=\"text-align: right;\">\n",
       "      <th></th>\n",
       "      <th>review_scores_cleanliness</th>\n",
       "      <th>frequency</th>\n",
       "      <th>percentage</th>\n",
       "      <th>cumulative_perc</th>\n",
       "    </tr>\n",
       "  </thead>\n",
       "  <tbody>\n",
       "    <tr>\n",
       "      <th>0</th>\n",
       "      <td>Categoría11</td>\n",
       "      <td>22277</td>\n",
       "      <td>0.838048</td>\n",
       "      <td>0.839849</td>\n",
       "    </tr>\n",
       "    <tr>\n",
       "      <th>1</th>\n",
       "      <td>Categoría10</td>\n",
       "      <td>2976</td>\n",
       "      <td>0.111955</td>\n",
       "      <td>0.952045</td>\n",
       "    </tr>\n",
       "    <tr>\n",
       "      <th>2</th>\n",
       "      <td>Categoría9</td>\n",
       "      <td>828</td>\n",
       "      <td>0.031149</td>\n",
       "      <td>0.983261</td>\n",
       "    </tr>\n",
       "    <tr>\n",
       "      <th>3</th>\n",
       "      <td>Categoría8</td>\n",
       "      <td>165</td>\n",
       "      <td>0.006207</td>\n",
       "      <td>0.989482</td>\n",
       "    </tr>\n",
       "    <tr>\n",
       "      <th>4</th>\n",
       "      <td>Categoría6</td>\n",
       "      <td>129</td>\n",
       "      <td>0.004853</td>\n",
       "      <td>0.994345</td>\n",
       "    </tr>\n",
       "    <tr>\n",
       "      <th>5</th>\n",
       "      <td>Categoría7</td>\n",
       "      <td>97</td>\n",
       "      <td>0.003649</td>\n",
       "      <td>0.998002</td>\n",
       "    </tr>\n",
       "    <tr>\n",
       "      <th>6</th>\n",
       "      <td>Categoría3</td>\n",
       "      <td>35</td>\n",
       "      <td>0.001317</td>\n",
       "      <td>0.999321</td>\n",
       "    </tr>\n",
       "    <tr>\n",
       "      <th>7</th>\n",
       "      <td>Categoría5</td>\n",
       "      <td>16</td>\n",
       "      <td>0.000602</td>\n",
       "      <td>0.999925</td>\n",
       "    </tr>\n",
       "    <tr>\n",
       "      <th>8</th>\n",
       "      <td>Categoría4</td>\n",
       "      <td>2</td>\n",
       "      <td>0.000075</td>\n",
       "      <td>1.000000</td>\n",
       "    </tr>\n",
       "    <tr>\n",
       "      <th>9</th>\n",
       "      <td>Categoría1</td>\n",
       "      <td>0</td>\n",
       "      <td>0.000000</td>\n",
       "      <td>1.000000</td>\n",
       "    </tr>\n",
       "    <tr>\n",
       "      <th>10</th>\n",
       "      <td>Categoría2</td>\n",
       "      <td>0</td>\n",
       "      <td>0.000000</td>\n",
       "      <td>1.000000</td>\n",
       "    </tr>\n",
       "  </tbody>\n",
       "</table>\n",
       "</div>"
      ],
      "text/plain": [
       "   review_scores_cleanliness  frequency  percentage  cumulative_perc\n",
       "0                Categoría11      22277    0.838048         0.839849\n",
       "1                Categoría10       2976    0.111955         0.952045\n",
       "2                 Categoría9        828    0.031149         0.983261\n",
       "3                 Categoría8        165    0.006207         0.989482\n",
       "4                 Categoría6        129    0.004853         0.994345\n",
       "5                 Categoría7         97    0.003649         0.998002\n",
       "6                 Categoría3         35    0.001317         0.999321\n",
       "7                 Categoría5         16    0.000602         0.999925\n",
       "8                 Categoría4          2    0.000075         1.000000\n",
       "9                 Categoría1          0    0.000000         1.000000\n",
       "10                Categoría2          0    0.000000         1.000000"
      ]
     },
     "execution_count": 835,
     "metadata": {},
     "output_type": "execute_result"
    }
   ],
   "source": [
    "#Obtengo un análisis univariado de una variable categórica en específico  \n",
    "data1 = freq_tbl(data[\"review_scores_cleanliness\"])\n",
    "data1"
   ]
  },
  {
   "cell_type": "code",
   "execution_count": 836,
   "metadata": {},
   "outputs": [
    {
     "data": {
      "text/html": [
       "<div>\n",
       "<style scoped>\n",
       "    .dataframe tbody tr th:only-of-type {\n",
       "        vertical-align: middle;\n",
       "    }\n",
       "\n",
       "    .dataframe tbody tr th {\n",
       "        vertical-align: top;\n",
       "    }\n",
       "\n",
       "    .dataframe thead th {\n",
       "        text-align: right;\n",
       "    }\n",
       "</style>\n",
       "<table border=\"1\" class=\"dataframe\">\n",
       "  <thead>\n",
       "    <tr style=\"text-align: right;\">\n",
       "      <th></th>\n",
       "      <th>review_scores_cleanliness</th>\n",
       "      <th>frequency</th>\n",
       "    </tr>\n",
       "  </thead>\n",
       "  <tbody>\n",
       "    <tr>\n",
       "      <th>0</th>\n",
       "      <td>Categoría11</td>\n",
       "      <td>22277</td>\n",
       "    </tr>\n",
       "    <tr>\n",
       "      <th>1</th>\n",
       "      <td>Categoría10</td>\n",
       "      <td>2976</td>\n",
       "    </tr>\n",
       "    <tr>\n",
       "      <th>2</th>\n",
       "      <td>Categoría9</td>\n",
       "      <td>828</td>\n",
       "    </tr>\n",
       "    <tr>\n",
       "      <th>3</th>\n",
       "      <td>Categoría8</td>\n",
       "      <td>165</td>\n",
       "    </tr>\n",
       "    <tr>\n",
       "      <th>4</th>\n",
       "      <td>Categoría6</td>\n",
       "      <td>129</td>\n",
       "    </tr>\n",
       "    <tr>\n",
       "      <th>5</th>\n",
       "      <td>Categoría7</td>\n",
       "      <td>97</td>\n",
       "    </tr>\n",
       "    <tr>\n",
       "      <th>6</th>\n",
       "      <td>Categoría3</td>\n",
       "      <td>35</td>\n",
       "    </tr>\n",
       "    <tr>\n",
       "      <th>7</th>\n",
       "      <td>Categoría5</td>\n",
       "      <td>16</td>\n",
       "    </tr>\n",
       "    <tr>\n",
       "      <th>8</th>\n",
       "      <td>Categoría4</td>\n",
       "      <td>2</td>\n",
       "    </tr>\n",
       "    <tr>\n",
       "      <th>9</th>\n",
       "      <td>Categoría1</td>\n",
       "      <td>0</td>\n",
       "    </tr>\n",
       "    <tr>\n",
       "      <th>10</th>\n",
       "      <td>Categoría2</td>\n",
       "      <td>0</td>\n",
       "    </tr>\n",
       "  </tbody>\n",
       "</table>\n",
       "</div>"
      ],
      "text/plain": [
       "   review_scores_cleanliness  frequency\n",
       "0                Categoría11      22277\n",
       "1                Categoría10       2976\n",
       "2                 Categoría9        828\n",
       "3                 Categoría8        165\n",
       "4                 Categoría6        129\n",
       "5                 Categoría7         97\n",
       "6                 Categoría3         35\n",
       "7                 Categoría5         16\n",
       "8                 Categoría4          2\n",
       "9                 Categoría1          0\n",
       "10                Categoría2          0"
      ]
     },
     "execution_count": 836,
     "metadata": {},
     "output_type": "execute_result"
    }
   ],
   "source": [
    "#Elimino las columnas \"procentage\" y \"cumulative_perc\" para trabajar con las fecuencias\n",
    "table15 = data1.drop(['percentage', 'cumulative_perc'], axis=1)\n",
    "table15"
   ]
  },
  {
   "cell_type": "code",
   "execution_count": 837,
   "metadata": {},
   "outputs": [
    {
     "data": {
      "text/html": [
       "<div>\n",
       "<style scoped>\n",
       "    .dataframe tbody tr th:only-of-type {\n",
       "        vertical-align: middle;\n",
       "    }\n",
       "\n",
       "    .dataframe tbody tr th {\n",
       "        vertical-align: top;\n",
       "    }\n",
       "\n",
       "    .dataframe thead th {\n",
       "        text-align: right;\n",
       "    }\n",
       "</style>\n",
       "<table border=\"1\" class=\"dataframe\">\n",
       "  <thead>\n",
       "    <tr style=\"text-align: right;\">\n",
       "      <th></th>\n",
       "      <th>review_scores_cleanliness</th>\n",
       "      <th>frequency</th>\n",
       "    </tr>\n",
       "  </thead>\n",
       "  <tbody>\n",
       "    <tr>\n",
       "      <th>0</th>\n",
       "      <td>Categoría11</td>\n",
       "      <td>22277</td>\n",
       "    </tr>\n",
       "    <tr>\n",
       "      <th>1</th>\n",
       "      <td>Categoría10</td>\n",
       "      <td>2976</td>\n",
       "    </tr>\n",
       "    <tr>\n",
       "      <th>2</th>\n",
       "      <td>Categoría9</td>\n",
       "      <td>828</td>\n",
       "    </tr>\n",
       "    <tr>\n",
       "      <th>3</th>\n",
       "      <td>Categoría8</td>\n",
       "      <td>165</td>\n",
       "    </tr>\n",
       "    <tr>\n",
       "      <th>4</th>\n",
       "      <td>Categoría6</td>\n",
       "      <td>129</td>\n",
       "    </tr>\n",
       "    <tr>\n",
       "      <th>5</th>\n",
       "      <td>Categoría7</td>\n",
       "      <td>97</td>\n",
       "    </tr>\n",
       "    <tr>\n",
       "      <th>6</th>\n",
       "      <td>Categoría3</td>\n",
       "      <td>35</td>\n",
       "    </tr>\n",
       "  </tbody>\n",
       "</table>\n",
       "</div>"
      ],
      "text/plain": [
       "  review_scores_cleanliness  frequency\n",
       "0               Categoría11      22277\n",
       "1               Categoría10       2976\n",
       "2                Categoría9        828\n",
       "3                Categoría8        165\n",
       "4                Categoría6        129\n",
       "5                Categoría7         97\n",
       "6                Categoría3         35"
      ]
     },
     "execution_count": 837,
     "metadata": {},
     "output_type": "execute_result"
    }
   ],
   "source": [
    "filtro15 = table15[table15['frequency'] > 30]\n",
    "filtro15\n"
   ]
  },
  {
   "cell_type": "code",
   "execution_count": 838,
   "metadata": {},
   "outputs": [
    {
     "data": {
      "text/html": [
       "<div>\n",
       "<style scoped>\n",
       "    .dataframe tbody tr th:only-of-type {\n",
       "        vertical-align: middle;\n",
       "    }\n",
       "\n",
       "    .dataframe tbody tr th {\n",
       "        vertical-align: top;\n",
       "    }\n",
       "\n",
       "    .dataframe thead th {\n",
       "        text-align: right;\n",
       "    }\n",
       "</style>\n",
       "<table border=\"1\" class=\"dataframe\">\n",
       "  <thead>\n",
       "    <tr style=\"text-align: right;\">\n",
       "      <th></th>\n",
       "      <th>frequency</th>\n",
       "    </tr>\n",
       "    <tr>\n",
       "      <th>review_scores_cleanliness</th>\n",
       "      <th></th>\n",
       "    </tr>\n",
       "  </thead>\n",
       "  <tbody>\n",
       "    <tr>\n",
       "      <th>Categoría11</th>\n",
       "      <td>22277</td>\n",
       "    </tr>\n",
       "    <tr>\n",
       "      <th>Categoría10</th>\n",
       "      <td>2976</td>\n",
       "    </tr>\n",
       "    <tr>\n",
       "      <th>Categoría9</th>\n",
       "      <td>828</td>\n",
       "    </tr>\n",
       "    <tr>\n",
       "      <th>Categoría8</th>\n",
       "      <td>165</td>\n",
       "    </tr>\n",
       "    <tr>\n",
       "      <th>Categoría6</th>\n",
       "      <td>129</td>\n",
       "    </tr>\n",
       "    <tr>\n",
       "      <th>Categoría7</th>\n",
       "      <td>97</td>\n",
       "    </tr>\n",
       "    <tr>\n",
       "      <th>Categoría3</th>\n",
       "      <td>35</td>\n",
       "    </tr>\n",
       "  </tbody>\n",
       "</table>\n",
       "</div>"
      ],
      "text/plain": [
       "                           frequency\n",
       "review_scores_cleanliness           \n",
       "Categoría11                    22277\n",
       "Categoría10                     2976\n",
       "Categoría9                       828\n",
       "Categoría8                       165\n",
       "Categoría6                       129\n",
       "Categoría7                        97\n",
       "Categoría3                        35"
      ]
     },
     "execution_count": 838,
     "metadata": {},
     "output_type": "execute_result"
    }
   ],
   "source": [
    "#Ajusto el indice de mi DataFrame\n",
    "Filtro_index = filtro15.set_index(\"review_scores_cleanliness\")\n",
    "Filtro_index"
   ]
  },
  {
   "cell_type": "code",
   "execution_count": 839,
   "metadata": {},
   "outputs": [
    {
     "data": {
      "text/plain": [
       "<Axes: xlabel='review_scores_cleanliness'>"
      ]
     },
     "execution_count": 839,
     "metadata": {},
     "output_type": "execute_result"
    },
    {
     "data": {
      "image/png": "[encoded data removed]",
      "text/plain": [
       "<Figure size 1000x400 with 1 Axes>"
      ]
     },
     "metadata": {},
     "output_type": "display_data"
    }
   ],
   "source": [
    "#Realizamos grafico de área del dataframe filtrado\n",
    "Filtro_index.plot(kind='area', figsize=(10,4), alpha = 0.5)"
   ]
  },
  {
   "cell_type": "code",
   "execution_count": 840,
   "metadata": {},
   "outputs": [
    {
     "data": {
      "text/plain": [
       "[1.0, 5.0]"
      ]
     },
     "execution_count": 840,
     "metadata": {},
     "output_type": "execute_result"
    }
   ],
   "source": [
    "Min = data[\"review_scores_accuracy\"].min()  \n",
    "Max = data[\"review_scores_accuracy\"].max()  \n",
    "Limites = [Min,Max]\n",
    "Limites\n"
   ]
  },
  {
   "cell_type": "code",
   "execution_count": 841,
   "metadata": {},
   "outputs": [
    {
     "data": {
      "text/plain": [
       "4.0"
      ]
     },
     "execution_count": 841,
     "metadata": {},
     "output_type": "execute_result"
    }
   ],
   "source": [
    "#Calcula el rango\n",
    "R = Max - Min\n",
    "R"
   ]
  },
  {
   "cell_type": "code",
   "execution_count": 842,
   "metadata": {},
   "outputs": [
    {
     "data": {
      "text/plain": [
       "15.689631010177528"
      ]
     },
     "execution_count": 842,
     "metadata": {},
     "output_type": "execute_result"
    }
   ],
   "source": [
    "#Calcular el número de Intervalos de Clase (ni). Se aplica la regla de Sturges (Donde “n” el tamaño de la muestra.):\n",
    "ni = 1+3.32*np.log10(n)\n",
    "ni"
   ]
  },
  {
   "cell_type": "code",
   "execution_count": 843,
   "metadata": {},
   "outputs": [
    {
     "data": {
      "text/plain": [
       "0.2549454475637627"
      ]
     },
     "execution_count": 843,
     "metadata": {},
     "output_type": "execute_result"
    }
   ],
   "source": [
    "#Calcular el Ancho del Intervalo ( i )\n",
    "i = R/ni\n",
    "i"
   ]
  },
  {
   "cell_type": "code",
   "execution_count": 844,
   "metadata": {},
   "outputs": [
    {
     "data": {
      "text/plain": [
       "array([1.        , 1.36363636, 1.72727273, 2.09090909, 2.45454545,\n",
       "       2.81818182, 3.18181818, 3.54545455, 3.90909091, 4.27272727,\n",
       "       4.63636364, 5.        ])"
      ]
     },
     "execution_count": 844,
     "metadata": {},
     "output_type": "execute_result"
    }
   ],
   "source": [
    "intervalos = np.linspace(1.0, 5.0, 12) #Número de clases más uno\n",
    "intervalos"
   ]
  },
  {
   "cell_type": "code",
   "execution_count": 845,
   "metadata": {},
   "outputs": [],
   "source": [
    "categorias = [\"Categoría1\", \"Categoría2\", \"Categoría3\", \"Categoría4\",\n",
    "              \"Categoría5\", \"Categoría6\", \"Categoría7\", \"Categoría8\",\n",
    "              \"Categoría9\",\"Categoría10\",\"Categoría11\"]"
   ]
  },
  {
   "cell_type": "code",
   "execution_count": 846,
   "metadata": {},
   "outputs": [
    {
     "data": {
      "text/plain": [
       "0        Categoría11\n",
       "1        Categoría10\n",
       "2        Categoría11\n",
       "3        Categoría11\n",
       "4        Categoría11\n",
       "            ...     \n",
       "26577    Categoría11\n",
       "26578    Categoría11\n",
       "26579    Categoría11\n",
       "26580    Categoría11\n",
       "26581    Categoría11\n",
       "Name: review_scores_accuracy, Length: 26582, dtype: category\n",
       "Categories (11, object): ['Categoría1' < 'Categoría2' < 'Categoría3' < 'Categoría4' ... 'Categoría8' < 'Categoría9' < 'Categoría10' < 'Categoría11']"
      ]
     },
     "execution_count": 846,
     "metadata": {},
     "output_type": "execute_result"
    }
   ],
   "source": [
    "data[\"review_scores_accuracy\"] = pd.cut(x = data[\"review_scores_accuracy\"], bins = intervalos, labels = categorias)\n",
    "data[\"review_scores_accuracy\"]"
   ]
  },
  {
   "cell_type": "code",
   "execution_count": 847,
   "metadata": {},
   "outputs": [
    {
     "data": {
      "text/html": [
       "<div>\n",
       "<style scoped>\n",
       "    .dataframe tbody tr th:only-of-type {\n",
       "        vertical-align: middle;\n",
       "    }\n",
       "\n",
       "    .dataframe tbody tr th {\n",
       "        vertical-align: top;\n",
       "    }\n",
       "\n",
       "    .dataframe thead th {\n",
       "        text-align: right;\n",
       "    }\n",
       "</style>\n",
       "<table border=\"1\" class=\"dataframe\">\n",
       "  <thead>\n",
       "    <tr style=\"text-align: right;\">\n",
       "      <th></th>\n",
       "      <th>review_scores_accuracy</th>\n",
       "      <th>frequency</th>\n",
       "      <th>percentage</th>\n",
       "      <th>cumulative_perc</th>\n",
       "    </tr>\n",
       "  </thead>\n",
       "  <tbody>\n",
       "    <tr>\n",
       "      <th>0</th>\n",
       "      <td>Categoría11</td>\n",
       "      <td>23355</td>\n",
       "      <td>0.878602</td>\n",
       "      <td>0.880689</td>\n",
       "    </tr>\n",
       "    <tr>\n",
       "      <th>1</th>\n",
       "      <td>Categoría10</td>\n",
       "      <td>2103</td>\n",
       "      <td>0.079114</td>\n",
       "      <td>0.959991</td>\n",
       "    </tr>\n",
       "    <tr>\n",
       "      <th>2</th>\n",
       "      <td>Categoría9</td>\n",
       "      <td>693</td>\n",
       "      <td>0.026070</td>\n",
       "      <td>0.986123</td>\n",
       "    </tr>\n",
       "    <tr>\n",
       "      <th>3</th>\n",
       "      <td>Categoría8</td>\n",
       "      <td>137</td>\n",
       "      <td>0.005154</td>\n",
       "      <td>0.991289</td>\n",
       "    </tr>\n",
       "    <tr>\n",
       "      <th>4</th>\n",
       "      <td>Categoría6</td>\n",
       "      <td>107</td>\n",
       "      <td>0.004025</td>\n",
       "      <td>0.995324</td>\n",
       "    </tr>\n",
       "    <tr>\n",
       "      <th>5</th>\n",
       "      <td>Categoría7</td>\n",
       "      <td>77</td>\n",
       "      <td>0.002897</td>\n",
       "      <td>0.998228</td>\n",
       "    </tr>\n",
       "    <tr>\n",
       "      <th>6</th>\n",
       "      <td>Categoría3</td>\n",
       "      <td>29</td>\n",
       "      <td>0.001091</td>\n",
       "      <td>0.999321</td>\n",
       "    </tr>\n",
       "    <tr>\n",
       "      <th>7</th>\n",
       "      <td>Categoría5</td>\n",
       "      <td>14</td>\n",
       "      <td>0.000527</td>\n",
       "      <td>0.999849</td>\n",
       "    </tr>\n",
       "    <tr>\n",
       "      <th>8</th>\n",
       "      <td>Categoría2</td>\n",
       "      <td>2</td>\n",
       "      <td>0.000075</td>\n",
       "      <td>0.999925</td>\n",
       "    </tr>\n",
       "    <tr>\n",
       "      <th>9</th>\n",
       "      <td>Categoría4</td>\n",
       "      <td>2</td>\n",
       "      <td>0.000075</td>\n",
       "      <td>1.000000</td>\n",
       "    </tr>\n",
       "    <tr>\n",
       "      <th>10</th>\n",
       "      <td>Categoría1</td>\n",
       "      <td>0</td>\n",
       "      <td>0.000000</td>\n",
       "      <td>1.000000</td>\n",
       "    </tr>\n",
       "  </tbody>\n",
       "</table>\n",
       "</div>"
      ],
      "text/plain": [
       "   review_scores_accuracy  frequency  percentage  cumulative_perc\n",
       "0             Categoría11      23355    0.878602         0.880689\n",
       "1             Categoría10       2103    0.079114         0.959991\n",
       "2              Categoría9        693    0.026070         0.986123\n",
       "3              Categoría8        137    0.005154         0.991289\n",
       "4              Categoría6        107    0.004025         0.995324\n",
       "5              Categoría7         77    0.002897         0.998228\n",
       "6              Categoría3         29    0.001091         0.999321\n",
       "7              Categoría5         14    0.000527         0.999849\n",
       "8              Categoría2          2    0.000075         0.999925\n",
       "9              Categoría4          2    0.000075         1.000000\n",
       "10             Categoría1          0    0.000000         1.000000"
      ]
     },
     "execution_count": 847,
     "metadata": {},
     "output_type": "execute_result"
    }
   ],
   "source": [
    "#Obtengo un análisis univariado de una variable categórica en específico  \n",
    "data1 = freq_tbl(data[\"review_scores_accuracy\"])\n",
    "data1"
   ]
  },
  {
   "cell_type": "code",
   "execution_count": 848,
   "metadata": {},
   "outputs": [
    {
     "data": {
      "text/html": [
       "<div>\n",
       "<style scoped>\n",
       "    .dataframe tbody tr th:only-of-type {\n",
       "        vertical-align: middle;\n",
       "    }\n",
       "\n",
       "    .dataframe tbody tr th {\n",
       "        vertical-align: top;\n",
       "    }\n",
       "\n",
       "    .dataframe thead th {\n",
       "        text-align: right;\n",
       "    }\n",
       "</style>\n",
       "<table border=\"1\" class=\"dataframe\">\n",
       "  <thead>\n",
       "    <tr style=\"text-align: right;\">\n",
       "      <th></th>\n",
       "      <th>review_scores_accuracy</th>\n",
       "      <th>frequency</th>\n",
       "    </tr>\n",
       "  </thead>\n",
       "  <tbody>\n",
       "    <tr>\n",
       "      <th>0</th>\n",
       "      <td>Categoría11</td>\n",
       "      <td>23355</td>\n",
       "    </tr>\n",
       "    <tr>\n",
       "      <th>1</th>\n",
       "      <td>Categoría10</td>\n",
       "      <td>2103</td>\n",
       "    </tr>\n",
       "    <tr>\n",
       "      <th>2</th>\n",
       "      <td>Categoría9</td>\n",
       "      <td>693</td>\n",
       "    </tr>\n",
       "    <tr>\n",
       "      <th>3</th>\n",
       "      <td>Categoría8</td>\n",
       "      <td>137</td>\n",
       "    </tr>\n",
       "    <tr>\n",
       "      <th>4</th>\n",
       "      <td>Categoría6</td>\n",
       "      <td>107</td>\n",
       "    </tr>\n",
       "    <tr>\n",
       "      <th>5</th>\n",
       "      <td>Categoría7</td>\n",
       "      <td>77</td>\n",
       "    </tr>\n",
       "    <tr>\n",
       "      <th>6</th>\n",
       "      <td>Categoría3</td>\n",
       "      <td>29</td>\n",
       "    </tr>\n",
       "    <tr>\n",
       "      <th>7</th>\n",
       "      <td>Categoría5</td>\n",
       "      <td>14</td>\n",
       "    </tr>\n",
       "    <tr>\n",
       "      <th>8</th>\n",
       "      <td>Categoría2</td>\n",
       "      <td>2</td>\n",
       "    </tr>\n",
       "    <tr>\n",
       "      <th>9</th>\n",
       "      <td>Categoría4</td>\n",
       "      <td>2</td>\n",
       "    </tr>\n",
       "    <tr>\n",
       "      <th>10</th>\n",
       "      <td>Categoría1</td>\n",
       "      <td>0</td>\n",
       "    </tr>\n",
       "  </tbody>\n",
       "</table>\n",
       "</div>"
      ],
      "text/plain": [
       "   review_scores_accuracy  frequency\n",
       "0             Categoría11      23355\n",
       "1             Categoría10       2103\n",
       "2              Categoría9        693\n",
       "3              Categoría8        137\n",
       "4              Categoría6        107\n",
       "5              Categoría7         77\n",
       "6              Categoría3         29\n",
       "7              Categoría5         14\n",
       "8              Categoría2          2\n",
       "9              Categoría4          2\n",
       "10             Categoría1          0"
      ]
     },
     "execution_count": 848,
     "metadata": {},
     "output_type": "execute_result"
    }
   ],
   "source": [
    "#Elimino las columnas \"procentage\" y \"cumulative_perc\" para trabajar con las fecuencias\n",
    "table16 = data1.drop(['percentage', 'cumulative_perc'], axis=1)\n",
    "table16"
   ]
  },
  {
   "cell_type": "code",
   "execution_count": 849,
   "metadata": {},
   "outputs": [
    {
     "name": "stderr",
     "output_type": "stream",
     "text": [
      "C:\\Users\\HP\\AppData\\Local\\Temp\\ipykernel_13432\\1528683562.py:1: UserWarning: Boolean Series key will be reindexed to match DataFrame index.\n",
      "  filtro16 = table16[table2['frequency'] > 70]\n"
     ]
    },
    {
     "data": {
      "text/html": [
       "<div>\n",
       "<style scoped>\n",
       "    .dataframe tbody tr th:only-of-type {\n",
       "        vertical-align: middle;\n",
       "    }\n",
       "\n",
       "    .dataframe tbody tr th {\n",
       "        vertical-align: top;\n",
       "    }\n",
       "\n",
       "    .dataframe thead th {\n",
       "        text-align: right;\n",
       "    }\n",
       "</style>\n",
       "<table border=\"1\" class=\"dataframe\">\n",
       "  <thead>\n",
       "    <tr style=\"text-align: right;\">\n",
       "      <th></th>\n",
       "      <th>review_scores_accuracy</th>\n",
       "      <th>frequency</th>\n",
       "    </tr>\n",
       "  </thead>\n",
       "  <tbody>\n",
       "    <tr>\n",
       "      <th>0</th>\n",
       "      <td>Categoría11</td>\n",
       "      <td>23355</td>\n",
       "    </tr>\n",
       "    <tr>\n",
       "      <th>1</th>\n",
       "      <td>Categoría10</td>\n",
       "      <td>2103</td>\n",
       "    </tr>\n",
       "    <tr>\n",
       "      <th>2</th>\n",
       "      <td>Categoría9</td>\n",
       "      <td>693</td>\n",
       "    </tr>\n",
       "    <tr>\n",
       "      <th>3</th>\n",
       "      <td>Categoría8</td>\n",
       "      <td>137</td>\n",
       "    </tr>\n",
       "    <tr>\n",
       "      <th>4</th>\n",
       "      <td>Categoría6</td>\n",
       "      <td>107</td>\n",
       "    </tr>\n",
       "    <tr>\n",
       "      <th>5</th>\n",
       "      <td>Categoría7</td>\n",
       "      <td>77</td>\n",
       "    </tr>\n",
       "    <tr>\n",
       "      <th>6</th>\n",
       "      <td>Categoría3</td>\n",
       "      <td>29</td>\n",
       "    </tr>\n",
       "    <tr>\n",
       "      <th>7</th>\n",
       "      <td>Categoría5</td>\n",
       "      <td>14</td>\n",
       "    </tr>\n",
       "    <tr>\n",
       "      <th>8</th>\n",
       "      <td>Categoría2</td>\n",
       "      <td>2</td>\n",
       "    </tr>\n",
       "    <tr>\n",
       "      <th>9</th>\n",
       "      <td>Categoría4</td>\n",
       "      <td>2</td>\n",
       "    </tr>\n",
       "    <tr>\n",
       "      <th>10</th>\n",
       "      <td>Categoría1</td>\n",
       "      <td>0</td>\n",
       "    </tr>\n",
       "  </tbody>\n",
       "</table>\n",
       "</div>"
      ],
      "text/plain": [
       "   review_scores_accuracy  frequency\n",
       "0             Categoría11      23355\n",
       "1             Categoría10       2103\n",
       "2              Categoría9        693\n",
       "3              Categoría8        137\n",
       "4              Categoría6        107\n",
       "5              Categoría7         77\n",
       "6              Categoría3         29\n",
       "7              Categoría5         14\n",
       "8              Categoría2          2\n",
       "9              Categoría4          2\n",
       "10             Categoría1          0"
      ]
     },
     "execution_count": 849,
     "metadata": {},
     "output_type": "execute_result"
    }
   ],
   "source": [
    "filtro16 = table16[table2['frequency'] > 70]\n",
    "filtro16"
   ]
  },
  {
   "cell_type": "code",
   "execution_count": 850,
   "metadata": {},
   "outputs": [
    {
     "data": {
      "text/html": [
       "<div>\n",
       "<style scoped>\n",
       "    .dataframe tbody tr th:only-of-type {\n",
       "        vertical-align: middle;\n",
       "    }\n",
       "\n",
       "    .dataframe tbody tr th {\n",
       "        vertical-align: top;\n",
       "    }\n",
       "\n",
       "    .dataframe thead th {\n",
       "        text-align: right;\n",
       "    }\n",
       "</style>\n",
       "<table border=\"1\" class=\"dataframe\">\n",
       "  <thead>\n",
       "    <tr style=\"text-align: right;\">\n",
       "      <th></th>\n",
       "      <th>frequency</th>\n",
       "    </tr>\n",
       "    <tr>\n",
       "      <th>review_scores_accuracy</th>\n",
       "      <th></th>\n",
       "    </tr>\n",
       "  </thead>\n",
       "  <tbody>\n",
       "    <tr>\n",
       "      <th>Categoría11</th>\n",
       "      <td>23355</td>\n",
       "    </tr>\n",
       "    <tr>\n",
       "      <th>Categoría10</th>\n",
       "      <td>2103</td>\n",
       "    </tr>\n",
       "    <tr>\n",
       "      <th>Categoría9</th>\n",
       "      <td>693</td>\n",
       "    </tr>\n",
       "    <tr>\n",
       "      <th>Categoría8</th>\n",
       "      <td>137</td>\n",
       "    </tr>\n",
       "    <tr>\n",
       "      <th>Categoría6</th>\n",
       "      <td>107</td>\n",
       "    </tr>\n",
       "    <tr>\n",
       "      <th>Categoría7</th>\n",
       "      <td>77</td>\n",
       "    </tr>\n",
       "    <tr>\n",
       "      <th>Categoría3</th>\n",
       "      <td>29</td>\n",
       "    </tr>\n",
       "    <tr>\n",
       "      <th>Categoría5</th>\n",
       "      <td>14</td>\n",
       "    </tr>\n",
       "    <tr>\n",
       "      <th>Categoría2</th>\n",
       "      <td>2</td>\n",
       "    </tr>\n",
       "    <tr>\n",
       "      <th>Categoría4</th>\n",
       "      <td>2</td>\n",
       "    </tr>\n",
       "    <tr>\n",
       "      <th>Categoría1</th>\n",
       "      <td>0</td>\n",
       "    </tr>\n",
       "  </tbody>\n",
       "</table>\n",
       "</div>"
      ],
      "text/plain": [
       "                        frequency\n",
       "review_scores_accuracy           \n",
       "Categoría11                 23355\n",
       "Categoría10                  2103\n",
       "Categoría9                    693\n",
       "Categoría8                    137\n",
       "Categoría6                    107\n",
       "Categoría7                     77\n",
       "Categoría3                     29\n",
       "Categoría5                     14\n",
       "Categoría2                      2\n",
       "Categoría4                      2\n",
       "Categoría1                      0"
      ]
     },
     "execution_count": 850,
     "metadata": {},
     "output_type": "execute_result"
    }
   ],
   "source": [
    "#Ajusto el indice de mi DataFrame\n",
    "Filtro_index = filtro16.set_index(\"review_scores_accuracy\")\n",
    "Filtro_index"
   ]
  },
  {
   "cell_type": "code",
   "execution_count": 851,
   "metadata": {},
   "outputs": [
    {
     "data": {
      "text/plain": [
       "Text(0, 0.5, 'Frecuencia')"
      ]
     },
     "execution_count": 851,
     "metadata": {},
     "output_type": "execute_result"
    },
    {
     "data": {
      "image/png": "[encoded data removed]",
      "text/plain": [
       "<Figure size 1000x400 with 1 Axes>"
      ]
     },
     "metadata": {},
     "output_type": "display_data"
    }
   ],
   "source": [
    "#Realizamos grafico de barras del Dataframe filtrado\n",
    "Filtro_index.plot(kind = 'bar', width=0.8, figsize=(10,4), color = \"red\")\n",
    "plt.title('Precisión de las  puntuaciones de Revisión')\n",
    "plt.xlabel('Puntuaciones')\n",
    "plt.ylabel('Frecuencia')"
   ]
  }
 ],
 "metadata": {
  "kernelspec": {
   "display_name": "Python 3",
   "language": "python",
   "name": "python3"
  },
  "language_info": {
   "codemirror_mode": {
    "name": "ipython",
    "version": 3
   },
   "file_extension": ".py",
   "mimetype": "text/x-python",
   "name": "python",
   "nbconvert_exporter": "python",
   "pygments_lexer": "ipython3",
   "version": "3.12.4"
  }
 },
 "nbformat": 4,
 "nbformat_minor": 2
}
